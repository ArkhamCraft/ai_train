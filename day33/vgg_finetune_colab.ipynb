{
  "cells": [
    {
      "cell_type": "code",
      "execution_count": 1,
      "metadata": {
        "id": "-HT8VG68y2EZ"
      },
      "outputs": [],
      "source": [
        "import torch\n",
        "import torchvision\n",
        "import numpy as np\n",
        "import matplotlib.pyplot as plt\n",
        "from torchvision import datasets, transforms\n",
        "from classificatiom_model import EarlyStopping, ModelSaver,train_classification_model,plot_learning_curves\n",
        "from classificatiom_model import evaluate_classification_model as evaluate_model"
      ]
    },
    {
      "cell_type": "code",
      "execution_count": 2,
      "metadata": {
        "id": "Y2c3bcSuy2EZ"
      },
      "outputs": [],
      "source": [
        "import json\n",
        "token = {\"username\":\"eviltrashcan\",\"key\":\"5a0836e4ef86086fdadf624206bd1421\"}\n",
        "with open('/content/kaggle.json', 'w') as file:\n",
        "  json.dump(token, file)"
      ]
    },
    {
      "cell_type": "code",
      "execution_count": 3,
      "metadata": {
        "colab": {
          "base_uri": "https://localhost:8080/"
        },
        "id": "U-P30BgDy2EZ",
        "outputId": "534462df-6aa9-4284-974b-ca9520cf383a"
      },
      "outputs": [
        {
          "output_type": "stream",
          "name": "stdout",
          "text": [
            "{\"username\": \"eviltrashcan\", \"key\": \"5a0836e4ef86086fdadf624206bd1421\"}"
          ]
        }
      ],
      "source": [
        "!cat /content/kaggle.json"
      ]
    },
    {
      "cell_type": "code",
      "execution_count": 4,
      "metadata": {
        "colab": {
          "base_uri": "https://localhost:8080/"
        },
        "id": "YAQN71ony2EZ",
        "outputId": "f9efc6a8-eb3e-474c-a4c1-c19f13714c8e"
      },
      "outputs": [
        {
          "output_type": "stream",
          "name": "stdout",
          "text": [
            "- path is now set to: /content\n"
          ]
        }
      ],
      "source": [
        "!mkdir -p ~/.kaggle\n",
        "!cp /content/kaggle.json ~/.kaggle/\n",
        "!chmod 600 ~/.kaggle/kaggle.json\n",
        "!kaggle config set -n path -v /content"
      ]
    },
    {
      "cell_type": "code",
      "execution_count": 5,
      "metadata": {
        "colab": {
          "base_uri": "https://localhost:8080/"
        },
        "id": "ok9BU-9Ny2Ea",
        "outputId": "fabea7fc-70b2-45e8-8704-45b484942d98"
      },
      "outputs": [
        {
          "output_type": "stream",
          "name": "stdout",
          "text": [
            "Downloading cifar-10.zip to /content/competitions/cifar-10\n",
            " 97% 694M/715M [00:07<00:00, 294MB/s]\n",
            "100% 715M/715M [00:07<00:00, 105MB/s]\n"
          ]
        }
      ],
      "source": [
        "!kaggle competitions download -c cifar-10"
      ]
    },
    {
      "cell_type": "code",
      "execution_count": 6,
      "metadata": {
        "colab": {
          "base_uri": "https://localhost:8080/"
        },
        "id": "i0TUORhny2Ea",
        "outputId": "ae29f5de-416b-46c5-b0ca-3921400ae6c7"
      },
      "outputs": [
        {
          "output_type": "stream",
          "name": "stdout",
          "text": [
            "Archive:  /content/competitions/cifar-10/cifar-10.zip\n",
            "  inflating: sampleSubmission.csv    \n",
            "  inflating: test.7z                 \n",
            "  inflating: train.7z                \n",
            "  inflating: trainLabels.csv         \n"
          ]
        }
      ],
      "source": [
        "!unzip /content/competitions/cifar-10/cifar-10.zip"
      ]
    },
    {
      "cell_type": "code",
      "execution_count": 7,
      "metadata": {
        "colab": {
          "base_uri": "https://localhost:8080/"
        },
        "id": "vSS2yeG2y2Ea",
        "outputId": "3106768f-61d7-4ed2-ef5a-6a92d7bc4769"
      },
      "outputs": [
        {
          "output_type": "stream",
          "name": "stdout",
          "text": [
            "Collecting py7zr\n",
            "  Downloading py7zr-1.0.0-py3-none-any.whl.metadata (17 kB)\n",
            "Collecting texttable (from py7zr)\n",
            "  Downloading texttable-1.7.0-py2.py3-none-any.whl.metadata (9.8 kB)\n",
            "Requirement already satisfied: pycryptodomex>=3.20.0 in /usr/local/lib/python3.11/dist-packages (from py7zr) (3.23.0)\n",
            "Collecting brotli>=1.1.0 (from py7zr)\n",
            "  Downloading Brotli-1.1.0-cp311-cp311-manylinux_2_17_x86_64.manylinux2014_x86_64.whl.metadata (5.5 kB)\n",
            "Requirement already satisfied: psutil in /usr/local/lib/python3.11/dist-packages (from py7zr) (5.9.5)\n",
            "Collecting pyzstd>=0.16.1 (from py7zr)\n",
            "  Downloading pyzstd-0.17.0-cp311-cp311-manylinux_2_17_x86_64.manylinux2014_x86_64.whl.metadata (2.5 kB)\n",
            "Collecting pyppmd<1.3.0,>=1.1.0 (from py7zr)\n",
            "  Downloading pyppmd-1.2.0-cp311-cp311-manylinux_2_17_x86_64.manylinux2014_x86_64.whl.metadata (5.4 kB)\n",
            "Collecting pybcj<1.1.0,>=1.0.0 (from py7zr)\n",
            "  Downloading pybcj-1.0.6-cp311-cp311-manylinux_2_17_x86_64.manylinux2014_x86_64.whl.metadata (3.7 kB)\n",
            "Collecting multivolumefile>=0.2.3 (from py7zr)\n",
            "  Downloading multivolumefile-0.2.3-py3-none-any.whl.metadata (6.3 kB)\n",
            "Collecting inflate64<1.1.0,>=1.0.0 (from py7zr)\n",
            "  Downloading inflate64-1.0.3-cp311-cp311-manylinux_2_17_x86_64.manylinux2014_x86_64.whl.metadata (4.4 kB)\n",
            "Requirement already satisfied: typing-extensions>=4.13.2 in /usr/local/lib/python3.11/dist-packages (from pyzstd>=0.16.1->py7zr) (4.14.0)\n",
            "Downloading py7zr-1.0.0-py3-none-any.whl (69 kB)\n",
            "\u001b[2K   \u001b[90m━━━━━━━━━━━━━━━━━━━━━━━━━━━━━━━━━━━━━━━━\u001b[0m \u001b[32m69.7/69.7 kB\u001b[0m \u001b[31m7.7 MB/s\u001b[0m eta \u001b[36m0:00:00\u001b[0m\n",
            "\u001b[?25hDownloading Brotli-1.1.0-cp311-cp311-manylinux_2_17_x86_64.manylinux2014_x86_64.whl (2.9 MB)\n",
            "\u001b[2K   \u001b[90m━━━━━━━━━━━━━━━━━━━━━━━━━━━━━━━━━━━━━━━━\u001b[0m \u001b[32m2.9/2.9 MB\u001b[0m \u001b[31m82.5 MB/s\u001b[0m eta \u001b[36m0:00:00\u001b[0m\n",
            "\u001b[?25hDownloading inflate64-1.0.3-cp311-cp311-manylinux_2_17_x86_64.manylinux2014_x86_64.whl (96 kB)\n",
            "\u001b[2K   \u001b[90m━━━━━━━━━━━━━━━━━━━━━━━━━━━━━━━━━━━━━━━━\u001b[0m \u001b[32m96.4/96.4 kB\u001b[0m \u001b[31m12.3 MB/s\u001b[0m eta \u001b[36m0:00:00\u001b[0m\n",
            "\u001b[?25hDownloading multivolumefile-0.2.3-py3-none-any.whl (17 kB)\n",
            "Downloading pybcj-1.0.6-cp311-cp311-manylinux_2_17_x86_64.manylinux2014_x86_64.whl (50 kB)\n",
            "\u001b[2K   \u001b[90m━━━━━━━━━━━━━━━━━━━━━━━━━━━━━━━━━━━━━━━━\u001b[0m \u001b[32m50.7/50.7 kB\u001b[0m \u001b[31m5.6 MB/s\u001b[0m eta \u001b[36m0:00:00\u001b[0m\n",
            "\u001b[?25hDownloading pyppmd-1.2.0-cp311-cp311-manylinux_2_17_x86_64.manylinux2014_x86_64.whl (141 kB)\n",
            "\u001b[2K   \u001b[90m━━━━━━━━━━━━━━━━━━━━━━━━━━━━━━━━━━━━━━━━\u001b[0m \u001b[32m141.3/141.3 kB\u001b[0m \u001b[31m17.0 MB/s\u001b[0m eta \u001b[36m0:00:00\u001b[0m\n",
            "\u001b[?25hDownloading pyzstd-0.17.0-cp311-cp311-manylinux_2_17_x86_64.manylinux2014_x86_64.whl (412 kB)\n",
            "\u001b[2K   \u001b[90m━━━━━━━━━━━━━━━━━━━━━━━━━━━━━━━━━━━━━━━━\u001b[0m \u001b[32m412.9/412.9 kB\u001b[0m \u001b[31m40.6 MB/s\u001b[0m eta \u001b[36m0:00:00\u001b[0m\n",
            "\u001b[?25hDownloading texttable-1.7.0-py2.py3-none-any.whl (10 kB)\n",
            "Installing collected packages: texttable, brotli, pyzstd, pyppmd, pybcj, multivolumefile, inflate64, py7zr\n",
            "Successfully installed brotli-1.1.0 inflate64-1.0.3 multivolumefile-0.2.3 py7zr-1.0.0 pybcj-1.0.6 pyppmd-1.2.0 pyzstd-0.17.0 texttable-1.7.0\n"
          ]
        }
      ],
      "source": [
        "%pip install py7zr\n",
        "import py7zr\n",
        "a =py7zr.SevenZipFile(r'./train.7z','r')\n",
        "a.extractall(path=r'./competitions/cifar-10/')\n",
        "a.close()"
      ]
    },
    {
      "cell_type": "code",
      "execution_count": 8,
      "metadata": {
        "colab": {
          "base_uri": "https://localhost:8080/"
        },
        "id": "TJCDy0i8y2Ea",
        "outputId": "0069a915-c36f-4a41-9e64-0a31a6b3554f"
      },
      "outputs": [
        {
          "output_type": "stream",
          "name": "stdout",
          "text": [
            "50000\n"
          ]
        }
      ],
      "source": [
        "!ls competitions/cifar-10/train|wc -l"
      ]
    },
    {
      "cell_type": "code",
      "execution_count": 33,
      "metadata": {
        "colab": {
          "base_uri": "https://localhost:8080/"
        },
        "id": "P8p89R1Cy2Ea",
        "outputId": "ffb4e218-f517-4810-825e-41e257bf4cb7"
      },
      "outputs": [
        {
          "output_type": "stream",
          "name": "stdout",
          "text": [
            "完整数据集大小: 50000\n",
            "训练集大小: 45000\n",
            "验证集大小: 5000\n"
          ]
        }
      ],
      "source": [
        "# 加载CIFAR-10数据集\n",
        "import os\n",
        "import pandas as pd\n",
        "from PIL import Image\n",
        "from torch.utils.data import Dataset\n",
        "\n",
        "# 定义CIFAR-10数据集类\n",
        "class CIFAR10Dataset(Dataset):\n",
        "    def __init__(self, img_dir, labels_file, transform=None):\n",
        "        self.img_dir = img_dir\n",
        "        self.transform = transform\n",
        "\n",
        "        # 读取标签文件，read_csv默认读取第一行作为列名\n",
        "        self.labels_df = pd.read_csv(labels_file)\n",
        "        self.img_names = self.labels_df.iloc[:, 0].values.astype(str)  # 第一列是图片名称，确保为字符串类型\n",
        "\n",
        "        # 类别名称字典，使用字典可以提高查找速度\n",
        "        self.class_names_dict = {'airplane': 0, 'automobile': 1, 'bird': 2, 'cat': 3,\n",
        "                                 'deer': 4, 'dog': 5, 'frog': 6, 'horse': 7, 'ship': 8, 'truck': 9}\n",
        "        # 将文本标签转换为数字ID\n",
        "        self.labels = [self.class_names_dict[label] for label in self.labels_df.iloc[:, 1].values]\n",
        "\n",
        "    def __len__(self):\n",
        "        return len(self.labels)\n",
        "\n",
        "    def __getitem__(self, idx):\n",
        "        img_path = os.path.join(self.img_dir, self.img_names[idx] + '.png') #图片路径\n",
        "        image = Image.open(img_path) #打开图片\n",
        "        label = self.labels[idx]\n",
        "\n",
        "        if self.transform:\n",
        "            image_tensor = self.transform(image)\n",
        "\n",
        "        return image_tensor, label\n",
        "\n",
        "# 定义数据预处理\n",
        "transform = transforms.Compose([\n",
        "    transforms.ToTensor(),\n",
        "    transforms.Normalize((0.4917, 0.4823, 0.4467), (0.2024, 0.1995, 0.2010))\n",
        "])\n",
        "\n",
        "# colab加载CIFAR-10数据集\n",
        "img_dir = r\"competitions/cifar-10/train\"\n",
        "labels_file = r\"./trainLabels.csv\"\n",
        "\n",
        "# img_dir = r\"D:\\BaiduNetdiskDownload\\1.Python11期\\深度学习代码\\cifar-10\\train\"\n",
        "# labels_file = r\"D:\\BaiduNetdiskDownload\\1.Python11期\\深度学习代码\\cifar-10\\trainLabels.csv\"\n",
        "full_dataset = CIFAR10Dataset(img_dir=img_dir, labels_file=labels_file, transform=transform)\n",
        "\n",
        "# 定义类别名称\n",
        "class_names = ['airplane', 'automobile', 'bird', 'cat', 'deer', 'dog', 'frog', 'horse', 'ship', 'truck']\n",
        "\n",
        "# 划分训练集和验证集\n",
        "train_size = 45000\n",
        "val_size = 5000\n",
        "generator = torch.Generator().manual_seed(42)\n",
        "train_dataset, val_dataset = torch.utils.data.random_split(\n",
        "    full_dataset,\n",
        "    [train_size, val_size],\n",
        "    generator=generator\n",
        ")\n",
        "\n",
        "# 查看数据集基本信息\n",
        "print(f\"完整数据集大小: {len(full_dataset)}\")\n",
        "print(f\"训练集大小: {len(train_dataset)}\")\n",
        "print(f\"验证集大小: {len(val_dataset)}\")\n"
      ]
    },
    {
      "cell_type": "code",
      "execution_count": 34,
      "metadata": {
        "id": "S7ouEYMty2Eb"
      },
      "outputs": [],
      "source": [
        "\n",
        "# 创建数据加载器\n",
        "batch_size = 64\n",
        "train_loader = torch.utils.data.DataLoader(\n",
        "    train_dataset,\n",
        "    batch_size=batch_size,\n",
        "    shuffle=True #打乱数据集，每次迭代时，数据集的顺序都会被打乱\n",
        ")\n",
        "\n",
        "val_loader = torch.utils.data.DataLoader(\n",
        "    val_dataset,\n",
        "    batch_size=batch_size,\n",
        "    shuffle=False\n",
        ")\n",
        "\n",
        "\n"
      ]
    },
    {
      "cell_type": "code",
      "execution_count": 35,
      "metadata": {
        "id": "n4olHuRqy2Eb"
      },
      "outputs": [],
      "source": [
        "import torch.nn as nn\n",
        "import torch.nn.functional as F\n",
        "\n",
        "class VGG11(nn.Module):\n",
        "    def __init__(self):\n",
        "        super().__init__()\n",
        "\n",
        "        # VGG11架构的卷积层配置\n",
        "        # 第一个卷积块 - 1个卷积层\n",
        "        self.conv_block1 = nn.Sequential(\n",
        "            nn.Conv2d(3, 64, kernel_size=3, padding=1),\n",
        "            nn.BatchNorm2d(64),\n",
        "            nn.ReLU(),\n",
        "            nn.MaxPool2d(kernel_size=2, stride=2)\n",
        "        )\n",
        "\n",
        "        # 第二个卷积块 - 1个卷积层\n",
        "        self.conv_block2 = nn.Sequential(\n",
        "            nn.Conv2d(64, 128, kernel_size=3, padding=1),\n",
        "            nn.BatchNorm2d(128),\n",
        "            nn.ReLU(),\n",
        "            nn.MaxPool2d(kernel_size=2, stride=2)\n",
        "        )\n",
        "\n",
        "        # 第三个卷积块 - 2个卷积层\n",
        "        self.conv_block3 = nn.Sequential(\n",
        "            nn.Conv2d(128, 256, kernel_size=3, padding=1),\n",
        "            nn.BatchNorm2d(256),\n",
        "            nn.ReLU(),\n",
        "            nn.Conv2d(256, 256, kernel_size=3, padding=1),\n",
        "            nn.BatchNorm2d(256),\n",
        "            nn.ReLU(),\n",
        "            nn.MaxPool2d(kernel_size=2, stride=2)\n",
        "        )\n",
        "\n",
        "        # 第四个卷积块 - 2个卷积层\n",
        "        self.conv_block4 = nn.Sequential(\n",
        "            nn.Conv2d(256, 512, kernel_size=3, padding=1),\n",
        "            nn.BatchNorm2d(512),\n",
        "            nn.ReLU(),\n",
        "            nn.Conv2d(512, 512, kernel_size=3, padding=1),\n",
        "            nn.BatchNorm2d(512),\n",
        "            nn.ReLU(),\n",
        "            nn.MaxPool2d(kernel_size=2, stride=2)\n",
        "        )\n",
        "\n",
        "        # 第五个卷积块 - 2个卷积层\n",
        "        self.conv_block5 = nn.Sequential(\n",
        "            nn.Conv2d(512, 512, kernel_size=3, padding=1),\n",
        "            nn.BatchNorm2d(512),\n",
        "            nn.ReLU(),\n",
        "            nn.Conv2d(512, 512, kernel_size=3, padding=1),\n",
        "            nn.BatchNorm2d(512),\n",
        "            nn.ReLU(),\n",
        "            nn.MaxPool2d(kernel_size=2, stride=2)\n",
        "        )\n",
        "\n",
        "        # 全连接层 - 适配CIFAR-10的10个类别\n",
        "        self.classifier = nn.Sequential(\n",
        "            nn.Linear(512, 4096),\n",
        "            nn.ReLU(),\n",
        "            nn.Dropout(0.5),\n",
        "            nn.Linear(4096, 1024),\n",
        "            nn.ReLU(),\n",
        "            nn.Dropout(0.5),\n",
        "            nn.Linear(1024, 10)  # 10分类\n",
        "        )\n",
        "\n",
        "        # 初始化权重\n",
        "        self.init_weights()\n",
        "\n",
        "    def init_weights(self):\n",
        "        \"\"\"使用xavier均匀分布初始化权重\"\"\"\n",
        "        for m in self.modules():\n",
        "            if isinstance(m, nn.Conv2d) or isinstance(m, nn.Linear):\n",
        "                nn.init.xavier_uniform_(m.weight)\n",
        "                if m.bias is not None:\n",
        "                    nn.init.zeros_(m.bias)\n",
        "    @classmethod\n",
        "    def from_pretrained(cls, weights_path):\n",
        "        \"\"\"\n",
        "        从预训练权重加载模型，并弹出分类层权重\n",
        "\n",
        "        参数:\n",
        "            weights_path: 预训练权重文件路径\n",
        "\n",
        "        返回:\n",
        "            加载了预训练权重的模型实例\n",
        "        \"\"\"\n",
        "        # 创建模型实例\n",
        "        model = cls()\n",
        "\n",
        "        # 加载预训练权重\n",
        "        pretrained_weights = torch.load(weights_path)\n",
        "\n",
        "        # 创建新的权重字典，排除分类器的最后一层\n",
        "        model_dict = model.state_dict()\n",
        "        pretrained_dict = {k: v for k, v in pretrained_weights.items()\n",
        "                          if k in model_dict and 'classifier.6' not in k}\n",
        "\n",
        "        # 更新模型权重\n",
        "        model_dict.update(pretrained_dict)\n",
        "        model.load_state_dict(model_dict)\n",
        "\n",
        "        print(f\"成功加载预训练权重，排除了分类器的最后一层\")\n",
        "\n",
        "        return model\n",
        "    def forward(self, x):\n",
        "        # 卷积块前向传播\n",
        "        x = self.conv_block1(x)\n",
        "        x = self.conv_block2(x)\n",
        "        x = self.conv_block3(x)\n",
        "        x = self.conv_block4(x)\n",
        "        x = self.conv_block5(x)\n",
        "\n",
        "        # 展平操作 - CIFAR-10经过5次下采样后为1x1\n",
        "        x = x.view(x.size(0), -1)\n",
        "\n",
        "        # 分类器\n",
        "        x = self.classifier(x)\n",
        "\n",
        "        return x\n"
      ]
    },
    {
      "cell_type": "code",
      "execution_count": 36,
      "metadata": {
        "colab": {
          "base_uri": "https://localhost:8080/"
        },
        "id": "p2608Sl7y2Eb",
        "outputId": "fbd1acae-d130-46a6-a7ba-ba07af19d615"
      },
      "outputs": [
        {
          "output_type": "stream",
          "name": "stdout",
          "text": [
            "批次图像形状: torch.Size([64, 3, 32, 32])\n",
            "批次标签形状: torch.Size([64])\n",
            "----------------------------------------------------------------------------------------------------\n",
            "torch.Size([64, 10])\n"
          ]
        }
      ],
      "source": [
        "model = VGG11()\n",
        "\n",
        "# 从train_loader获取第一个批次的数据\n",
        "dataiter = iter(train_loader)\n",
        "images, labels = next(dataiter)\n",
        "\n",
        "# 查看批次数据的形状\n",
        "print(\"批次图像形状:\", images.shape)\n",
        "print(\"批次标签形状:\", labels.shape)\n",
        "\n",
        "\n",
        "print('-'*100)\n",
        "# 进行前向传播\n",
        "with torch.no_grad():  # 不需要计算梯度\n",
        "    outputs = model(images)\n",
        "\n",
        "\n",
        "print(outputs.shape)"
      ]
    },
    {
      "cell_type": "code",
      "execution_count": 37,
      "metadata": {
        "colab": {
          "base_uri": "https://localhost:8080/"
        },
        "id": "TMxO6PW-y2Eb",
        "outputId": "ab7e2fd9-1e4d-4de9-b851-a46e65061a6a"
      },
      "outputs": [
        {
          "output_type": "stream",
          "name": "stdout",
          "text": [
            "需要求梯度的参数总量: 15532810\n",
            "模型总参数量: 15532810\n",
            "\n",
            "各层参数量明细:\n",
            "conv_block1.0.weight: 1728 参数\n",
            "conv_block1.0.bias: 64 参数\n",
            "conv_block1.1.weight: 64 参数\n",
            "conv_block1.1.bias: 64 参数\n",
            "conv_block2.0.weight: 73728 参数\n",
            "conv_block2.0.bias: 128 参数\n",
            "conv_block2.1.weight: 128 参数\n",
            "conv_block2.1.bias: 128 参数\n",
            "conv_block3.0.weight: 294912 参数\n",
            "conv_block3.0.bias: 256 参数\n",
            "conv_block3.1.weight: 256 参数\n",
            "conv_block3.1.bias: 256 参数\n",
            "conv_block3.3.weight: 589824 参数\n",
            "conv_block3.3.bias: 256 参数\n",
            "conv_block3.4.weight: 256 参数\n",
            "conv_block3.4.bias: 256 参数\n",
            "conv_block4.0.weight: 1179648 参数\n",
            "conv_block4.0.bias: 512 参数\n",
            "conv_block4.1.weight: 512 参数\n",
            "conv_block4.1.bias: 512 参数\n",
            "conv_block4.3.weight: 2359296 参数\n",
            "conv_block4.3.bias: 512 参数\n",
            "conv_block4.4.weight: 512 参数\n",
            "conv_block4.4.bias: 512 参数\n",
            "conv_block5.0.weight: 2359296 参数\n",
            "conv_block5.0.bias: 512 参数\n",
            "conv_block5.1.weight: 512 参数\n",
            "conv_block5.1.bias: 512 参数\n",
            "conv_block5.3.weight: 2359296 参数\n",
            "conv_block5.3.bias: 512 参数\n",
            "conv_block5.4.weight: 512 参数\n",
            "conv_block5.4.bias: 512 参数\n",
            "classifier.0.weight: 2097152 参数\n",
            "classifier.0.bias: 4096 参数\n",
            "classifier.3.weight: 4194304 参数\n",
            "classifier.3.bias: 1024 参数\n",
            "classifier.6.weight: 10240 参数\n",
            "classifier.6.bias: 10 参数\n"
          ]
        }
      ],
      "source": [
        "# 计算模型的总参数量\n",
        "# 统计需要求梯度的参数总量\n",
        "total_params = sum(p.numel() for p in model.parameters() if p.requires_grad)\n",
        "print(f\"需要求梯度的参数总量: {total_params}\")\n",
        "\n",
        "# 统计所有参数总量\n",
        "all_params = sum(p.numel() for p in model.parameters())\n",
        "print(f\"模型总参数量: {all_params}\")\n",
        "\n",
        "# 查看每层参数量明细\n",
        "print(\"\\n各层参数量明细:\")\n",
        "for name, param in model.named_parameters():\n",
        "    print(f\"{name}: {param.numel()} 参数\")"
      ]
    },
    {
      "cell_type": "code",
      "execution_count": 38,
      "metadata": {
        "colab": {
          "base_uri": "https://localhost:8080/"
        },
        "id": "fdVmBjSVy2Eb",
        "outputId": "9dad135c-3211-4748-e558-b7ad45add2fd"
      },
      "outputs": [
        {
          "output_type": "stream",
          "name": "stdout",
          "text": [
            "损失函数: CrossEntropyLoss()\n"
          ]
        }
      ],
      "source": [
        "# 定义损失函数和优化器\n",
        "loss_fn = nn.CrossEntropyLoss()  # 交叉熵损失函数，适用于多分类问题，里边会做softmax，还有会把0-9标签转换成one-hot编码\n",
        "optimizer = torch.optim.SGD(model.parameters(), lr=0.001, momentum=0.9)  # SGD优化器，学习率为0.01，动量为0.9\n",
        "print(\"损失函数:\", loss_fn)"
      ]
    },
    {
      "cell_type": "code",
      "execution_count": 39,
      "metadata": {
        "colab": {
          "base_uri": "https://localhost:8080/",
          "height": 116,
          "referenced_widgets": [
            "b042e6960ddb483b9e522a01b69ad3ac",
            "18296a459372494ba99f76fbace09530",
            "852c173757f84c66a1a96460b556da4a",
            "70b2bbdf96fe4e3792571fcc76c813d8",
            "a9670f1da2d441faaae2edcb81ea53a6",
            "273b233db5ce49d6bf172aaf0ce1d74e",
            "c5614ffc82bc4300838928d5cc561cbe",
            "73fc7cfba57347cd9f73d92851bfa3c8",
            "cccc4bed31934e028c6e6b20f471216c",
            "de8db5078f1e47f0a46139688ebd3a63",
            "201f7865a48f41adb475c6a1741fe770"
          ]
        },
        "id": "n7BGk6dqy2Eb",
        "outputId": "e6bfcca5-6d43-4415-e90a-03b7075a7f6f"
      },
      "outputs": [
        {
          "output_type": "stream",
          "name": "stdout",
          "text": [
            "使用设备: cuda:0\n"
          ]
        },
        {
          "output_type": "display_data",
          "data": {
            "text/plain": [
              "Training Progress:   0%|          | 0/35200 [00:00<?, ?it/s]"
            ],
            "application/vnd.jupyter.widget-view+json": {
              "version_major": 2,
              "version_minor": 0,
              "model_id": "b042e6960ddb483b9e522a01b69ad3ac"
            }
          },
          "metadata": {}
        },
        {
          "output_type": "stream",
          "name": "stdout",
          "text": [
            "早停触发! 最佳验证准确率: 77.2200\n",
            "早停: 已有5轮验证损失没有改善！\n"
          ]
        }
      ],
      "source": [
        "device = torch.device(\"cuda:0\" if torch.cuda.is_available() else \"cpu\")\n",
        "print(f\"使用设备: {device}\")\n",
        "model = model.to(device) #将模型移动到GPU\n",
        "early_stopping=EarlyStopping(patience=5, delta=0.001)\n",
        "model_saver=ModelSaver(save_dir='model_weights', save_best_only=True)\n",
        "\n",
        "\n",
        "model, history = train_classification_model(model, train_loader, val_loader, loss_fn, optimizer, device, num_epochs=50, early_stopping=early_stopping, model_saver=model_saver, tensorboard_logger=None)\n",
        "\n"
      ]
    },
    {
      "cell_type": "code",
      "execution_count": 40,
      "metadata": {
        "colab": {
          "base_uri": "https://localhost:8080/"
        },
        "id": "gmzI0Dpoy2Ec",
        "outputId": "9963b813-47e8-406c-936d-878a4f08364a"
      },
      "outputs": [
        {
          "output_type": "execute_result",
          "data": {
            "text/plain": [
              "[{'loss': 0.1434479057788849, 'acc': 92.1875, 'step': 12401},\n",
              " {'loss': 0.08717828243970871, 'acc': 96.875, 'step': 12402},\n",
              " {'loss': 0.07934840768575668, 'acc': 95.3125, 'step': 12403},\n",
              " {'loss': 0.0535917654633522, 'acc': 96.875, 'step': 12404},\n",
              " {'loss': 0.007040044758468866, 'acc': 100.0, 'step': 12405},\n",
              " {'loss': 0.07034635543823242, 'acc': 98.4375, 'step': 12406},\n",
              " {'loss': 0.008346416056156158, 'acc': 100.0, 'step': 12407},\n",
              " {'loss': 0.09083695709705353, 'acc': 95.3125, 'step': 12408},\n",
              " {'loss': 0.06718821078538895, 'acc': 95.3125, 'step': 12409},\n",
              " {'loss': 0.174764946103096, 'acc': 93.75, 'step': 12410},\n",
              " {'loss': 0.029408110305666924, 'acc': 98.4375, 'step': 12411},\n",
              " {'loss': 0.02697279304265976, 'acc': 98.4375, 'step': 12412},\n",
              " {'loss': 0.07670120894908905, 'acc': 95.3125, 'step': 12413},\n",
              " {'loss': 0.1337641030550003, 'acc': 95.3125, 'step': 12414},\n",
              " {'loss': 0.02404642477631569, 'acc': 98.4375, 'step': 12415},\n",
              " {'loss': 0.20535686612129211, 'acc': 93.75, 'step': 12416},\n",
              " {'loss': 0.06030949205160141, 'acc': 98.4375, 'step': 12417},\n",
              " {'loss': 0.040064532309770584, 'acc': 98.4375, 'step': 12418},\n",
              " {'loss': 0.029771560803055763, 'acc': 98.4375, 'step': 12419},\n",
              " {'loss': 0.09753696620464325, 'acc': 96.875, 'step': 12420},\n",
              " {'loss': 0.02945646084845066, 'acc': 100.0, 'step': 12421},\n",
              " {'loss': 0.05892723426222801, 'acc': 98.4375, 'step': 12422},\n",
              " {'loss': 0.057833652943372726, 'acc': 96.875, 'step': 12423},\n",
              " {'loss': 0.10487081855535507, 'acc': 95.3125, 'step': 12424},\n",
              " {'loss': 0.021610336378216743, 'acc': 98.4375, 'step': 12425},\n",
              " {'loss': 0.06638561934232712, 'acc': 98.4375, 'step': 12426},\n",
              " {'loss': 0.1939835548400879, 'acc': 95.3125, 'step': 12427},\n",
              " {'loss': 0.04174680635333061, 'acc': 100.0, 'step': 12428},\n",
              " {'loss': 0.04002583771944046, 'acc': 98.4375, 'step': 12429},\n",
              " {'loss': 0.1266554594039917, 'acc': 96.875, 'step': 12430},\n",
              " {'loss': 0.011741220019757748, 'acc': 100.0, 'step': 12431},\n",
              " {'loss': 0.05677831918001175, 'acc': 98.4375, 'step': 12432},\n",
              " {'loss': 0.11923974752426147, 'acc': 95.3125, 'step': 12433},\n",
              " {'loss': 0.036778926849365234, 'acc': 98.4375, 'step': 12434},\n",
              " {'loss': 0.03983208164572716, 'acc': 100.0, 'step': 12435},\n",
              " {'loss': 0.09041482955217361, 'acc': 96.875, 'step': 12436},\n",
              " {'loss': 0.016576290130615234, 'acc': 98.4375, 'step': 12437},\n",
              " {'loss': 0.05516956001520157, 'acc': 96.875, 'step': 12438},\n",
              " {'loss': 0.010973116382956505, 'acc': 100.0, 'step': 12439},\n",
              " {'loss': 0.08145014196634293, 'acc': 96.875, 'step': 12440},\n",
              " {'loss': 0.05639621615409851, 'acc': 96.875, 'step': 12441},\n",
              " {'loss': 0.20607149600982666, 'acc': 96.875, 'step': 12442},\n",
              " {'loss': 0.047863420099020004, 'acc': 96.875, 'step': 12443},\n",
              " {'loss': 0.013715210370719433, 'acc': 100.0, 'step': 12444},\n",
              " {'loss': 0.014108074828982353, 'acc': 100.0, 'step': 12445},\n",
              " {'loss': 0.08467011153697968, 'acc': 98.4375, 'step': 12446},\n",
              " {'loss': 0.06242185831069946, 'acc': 96.875, 'step': 12447},\n",
              " {'loss': 0.029759114608168602, 'acc': 98.4375, 'step': 12448},\n",
              " {'loss': 0.05318820849061012, 'acc': 96.875, 'step': 12449},\n",
              " {'loss': 0.018979649990797043, 'acc': 98.4375, 'step': 12450},\n",
              " {'loss': 0.04211130365729332, 'acc': 96.875, 'step': 12451},\n",
              " {'loss': 0.024068189784884453, 'acc': 98.4375, 'step': 12452},\n",
              " {'loss': 0.04823976382613182, 'acc': 98.4375, 'step': 12453},\n",
              " {'loss': 0.011487712152302265, 'acc': 100.0, 'step': 12454},\n",
              " {'loss': 0.0880773738026619, 'acc': 96.875, 'step': 12455},\n",
              " {'loss': 0.057733938097953796, 'acc': 96.875, 'step': 12456},\n",
              " {'loss': 0.10772482305765152, 'acc': 93.75, 'step': 12457},\n",
              " {'loss': 0.06719335168600082, 'acc': 98.4375, 'step': 12458},\n",
              " {'loss': 0.039827510714530945, 'acc': 98.4375, 'step': 12459},\n",
              " {'loss': 0.2204730212688446, 'acc': 93.75, 'step': 12460},\n",
              " {'loss': 0.05404520034790039, 'acc': 98.4375, 'step': 12461},\n",
              " {'loss': 0.02340332232415676, 'acc': 100.0, 'step': 12462},\n",
              " {'loss': 0.08594516664743423, 'acc': 95.3125, 'step': 12463},\n",
              " {'loss': 0.14506779611110687, 'acc': 93.75, 'step': 12464},\n",
              " {'loss': 0.062499649822711945, 'acc': 96.875, 'step': 12465},\n",
              " {'loss': 0.04026508331298828, 'acc': 98.4375, 'step': 12466},\n",
              " {'loss': 0.06854669749736786, 'acc': 98.4375, 'step': 12467},\n",
              " {'loss': 0.08278249949216843, 'acc': 95.3125, 'step': 12468},\n",
              " {'loss': 0.00964343175292015, 'acc': 100.0, 'step': 12469},\n",
              " {'loss': 0.11089646071195602, 'acc': 95.3125, 'step': 12470},\n",
              " {'loss': 0.09517503529787064, 'acc': 96.875, 'step': 12471},\n",
              " {'loss': 0.015309623442590237, 'acc': 100.0, 'step': 12472},\n",
              " {'loss': 0.11888603866100311, 'acc': 95.3125, 'step': 12473},\n",
              " {'loss': 0.03653591498732567, 'acc': 98.4375, 'step': 12474},\n",
              " {'loss': 0.032233525067567825, 'acc': 98.4375, 'step': 12475},\n",
              " {'loss': 0.08737949281930923, 'acc': 96.875, 'step': 12476},\n",
              " {'loss': 0.040433045476675034, 'acc': 98.4375, 'step': 12477},\n",
              " {'loss': 0.1318044364452362, 'acc': 95.3125, 'step': 12478},\n",
              " {'loss': 0.006053335964679718, 'acc': 100.0, 'step': 12479},\n",
              " {'loss': 0.11293346434831619, 'acc': 93.75, 'step': 12480},\n",
              " {'loss': 0.04786757752299309, 'acc': 98.4375, 'step': 12481},\n",
              " {'loss': 0.009590956382453442, 'acc': 100.0, 'step': 12482},\n",
              " {'loss': 0.014862236566841602, 'acc': 98.4375, 'step': 12483},\n",
              " {'loss': 0.12030095607042313, 'acc': 98.4375, 'step': 12484},\n",
              " {'loss': 0.09655023366212845, 'acc': 95.3125, 'step': 12485},\n",
              " {'loss': 0.15881776809692383, 'acc': 96.875, 'step': 12486},\n",
              " {'loss': 0.0380469374358654, 'acc': 98.4375, 'step': 12487},\n",
              " {'loss': 0.029857482761144638, 'acc': 100.0, 'step': 12488},\n",
              " {'loss': 0.013093234971165657, 'acc': 100.0, 'step': 12489},\n",
              " {'loss': 0.11586689949035645, 'acc': 95.3125, 'step': 12490},\n",
              " {'loss': 0.1060040146112442, 'acc': 96.875, 'step': 12491},\n",
              " {'loss': 0.11537906527519226, 'acc': 95.3125, 'step': 12492},\n",
              " {'loss': 0.0398775190114975, 'acc': 98.4375, 'step': 12493},\n",
              " {'loss': 0.05013425275683403, 'acc': 98.4375, 'step': 12494},\n",
              " {'loss': 0.014511181972920895, 'acc': 100.0, 'step': 12495},\n",
              " {'loss': 0.050603628158569336, 'acc': 96.875, 'step': 12496},\n",
              " {'loss': 0.04115564748644829, 'acc': 98.4375, 'step': 12497},\n",
              " {'loss': 0.04052020236849785, 'acc': 98.4375, 'step': 12498},\n",
              " {'loss': 0.07988815754652023, 'acc': 95.3125, 'step': 12499}]"
            ]
          },
          "metadata": {},
          "execution_count": 40
        }
      ],
      "source": [
        "history['train'][-100:-1]"
      ]
    },
    {
      "cell_type": "code",
      "execution_count": 41,
      "metadata": {
        "colab": {
          "base_uri": "https://localhost:8080/"
        },
        "id": "As6c7XRWy2Ec",
        "outputId": "e5ba010a-c6b7-4ba7-efe2-542996760455"
      },
      "outputs": [
        {
          "output_type": "execute_result",
          "data": {
            "text/plain": [
              "[{'loss': 2.3025691623687745, 'acc': 9.5, 'step': 0},\n",
              " {'loss': 1.2760900115966798, 'acc': 53.74, 'step': 500},\n",
              " {'loss': 1.0288335013389587, 'acc': 63.0, 'step': 1000},\n",
              " {'loss': 0.8913479409217835, 'acc': 68.4, 'step': 1500},\n",
              " {'loss': 0.8484761702537537, 'acc': 69.64, 'step': 2000},\n",
              " {'loss': 0.8346018046855926, 'acc': 70.86, 'step': 2500},\n",
              " {'loss': 0.7863626203536987, 'acc': 71.84, 'step': 3000},\n",
              " {'loss': 0.8084477039337158, 'acc': 72.7, 'step': 3500},\n",
              " {'loss': 0.8634909759521484, 'acc': 71.78, 'step': 4000},\n",
              " {'loss': 0.8082450190544128, 'acc': 74.58, 'step': 4500},\n",
              " {'loss': 1.0154708999633788, 'acc': 71.04, 'step': 5000},\n",
              " {'loss': 0.8673457593917847, 'acc': 76.18, 'step': 5500},\n",
              " {'loss': 0.9602110995292663, 'acc': 73.66, 'step': 6000},\n",
              " {'loss': 0.9172555541038513, 'acc': 76.0, 'step': 6500},\n",
              " {'loss': 0.9415875043869019, 'acc': 74.98, 'step': 7000},\n",
              " {'loss': 0.9763499993562699, 'acc': 76.26, 'step': 7500},\n",
              " {'loss': 0.976363981962204, 'acc': 77.12, 'step': 8000},\n",
              " {'loss': 0.9652860417366028, 'acc': 74.6, 'step': 8500},\n",
              " {'loss': 1.040930888557434, 'acc': 75.64, 'step': 9000},\n",
              " {'loss': 1.0968056364536285, 'acc': 75.4, 'step': 9500},\n",
              " {'loss': 0.9383551369667054, 'acc': 77.22, 'step': 10000},\n",
              " {'loss': 1.035125513267517, 'acc': 77.14, 'step': 10500},\n",
              " {'loss': 1.1113496843338013, 'acc': 76.66, 'step': 11000},\n",
              " {'loss': 1.075720840072632, 'acc': 77.12, 'step': 11500},\n",
              " {'loss': 1.1697422027587892, 'acc': 74.58, 'step': 12000}]"
            ]
          },
          "metadata": {},
          "execution_count": 41
        }
      ],
      "source": [
        "history['val'][-1000:-1]"
      ]
    },
    {
      "cell_type": "code",
      "execution_count": 42,
      "metadata": {
        "colab": {
          "base_uri": "https://localhost:8080/",
          "height": 375
        },
        "id": "AHoDmcBMy2Ec",
        "outputId": "cc88f06e-a58f-4234-82e6-00049bc7a3a0"
      },
      "outputs": [
        {
          "output_type": "display_data",
          "data": {
            "text/plain": [
              "<Figure size 1000x500 with 2 Axes>"
            ],
            "image/png": "[encoded data removed]"
          },
          "metadata": {}
        }
      ],
      "source": [
        "plot_learning_curves(history, sample_step=500)  #横坐标是 steps"
      ]
    },
    {
      "cell_type": "code",
      "source": [
        "# 加载最佳模型权重\n",
        "best_model = VGG11()\n",
        "best_model.to(device)\n",
        "\n",
        "# 从保存的权重文件中加载模型\n",
        "model_path = os.path.join('model_weights', 'model_epoch_14_acc_77.2200.pth')\n",
        "\n",
        "best_model.load_state_dict(torch.load(model_path))\n",
        "print(f\"成功加载模型权重: {model_path}\")\n",
        "\n",
        "\n",
        "# 在验证集上评估模型\n",
        "val_accuracy, val_loss = evaluate_model(best_model, val_loader, device, loss_fn)\n",
        "print(f\"验证集准确率: {val_accuracy:.2f}%\")\n",
        "print(f\"验证集损失: {val_loss:.4f}\")"
      ],
      "metadata": {
        "colab": {
          "base_uri": "https://localhost:8080/"
        },
        "id": "7WUP4Tfc2AmR",
        "outputId": "c7e7ccab-b0ce-4e6c-d78b-ea7540768261"
      },
      "execution_count": 44,
      "outputs": [
        {
          "output_type": "stream",
          "name": "stdout",
          "text": [
            "成功加载模型权重: model_weights/model_epoch_14_acc_77.2200.pth\n",
            "验证集准确率: 77.22%\n",
            "验证集损失: 0.9384\n"
          ]
        }
      ]
    },
    {
      "cell_type": "code",
      "source": [
        "# 定义一个函数来获取预训练的VGG11模型并设置不同层的学习率\n",
        "def get_finetuned_model(num_classes=10):\n",
        "    # 加载预训练的VGG11模型\n",
        "    model = VGG11.from_pretrained(model_path)\n",
        "\n",
        "    # 将模型移至设备\n",
        "    model = model.to(device)\n",
        "\n",
        "    # 为不同层设置不同的学习率\n",
        "    # 冻结特征提取层参数或使用较小的学习率\n",
        "    feature_params = []\n",
        "    classifier_params = []\n",
        "\n",
        "    # 将参数分为特征提取层和分类层\n",
        "    for name, param in model.named_parameters():\n",
        "        if 'classifier' in name:\n",
        "            if '6' in name:  # 最后一层（新添加的分类层）\n",
        "                classifier_params.append(param)\n",
        "            else:  # 分类器的其他层\n",
        "                feature_params.append(param)\n",
        "        else:  # 特征提取层\n",
        "            feature_params.append(param)\n",
        "\n",
        "    # 创建优化器，对不同层使用不同的学习率\n",
        "    optimizer = torch.optim.Adam([\n",
        "        {'params': feature_params, 'lr': 1e-5},  # 特征提取层使用较小的学习率\n",
        "        {'params': classifier_params, 'lr': 1e-3}  # 分类层使用较大的学习率\n",
        "    ])\n",
        "\n",
        "    return model, optimizer\n",
        "\n",
        "# 获取微调模型和优化器\n",
        "finetune_model, finetune_optimizer = get_finetuned_model()\n",
        "\n",
        "# 训练微调模型\n",
        "finetune_early_stopping = EarlyStopping(patience=5)\n",
        "finetune_model_saver = ModelSaver(save_dir='finetune_model_weights', save_best_only=True)\n",
        "\n",
        "print(\"开始微调预训练的VGG11模型...\")\n",
        "finetune_model, finetune_history = train_classification_model(\n",
        "    finetune_model,\n",
        "    train_loader,\n",
        "    val_loader,\n",
        "    loss_fn,\n",
        "    finetune_optimizer,\n",
        "    device,\n",
        "    num_epochs=20,\n",
        "    early_stopping=finetune_early_stopping,\n",
        "    model_saver=finetune_model_saver\n",
        ")\n",
        "\n",
        "# 绘制微调模型的学习曲线\n",
        "plot_learning_curves(finetune_history, sample_step=500)\n",
        "\n",
        "# 评估微调后的模型\n",
        "finetune_val_accuracy, finetune_val_loss = evaluate_model(finetune_model, val_loader, device, loss_fn)\n",
        "print(f\"微调后模型在验证集上的准确率: {finetune_val_accuracy:.2f}%\")\n",
        "print(f\"微调后模型在验证集上的损失: {finetune_val_loss:.4f}\")\n",
        "\n",
        "# 比较原始模型和微调模型的性能\n",
        "print(\"\\n性能比较:\")\n",
        "print(f\"原始模型验证集准确率: {val_accuracy:.2f}%\")\n",
        "print(f\"微调模型验证集准确率: {finetune_val_accuracy:.2f}%\")\n",
        "print(f\"准确率提升: {finetune_val_accuracy - val_accuracy:.2f}%\")\n"
      ],
      "metadata": {
        "colab": {
          "base_uri": "https://localhost:8080/",
          "height": 610,
          "referenced_widgets": [
            "b31246f1754749029732bd944dd319ad",
            "1793371b133348e998b5be49ab73a97e",
            "57ad721e39c64c39aa5182f360094495",
            "f41bc268f0854e8ba7236c08b471b112",
            "e2daa53cff80418c93684eaae4e630a0",
            "42821c91b7d2450e90359f3013549d71",
            "8b1d015b42dd4f00ad227248a5c6558e",
            "f1f0b27019ac46c59b9c0a2d4b60081a",
            "34c5450ba53c40448b28216139b07049",
            "751062af54694e02a3858b7827797be8",
            "a6bf854bea664974b921d5ce7b9cdbda"
          ]
        },
        "id": "ZLehpQqG2DHH",
        "outputId": "f11def16-bcc4-4b4f-d7ef-9efaf6787dc0"
      },
      "execution_count": 46,
      "outputs": [
        {
          "output_type": "stream",
          "name": "stdout",
          "text": [
            "成功加载预训练权重，排除了分类器的最后一层\n",
            "开始微调预训练的VGG11模型...\n"
          ]
        },
        {
          "output_type": "display_data",
          "data": {
            "text/plain": [
              "Training Progress:   0%|          | 0/14080 [00:00<?, ?it/s]"
            ],
            "application/vnd.jupyter.widget-view+json": {
              "version_major": 2,
              "version_minor": 0,
              "model_id": "b31246f1754749029732bd944dd319ad"
            }
          },
          "metadata": {}
        },
        {
          "output_type": "stream",
          "name": "stdout",
          "text": [
            "早停触发! 最佳验证准确率: 79.4600\n",
            "早停: 已有5轮验证损失没有改善！\n"
          ]
        },
        {
          "output_type": "display_data",
          "data": {
            "text/plain": [
              "<Figure size 1000x500 with 2 Axes>"
            ],
            "image/png": "[encoded data removed]"
          },
          "metadata": {}
        },
        {
          "output_type": "stream",
          "name": "stdout",
          "text": [
            "微调后模型在验证集上的准确率: 79.12%\n",
            "微调后模型在验证集上的损失: 1.4586\n",
            "\n",
            "性能比较:\n",
            "原始模型验证集准确率: 77.22%\n",
            "微调模型验证集准确率: 79.12%\n",
            "准确率提升: 1.90%\n"
          ]
        }
      ]
    }
  ],
  "metadata": {
    "kernelspec": {
      "display_name": "Python 3",
      "name": "python3"
    },
    "language_info": {
      "codemirror_mode": {
        "name": "ipython",
        "version": 3
      },
      "file_extension": ".py",
      "mimetype": "text/x-python",
      "name": "python",
      "nbconvert_exporter": "python",
      "pygments_lexer": "ipython3",
      "version": "3.12.3"
    },
    "colab": {
      "provenance": [],
      "gpuType": "T4"
    },
    "accelerator": "GPU",
    "widgets": {
      "application/vnd.jupyter.widget-state+json": {
        "b042e6960ddb483b9e522a01b69ad3ac": {
          "model_module": "@jupyter-widgets/controls",
          "model_name": "HBoxModel",
          "model_module_version": "1.5.0",
          "state": {
            "_dom_classes": [],
            "_model_module": "@jupyter-widgets/controls",
            "_model_module_version": "1.5.0",
            "_model_name": "HBoxModel",
            "_view_count": null,
            "_view_module": "@jupyter-widgets/controls",
            "_view_module_version": "1.5.0",
            "_view_name": "HBoxView",
            "box_style": "",
            "children": [
              "IPY_MODEL_18296a459372494ba99f76fbace09530",
              "IPY_MODEL_852c173757f84c66a1a96460b556da4a",
              "IPY_MODEL_70b2bbdf96fe4e3792571fcc76c813d8"
            ],
            "layout": "IPY_MODEL_a9670f1da2d441faaae2edcb81ea53a6"
          }
        },
        "18296a459372494ba99f76fbace09530": {
          "model_module": "@jupyter-widgets/controls",
          "model_name": "HTMLModel",
          "model_module_version": "1.5.0",
          "state": {
            "_dom_classes": [],
            "_model_module": "@jupyter-widgets/controls",
            "_model_module_version": "1.5.0",
            "_model_name": "HTMLModel",
            "_view_count": null,
            "_view_module": "@jupyter-widgets/controls",
            "_view_module_version": "1.5.0",
            "_view_name": "HTMLView",
            "description": "",
            "description_tooltip": null,
            "layout": "IPY_MODEL_273b233db5ce49d6bf172aaf0ce1d74e",
            "placeholder": "​",
            "style": "IPY_MODEL_c5614ffc82bc4300838928d5cc561cbe",
            "value": "Training Progress:  36%"
          }
        },
        "852c173757f84c66a1a96460b556da4a": {
          "model_module": "@jupyter-widgets/controls",
          "model_name": "FloatProgressModel",
          "model_module_version": "1.5.0",
          "state": {
            "_dom_classes": [],
            "_model_module": "@jupyter-widgets/controls",
            "_model_module_version": "1.5.0",
            "_model_name": "FloatProgressModel",
            "_view_count": null,
            "_view_module": "@jupyter-widgets/controls",
            "_view_module_version": "1.5.0",
            "_view_name": "ProgressView",
            "bar_style": "danger",
            "description": "",
            "description_tooltip": null,
            "layout": "IPY_MODEL_73fc7cfba57347cd9f73d92851bfa3c8",
            "max": 35200,
            "min": 0,
            "orientation": "horizontal",
            "style": "IPY_MODEL_cccc4bed31934e028c6e6b20f471216c",
            "value": 12500
          }
        },
        "70b2bbdf96fe4e3792571fcc76c813d8": {
          "model_module": "@jupyter-widgets/controls",
          "model_name": "HTMLModel",
          "model_module_version": "1.5.0",
          "state": {
            "_dom_classes": [],
            "_model_module": "@jupyter-widgets/controls",
            "_model_module_version": "1.5.0",
            "_model_name": "HTMLModel",
            "_view_count": null,
            "_view_module": "@jupyter-widgets/controls",
            "_view_module_version": "1.5.0",
            "_view_name": "HTMLView",
            "description": "",
            "description_tooltip": null,
            "layout": "IPY_MODEL_de8db5078f1e47f0a46139688ebd3a63",
            "placeholder": "​",
            "style": "IPY_MODEL_201f7865a48f41adb475c6a1741fe770",
            "value": " 12500/35200 [11:14&lt;17:18, 21.86it/s, epoch=17, loss=0.0799, acc=95.31%, val_acc=74.58%]"
          }
        },
        "a9670f1da2d441faaae2edcb81ea53a6": {
          "model_module": "@jupyter-widgets/base",
          "model_name": "LayoutModel",
          "model_module_version": "1.2.0",
          "state": {
            "_model_module": "@jupyter-widgets/base",
            "_model_module_version": "1.2.0",
            "_model_name": "LayoutModel",
            "_view_count": null,
            "_view_module": "@jupyter-widgets/base",
            "_view_module_version": "1.2.0",
            "_view_name": "LayoutView",
            "align_content": null,
            "align_items": null,
            "align_self": null,
            "border": null,
            "bottom": null,
            "display": null,
            "flex": null,
            "flex_flow": null,
            "grid_area": null,
            "grid_auto_columns": null,
            "grid_auto_flow": null,
            "grid_auto_rows": null,
            "grid_column": null,
            "grid_gap": null,
            "grid_row": null,
            "grid_template_areas": null,
            "grid_template_columns": null,
            "grid_template_rows": null,
            "height": null,
            "justify_content": null,
            "justify_items": null,
            "left": null,
            "margin": null,
            "max_height": null,
            "max_width": null,
            "min_height": null,
            "min_width": null,
            "object_fit": null,
            "object_position": null,
            "order": null,
            "overflow": null,
            "overflow_x": null,
            "overflow_y": null,
            "padding": null,
            "right": null,
            "top": null,
            "visibility": null,
            "width": null
          }
        },
        "273b233db5ce49d6bf172aaf0ce1d74e": {
          "model_module": "@jupyter-widgets/base",
          "model_name": "LayoutModel",
          "model_module_version": "1.2.0",
          "state": {
            "_model_module": "@jupyter-widgets/base",
            "_model_module_version": "1.2.0",
            "_model_name": "LayoutModel",
            "_view_count": null,
            "_view_module": "@jupyter-widgets/base",
            "_view_module_version": "1.2.0",
            "_view_name": "LayoutView",
            "align_content": null,
            "align_items": null,
            "align_self": null,
            "border": null,
            "bottom": null,
            "display": null,
            "flex": null,
            "flex_flow": null,
            "grid_area": null,
            "grid_auto_columns": null,
            "grid_auto_flow": null,
            "grid_auto_rows": null,
            "grid_column": null,
            "grid_gap": null,
            "grid_row": null,
            "grid_template_areas": null,
            "grid_template_columns": null,
            "grid_template_rows": null,
            "height": null,
            "justify_content": null,
            "justify_items": null,
            "left": null,
            "margin": null,
            "max_height": null,
            "max_width": null,
            "min_height": null,
            "min_width": null,
            "object_fit": null,
            "object_position": null,
            "order": null,
            "overflow": null,
            "overflow_x": null,
            "overflow_y": null,
            "padding": null,
            "right": null,
            "top": null,
            "visibility": null,
            "width": null
          }
        },
        "c5614ffc82bc4300838928d5cc561cbe": {
          "model_module": "@jupyter-widgets/controls",
          "model_name": "DescriptionStyleModel",
          "model_module_version": "1.5.0",
          "state": {
            "_model_module": "@jupyter-widgets/controls",
            "_model_module_version": "1.5.0",
            "_model_name": "DescriptionStyleModel",
            "_view_count": null,
            "_view_module": "@jupyter-widgets/base",
            "_view_module_version": "1.2.0",
            "_view_name": "StyleView",
            "description_width": ""
          }
        },
        "73fc7cfba57347cd9f73d92851bfa3c8": {
          "model_module": "@jupyter-widgets/base",
          "model_name": "LayoutModel",
          "model_module_version": "1.2.0",
          "state": {
            "_model_module": "@jupyter-widgets/base",
            "_model_module_version": "1.2.0",
            "_model_name": "LayoutModel",
            "_view_count": null,
            "_view_module": "@jupyter-widgets/base",
            "_view_module_version": "1.2.0",
            "_view_name": "LayoutView",
            "align_content": null,
            "align_items": null,
            "align_self": null,
            "border": null,
            "bottom": null,
            "display": null,
            "flex": null,
            "flex_flow": null,
            "grid_area": null,
            "grid_auto_columns": null,
            "grid_auto_flow": null,
            "grid_auto_rows": null,
            "grid_column": null,
            "grid_gap": null,
            "grid_row": null,
            "grid_template_areas": null,
            "grid_template_columns": null,
            "grid_template_rows": null,
            "height": null,
            "justify_content": null,
            "justify_items": null,
            "left": null,
            "margin": null,
            "max_height": null,
            "max_width": null,
            "min_height": null,
            "min_width": null,
            "object_fit": null,
            "object_position": null,
            "order": null,
            "overflow": null,
            "overflow_x": null,
            "overflow_y": null,
            "padding": null,
            "right": null,
            "top": null,
            "visibility": null,
            "width": null
          }
        },
        "cccc4bed31934e028c6e6b20f471216c": {
          "model_module": "@jupyter-widgets/controls",
          "model_name": "ProgressStyleModel",
          "model_module_version": "1.5.0",
          "state": {
            "_model_module": "@jupyter-widgets/controls",
            "_model_module_version": "1.5.0",
            "_model_name": "ProgressStyleModel",
            "_view_count": null,
            "_view_module": "@jupyter-widgets/base",
            "_view_module_version": "1.2.0",
            "_view_name": "StyleView",
            "bar_color": null,
            "description_width": ""
          }
        },
        "de8db5078f1e47f0a46139688ebd3a63": {
          "model_module": "@jupyter-widgets/base",
          "model_name": "LayoutModel",
          "model_module_version": "1.2.0",
          "state": {
            "_model_module": "@jupyter-widgets/base",
            "_model_module_version": "1.2.0",
            "_model_name": "LayoutModel",
            "_view_count": null,
            "_view_module": "@jupyter-widgets/base",
            "_view_module_version": "1.2.0",
            "_view_name": "LayoutView",
            "align_content": null,
            "align_items": null,
            "align_self": null,
            "border": null,
            "bottom": null,
            "display": null,
            "flex": null,
            "flex_flow": null,
            "grid_area": null,
            "grid_auto_columns": null,
            "grid_auto_flow": null,
            "grid_auto_rows": null,
            "grid_column": null,
            "grid_gap": null,
            "grid_row": null,
            "grid_template_areas": null,
            "grid_template_columns": null,
            "grid_template_rows": null,
            "height": null,
            "justify_content": null,
            "justify_items": null,
            "left": null,
            "margin": null,
            "max_height": null,
            "max_width": null,
            "min_height": null,
            "min_width": null,
            "object_fit": null,
            "object_position": null,
            "order": null,
            "overflow": null,
            "overflow_x": null,
            "overflow_y": null,
            "padding": null,
            "right": null,
            "top": null,
            "visibility": null,
            "width": null
          }
        },
        "201f7865a48f41adb475c6a1741fe770": {
          "model_module": "@jupyter-widgets/controls",
          "model_name": "DescriptionStyleModel",
          "model_module_version": "1.5.0",
          "state": {
            "_model_module": "@jupyter-widgets/controls",
            "_model_module_version": "1.5.0",
            "_model_name": "DescriptionStyleModel",
            "_view_count": null,
            "_view_module": "@jupyter-widgets/base",
            "_view_module_version": "1.2.0",
            "_view_name": "StyleView",
            "description_width": ""
          }
        },
        "b31246f1754749029732bd944dd319ad": {
          "model_module": "@jupyter-widgets/controls",
          "model_name": "HBoxModel",
          "model_module_version": "1.5.0",
          "state": {
            "_dom_classes": [],
            "_model_module": "@jupyter-widgets/controls",
            "_model_module_version": "1.5.0",
            "_model_name": "HBoxModel",
            "_view_count": null,
            "_view_module": "@jupyter-widgets/controls",
            "_view_module_version": "1.5.0",
            "_view_name": "HBoxView",
            "box_style": "",
            "children": [
              "IPY_MODEL_1793371b133348e998b5be49ab73a97e",
              "IPY_MODEL_57ad721e39c64c39aa5182f360094495",
              "IPY_MODEL_f41bc268f0854e8ba7236c08b471b112"
            ],
            "layout": "IPY_MODEL_e2daa53cff80418c93684eaae4e630a0"
          }
        },
        "1793371b133348e998b5be49ab73a97e": {
          "model_module": "@jupyter-widgets/controls",
          "model_name": "HTMLModel",
          "model_module_version": "1.5.0",
          "state": {
            "_dom_classes": [],
            "_model_module": "@jupyter-widgets/controls",
            "_model_module_version": "1.5.0",
            "_model_name": "HTMLModel",
            "_view_count": null,
            "_view_module": "@jupyter-widgets/controls",
            "_view_module_version": "1.5.0",
            "_view_name": "HTMLView",
            "description": "",
            "description_tooltip": null,
            "layout": "IPY_MODEL_42821c91b7d2450e90359f3013549d71",
            "placeholder": "​",
            "style": "IPY_MODEL_8b1d015b42dd4f00ad227248a5c6558e",
            "value": "Training Progress:  21%"
          }
        },
        "57ad721e39c64c39aa5182f360094495": {
          "model_module": "@jupyter-widgets/controls",
          "model_name": "FloatProgressModel",
          "model_module_version": "1.5.0",
          "state": {
            "_dom_classes": [],
            "_model_module": "@jupyter-widgets/controls",
            "_model_module_version": "1.5.0",
            "_model_name": "FloatProgressModel",
            "_view_count": null,
            "_view_module": "@jupyter-widgets/controls",
            "_view_module_version": "1.5.0",
            "_view_name": "ProgressView",
            "bar_style": "danger",
            "description": "",
            "description_tooltip": null,
            "layout": "IPY_MODEL_f1f0b27019ac46c59b9c0a2d4b60081a",
            "max": 14080,
            "min": 0,
            "orientation": "horizontal",
            "style": "IPY_MODEL_34c5450ba53c40448b28216139b07049",
            "value": 3000
          }
        },
        "f41bc268f0854e8ba7236c08b471b112": {
          "model_module": "@jupyter-widgets/controls",
          "model_name": "HTMLModel",
          "model_module_version": "1.5.0",
          "state": {
            "_dom_classes": [],
            "_model_module": "@jupyter-widgets/controls",
            "_model_module_version": "1.5.0",
            "_model_name": "HTMLModel",
            "_view_count": null,
            "_view_module": "@jupyter-widgets/controls",
            "_view_module_version": "1.5.0",
            "_view_name": "HTMLView",
            "description": "",
            "description_tooltip": null,
            "layout": "IPY_MODEL_751062af54694e02a3858b7827797be8",
            "placeholder": "​",
            "style": "IPY_MODEL_a6bf854bea664974b921d5ce7b9cdbda",
            "value": " 3000/14080 [02:48&lt;09:31, 19.40it/s, epoch=4, loss=0.0002, acc=100.00%, val_acc=78.84%]"
          }
        },
        "e2daa53cff80418c93684eaae4e630a0": {
          "model_module": "@jupyter-widgets/base",
          "model_name": "LayoutModel",
          "model_module_version": "1.2.0",
          "state": {
            "_model_module": "@jupyter-widgets/base",
            "_model_module_version": "1.2.0",
            "_model_name": "LayoutModel",
            "_view_count": null,
            "_view_module": "@jupyter-widgets/base",
            "_view_module_version": "1.2.0",
            "_view_name": "LayoutView",
            "align_content": null,
            "align_items": null,
            "align_self": null,
            "border": null,
            "bottom": null,
            "display": null,
            "flex": null,
            "flex_flow": null,
            "grid_area": null,
            "grid_auto_columns": null,
            "grid_auto_flow": null,
            "grid_auto_rows": null,
            "grid_column": null,
            "grid_gap": null,
            "grid_row": null,
            "grid_template_areas": null,
            "grid_template_columns": null,
            "grid_template_rows": null,
            "height": null,
            "justify_content": null,
            "justify_items": null,
            "left": null,
            "margin": null,
            "max_height": null,
            "max_width": null,
            "min_height": null,
            "min_width": null,
            "object_fit": null,
            "object_position": null,
            "order": null,
            "overflow": null,
            "overflow_x": null,
            "overflow_y": null,
            "padding": null,
            "right": null,
            "top": null,
            "visibility": null,
            "width": null
          }
        },
        "42821c91b7d2450e90359f3013549d71": {
          "model_module": "@jupyter-widgets/base",
          "model_name": "LayoutModel",
          "model_module_version": "1.2.0",
          "state": {
            "_model_module": "@jupyter-widgets/base",
            "_model_module_version": "1.2.0",
            "_model_name": "LayoutModel",
            "_view_count": null,
            "_view_module": "@jupyter-widgets/base",
            "_view_module_version": "1.2.0",
            "_view_name": "LayoutView",
            "align_content": null,
            "align_items": null,
            "align_self": null,
            "border": null,
            "bottom": null,
            "display": null,
            "flex": null,
            "flex_flow": null,
            "grid_area": null,
            "grid_auto_columns": null,
            "grid_auto_flow": null,
            "grid_auto_rows": null,
            "grid_column": null,
            "grid_gap": null,
            "grid_row": null,
            "grid_template_areas": null,
            "grid_template_columns": null,
            "grid_template_rows": null,
            "height": null,
            "justify_content": null,
            "justify_items": null,
            "left": null,
            "margin": null,
            "max_height": null,
            "max_width": null,
            "min_height": null,
            "min_width": null,
            "object_fit": null,
            "object_position": null,
            "order": null,
            "overflow": null,
            "overflow_x": null,
            "overflow_y": null,
            "padding": null,
            "right": null,
            "top": null,
            "visibility": null,
            "width": null
          }
        },
        "8b1d015b42dd4f00ad227248a5c6558e": {
          "model_module": "@jupyter-widgets/controls",
          "model_name": "DescriptionStyleModel",
          "model_module_version": "1.5.0",
          "state": {
            "_model_module": "@jupyter-widgets/controls",
            "_model_module_version": "1.5.0",
            "_model_name": "DescriptionStyleModel",
            "_view_count": null,
            "_view_module": "@jupyter-widgets/base",
            "_view_module_version": "1.2.0",
            "_view_name": "StyleView",
            "description_width": ""
          }
        },
        "f1f0b27019ac46c59b9c0a2d4b60081a": {
          "model_module": "@jupyter-widgets/base",
          "model_name": "LayoutModel",
          "model_module_version": "1.2.0",
          "state": {
            "_model_module": "@jupyter-widgets/base",
            "_model_module_version": "1.2.0",
            "_model_name": "LayoutModel",
            "_view_count": null,
            "_view_module": "@jupyter-widgets/base",
            "_view_module_version": "1.2.0",
            "_view_name": "LayoutView",
            "align_content": null,
            "align_items": null,
            "align_self": null,
            "border": null,
            "bottom": null,
            "display": null,
            "flex": null,
            "flex_flow": null,
            "grid_area": null,
            "grid_auto_columns": null,
            "grid_auto_flow": null,
            "grid_auto_rows": null,
            "grid_column": null,
            "grid_gap": null,
            "grid_row": null,
            "grid_template_areas": null,
            "grid_template_columns": null,
            "grid_template_rows": null,
            "height": null,
            "justify_content": null,
            "justify_items": null,
            "left": null,
            "margin": null,
            "max_height": null,
            "max_width": null,
            "min_height": null,
            "min_width": null,
            "object_fit": null,
            "object_position": null,
            "order": null,
            "overflow": null,
            "overflow_x": null,
            "overflow_y": null,
            "padding": null,
            "right": null,
            "top": null,
            "visibility": null,
            "width": null
          }
        },
        "34c5450ba53c40448b28216139b07049": {
          "model_module": "@jupyter-widgets/controls",
          "model_name": "ProgressStyleModel",
          "model_module_version": "1.5.0",
          "state": {
            "_model_module": "@jupyter-widgets/controls",
            "_model_module_version": "1.5.0",
            "_model_name": "ProgressStyleModel",
            "_view_count": null,
            "_view_module": "@jupyter-widgets/base",
            "_view_module_version": "1.2.0",
            "_view_name": "StyleView",
            "bar_color": null,
            "description_width": ""
          }
        },
        "751062af54694e02a3858b7827797be8": {
          "model_module": "@jupyter-widgets/base",
          "model_name": "LayoutModel",
          "model_module_version": "1.2.0",
          "state": {
            "_model_module": "@jupyter-widgets/base",
            "_model_module_version": "1.2.0",
            "_model_name": "LayoutModel",
            "_view_count": null,
            "_view_module": "@jupyter-widgets/base",
            "_view_module_version": "1.2.0",
            "_view_name": "LayoutView",
            "align_content": null,
            "align_items": null,
            "align_self": null,
            "border": null,
            "bottom": null,
            "display": null,
            "flex": null,
            "flex_flow": null,
            "grid_area": null,
            "grid_auto_columns": null,
            "grid_auto_flow": null,
            "grid_auto_rows": null,
            "grid_column": null,
            "grid_gap": null,
            "grid_row": null,
            "grid_template_areas": null,
            "grid_template_columns": null,
            "grid_template_rows": null,
            "height": null,
            "justify_content": null,
            "justify_items": null,
            "left": null,
            "margin": null,
            "max_height": null,
            "max_width": null,
            "min_height": null,
            "min_width": null,
            "object_fit": null,
            "object_position": null,
            "order": null,
            "overflow": null,
            "overflow_x": null,
            "overflow_y": null,
            "padding": null,
            "right": null,
            "top": null,
            "visibility": null,
            "width": null
          }
        },
        "a6bf854bea664974b921d5ce7b9cdbda": {
          "model_module": "@jupyter-widgets/controls",
          "model_name": "DescriptionStyleModel",
          "model_module_version": "1.5.0",
          "state": {
            "_model_module": "@jupyter-widgets/controls",
            "_model_module_version": "1.5.0",
            "_model_name": "DescriptionStyleModel",
            "_view_count": null,
            "_view_module": "@jupyter-widgets/base",
            "_view_module_version": "1.2.0",
            "_view_name": "StyleView",
            "description_width": ""
          }
        }
      }
    }
  },
  "nbformat": 4,
  "nbformat_minor": 0
}