{
  "cells": [
    {
      "cell_type": "code",
      "execution_count": 3,
      "metadata": {
        "id": "XgAgbqltvNtz"
      },
      "outputs": [],
      "source": [
        "import torch\n",
        "import torchvision\n",
        "import numpy as np\n",
        "import matplotlib.pyplot as plt\n",
        "from torchvision import datasets, transforms\n",
        "from classificatiom_model import EarlyStopping, ModelSaver,train_classification_model,plot_learning_curves\n",
        "from classificatiom_model import evaluate_classification_model as evaluate_model"
      ]
    },
    {
      "cell_type": "code",
      "execution_count": 4,
      "metadata": {
        "id": "MPi72XRIvNt0"
      },
      "outputs": [],
      "source": [
        "import json\n",
        "token = {\"username\":\"eviltrashcan\",\"key\":\"5a0836e4ef86086fdadf624206bd1421\"}\n",
        "with open('/content/kaggle.json', 'w') as file:\n",
        "  json.dump(token, file)"
      ]
    },
    {
      "cell_type": "code",
      "execution_count": 5,
      "metadata": {
        "colab": {
          "base_uri": "https://localhost:8080/"
        },
        "id": "U-2DmZh6vNt0",
        "outputId": "e8de7cfa-2efc-4032-df5e-eb62fa2f2d9c"
      },
      "outputs": [
        {
          "output_type": "stream",
          "name": "stdout",
          "text": [
            "{\"username\": \"eviltrashcan\", \"key\": \"5a0836e4ef86086fdadf624206bd1421\"}"
          ]
        }
      ],
      "source": [
        "!cat /content/kaggle.json"
      ]
    },
    {
      "cell_type": "code",
      "execution_count": 6,
      "metadata": {
        "colab": {
          "base_uri": "https://localhost:8080/"
        },
        "id": "CsZibk3OvNt0",
        "outputId": "34ca790d-6ab7-4fa0-9fa0-0a226a59b477"
      },
      "outputs": [
        {
          "output_type": "stream",
          "name": "stdout",
          "text": [
            "- path is now set to: /content\n"
          ]
        }
      ],
      "source": [
        "!mkdir -p ~/.kaggle\n",
        "!cp /content/kaggle.json ~/.kaggle/\n",
        "!chmod 600 ~/.kaggle/kaggle.json\n",
        "!kaggle config set -n path -v /content"
      ]
    },
    {
      "cell_type": "code",
      "execution_count": 7,
      "metadata": {
        "colab": {
          "base_uri": "https://localhost:8080/"
        },
        "id": "HdDOJcQqvNt0",
        "outputId": "33af2a3e-487f-4a80-cc0b-5c26a7ed0b06"
      },
      "outputs": [
        {
          "output_type": "stream",
          "name": "stdout",
          "text": [
            "Downloading cifar-10.zip to /content/competitions/cifar-10\n",
            " 97% 691M/715M [00:03<00:00, 128MB/s] \n",
            "100% 715M/715M [00:03<00:00, 210MB/s]\n"
          ]
        }
      ],
      "source": [
        "!kaggle competitions download -c cifar-10"
      ]
    },
    {
      "cell_type": "code",
      "execution_count": 8,
      "metadata": {
        "colab": {
          "base_uri": "https://localhost:8080/"
        },
        "id": "SiIBxLMivNt0",
        "outputId": "7a50af57-aea6-4f8d-e40c-f51a4f77567b"
      },
      "outputs": [
        {
          "output_type": "stream",
          "name": "stdout",
          "text": [
            "Archive:  /content/competitions/cifar-10/cifar-10.zip\n",
            "  inflating: sampleSubmission.csv    \n",
            "  inflating: test.7z                 \n",
            "  inflating: train.7z                \n",
            "  inflating: trainLabels.csv         \n"
          ]
        }
      ],
      "source": [
        "!unzip /content/competitions/cifar-10/cifar-10.zip"
      ]
    },
    {
      "cell_type": "code",
      "execution_count": 9,
      "metadata": {
        "colab": {
          "base_uri": "https://localhost:8080/"
        },
        "id": "GAH0NTO0vNt0",
        "outputId": "35af8ed6-7b38-422a-a6f1-f6b58dda0f86"
      },
      "outputs": [
        {
          "output_type": "stream",
          "name": "stdout",
          "text": [
            "Collecting py7zr\n",
            "  Downloading py7zr-1.0.0-py3-none-any.whl.metadata (17 kB)\n",
            "Collecting texttable (from py7zr)\n",
            "  Downloading texttable-1.7.0-py2.py3-none-any.whl.metadata (9.8 kB)\n",
            "Requirement already satisfied: pycryptodomex>=3.20.0 in /usr/local/lib/python3.11/dist-packages (from py7zr) (3.23.0)\n",
            "Collecting brotli>=1.1.0 (from py7zr)\n",
            "  Downloading Brotli-1.1.0-cp311-cp311-manylinux_2_17_x86_64.manylinux2014_x86_64.whl.metadata (5.5 kB)\n",
            "Requirement already satisfied: psutil in /usr/local/lib/python3.11/dist-packages (from py7zr) (5.9.5)\n",
            "Collecting pyzstd>=0.16.1 (from py7zr)\n",
            "  Downloading pyzstd-0.17.0-cp311-cp311-manylinux_2_17_x86_64.manylinux2014_x86_64.whl.metadata (2.5 kB)\n",
            "Collecting pyppmd<1.3.0,>=1.1.0 (from py7zr)\n",
            "  Downloading pyppmd-1.2.0-cp311-cp311-manylinux_2_17_x86_64.manylinux2014_x86_64.whl.metadata (5.4 kB)\n",
            "Collecting pybcj<1.1.0,>=1.0.0 (from py7zr)\n",
            "  Downloading pybcj-1.0.6-cp311-cp311-manylinux_2_17_x86_64.manylinux2014_x86_64.whl.metadata (3.7 kB)\n",
            "Collecting multivolumefile>=0.2.3 (from py7zr)\n",
            "  Downloading multivolumefile-0.2.3-py3-none-any.whl.metadata (6.3 kB)\n",
            "Collecting inflate64<1.1.0,>=1.0.0 (from py7zr)\n",
            "  Downloading inflate64-1.0.3-cp311-cp311-manylinux_2_17_x86_64.manylinux2014_x86_64.whl.metadata (4.4 kB)\n",
            "Requirement already satisfied: typing-extensions>=4.13.2 in /usr/local/lib/python3.11/dist-packages (from pyzstd>=0.16.1->py7zr) (4.14.0)\n",
            "Downloading py7zr-1.0.0-py3-none-any.whl (69 kB)\n",
            "\u001b[2K   \u001b[90m━━━━━━━━━━━━━━━━━━━━━━━━━━━━━━━━━━━━━━━━\u001b[0m \u001b[32m69.7/69.7 kB\u001b[0m \u001b[31m5.2 MB/s\u001b[0m eta \u001b[36m0:00:00\u001b[0m\n",
            "\u001b[?25hDownloading Brotli-1.1.0-cp311-cp311-manylinux_2_17_x86_64.manylinux2014_x86_64.whl (2.9 MB)\n",
            "\u001b[2K   \u001b[90m━━━━━━━━━━━━━━━━━━━━━━━━━━━━━━━━━━━━━━━━\u001b[0m \u001b[32m2.9/2.9 MB\u001b[0m \u001b[31m67.9 MB/s\u001b[0m eta \u001b[36m0:00:00\u001b[0m\n",
            "\u001b[?25hDownloading inflate64-1.0.3-cp311-cp311-manylinux_2_17_x86_64.manylinux2014_x86_64.whl (96 kB)\n",
            "\u001b[2K   \u001b[90m━━━━━━━━━━━━━━━━━━━━━━━━━━━━━━━━━━━━━━━━\u001b[0m \u001b[32m96.4/96.4 kB\u001b[0m \u001b[31m9.9 MB/s\u001b[0m eta \u001b[36m0:00:00\u001b[0m\n",
            "\u001b[?25hDownloading multivolumefile-0.2.3-py3-none-any.whl (17 kB)\n",
            "Downloading pybcj-1.0.6-cp311-cp311-manylinux_2_17_x86_64.manylinux2014_x86_64.whl (50 kB)\n",
            "\u001b[2K   \u001b[90m━━━━━━━━━━━━━━━━━━━━━━━━━━━━━━━━━━━━━━━━\u001b[0m \u001b[32m50.7/50.7 kB\u001b[0m \u001b[31m5.2 MB/s\u001b[0m eta \u001b[36m0:00:00\u001b[0m\n",
            "\u001b[?25hDownloading pyppmd-1.2.0-cp311-cp311-manylinux_2_17_x86_64.manylinux2014_x86_64.whl (141 kB)\n",
            "\u001b[2K   \u001b[90m━━━━━━━━━━━━━━━━━━━━━━━━━━━━━━━━━━━━━━━━\u001b[0m \u001b[32m141.3/141.3 kB\u001b[0m \u001b[31m15.5 MB/s\u001b[0m eta \u001b[36m0:00:00\u001b[0m\n",
            "\u001b[?25hDownloading pyzstd-0.17.0-cp311-cp311-manylinux_2_17_x86_64.manylinux2014_x86_64.whl (412 kB)\n",
            "\u001b[2K   \u001b[90m━━━━━━━━━━━━━━━━━━━━━━━━━━━━━━━━━━━━━━━━\u001b[0m \u001b[32m412.9/412.9 kB\u001b[0m \u001b[31m39.1 MB/s\u001b[0m eta \u001b[36m0:00:00\u001b[0m\n",
            "\u001b[?25hDownloading texttable-1.7.0-py2.py3-none-any.whl (10 kB)\n",
            "Installing collected packages: texttable, brotli, pyzstd, pyppmd, pybcj, multivolumefile, inflate64, py7zr\n",
            "Successfully installed brotli-1.1.0 inflate64-1.0.3 multivolumefile-0.2.3 py7zr-1.0.0 pybcj-1.0.6 pyppmd-1.2.0 pyzstd-0.17.0 texttable-1.7.0\n"
          ]
        }
      ],
      "source": [
        "%pip install py7zr\n",
        "import py7zr\n",
        "a =py7zr.SevenZipFile(r'./train.7z','r')\n",
        "a.extractall(path=r'./competitions/cifar-10/')\n",
        "a.close()"
      ]
    },
    {
      "cell_type": "code",
      "execution_count": 10,
      "metadata": {
        "colab": {
          "base_uri": "https://localhost:8080/"
        },
        "id": "wSgiHJtlvNt0",
        "outputId": "8b30fd57-736d-4b55-8041-3a8da82c9382"
      },
      "outputs": [
        {
          "output_type": "stream",
          "name": "stdout",
          "text": [
            "50000\n"
          ]
        }
      ],
      "source": [
        "!ls competitions/cifar-10/train|wc -l"
      ]
    },
    {
      "cell_type": "code",
      "execution_count": 11,
      "metadata": {
        "colab": {
          "base_uri": "https://localhost:8080/"
        },
        "id": "u5tgK7-evNt1",
        "outputId": "40396e82-fe3b-417c-ce8b-17de9e893590"
      },
      "outputs": [
        {
          "output_type": "stream",
          "name": "stdout",
          "text": [
            "完整数据集大小: 50000\n",
            "训练集大小: 45000\n",
            "验证集大小: 5000\n"
          ]
        }
      ],
      "source": [
        "# 加载CIFAR-10数据集\n",
        "import os\n",
        "import pandas as pd\n",
        "from PIL import Image\n",
        "from torch.utils.data import Dataset\n",
        "\n",
        "# 定义CIFAR-10数据集类\n",
        "class CIFAR10Dataset(Dataset):\n",
        "    def __init__(self, img_dir, labels_file, transform=None):\n",
        "        self.img_dir = img_dir\n",
        "        self.transform = transform\n",
        "\n",
        "        # 读取标签文件，read_csv默认读取第一行作为列名\n",
        "        self.labels_df = pd.read_csv(labels_file)\n",
        "        self.img_names = self.labels_df.iloc[:, 0].values.astype(str)  # 第一列是图片名称，确保为字符串类型\n",
        "\n",
        "        # 类别名称字典，使用字典可以提高查找速度\n",
        "        self.class_names_dict = {'airplane': 0, 'automobile': 1, 'bird': 2, 'cat': 3,\n",
        "                                 'deer': 4, 'dog': 5, 'frog': 6, 'horse': 7, 'ship': 8, 'truck': 9}\n",
        "        # 将文本标签转换为数字ID\n",
        "        self.labels = [self.class_names_dict[label] for label in self.labels_df.iloc[:, 1].values]\n",
        "\n",
        "    def __len__(self):\n",
        "        return len(self.labels)\n",
        "\n",
        "    def __getitem__(self, idx):\n",
        "        img_path = os.path.join(self.img_dir, self.img_names[idx] + '.png') #图片路径\n",
        "        image = Image.open(img_path) #打开图片\n",
        "        label = self.labels[idx]\n",
        "\n",
        "        if self.transform:\n",
        "            image_tensor = self.transform(image)\n",
        "\n",
        "        return image_tensor, label\n",
        "\n",
        "# 定义数据预处理\n",
        "transform = transforms.Compose([\n",
        "    transforms.ToTensor(),\n",
        "    transforms.Normalize((0.4917, 0.4823, 0.4467), (0.2024, 0.1995, 0.2010))\n",
        "])\n",
        "\n",
        "# colab加载CIFAR-10数据集\n",
        "img_dir = r\"competitions/cifar-10/train\"\n",
        "labels_file = r\"./trainLabels.csv\"\n",
        "\n",
        "# img_dir = r\"D:\\BaiduNetdiskDownload\\1.Python11期\\深度学习代码\\cifar-10\\train\"\n",
        "# labels_file = r\"D:\\BaiduNetdiskDownload\\1.Python11期\\深度学习代码\\cifar-10\\trainLabels.csv\"\n",
        "full_dataset = CIFAR10Dataset(img_dir=img_dir, labels_file=labels_file, transform=transform)\n",
        "\n",
        "# 定义类别名称\n",
        "class_names = ['airplane', 'automobile', 'bird', 'cat', 'deer', 'dog', 'frog', 'horse', 'ship', 'truck']\n",
        "\n",
        "# 划分训练集和验证集\n",
        "train_size = 45000\n",
        "val_size = 5000\n",
        "generator = torch.Generator().manual_seed(42)\n",
        "train_dataset, val_dataset = torch.utils.data.random_split(\n",
        "    full_dataset,\n",
        "    [train_size, val_size],\n",
        "    generator=generator\n",
        ")\n",
        "\n",
        "# 查看数据集基本信息\n",
        "print(f\"完整数据集大小: {len(full_dataset)}\")\n",
        "print(f\"训练集大小: {len(train_dataset)}\")\n",
        "print(f\"验证集大小: {len(val_dataset)}\")\n"
      ]
    },
    {
      "cell_type": "code",
      "execution_count": 12,
      "metadata": {
        "id": "FM506-i-vNt1"
      },
      "outputs": [],
      "source": [
        "\n",
        "# 创建数据加载器\n",
        "batch_size = 64\n",
        "train_loader = torch.utils.data.DataLoader(\n",
        "    train_dataset,\n",
        "    batch_size=batch_size,\n",
        "    shuffle=True #打乱数据集，每次迭代时，数据集的顺序都会被打乱\n",
        ")\n",
        "\n",
        "val_loader = torch.utils.data.DataLoader(\n",
        "    val_dataset,\n",
        "    batch_size=batch_size,\n",
        "    shuffle=False\n",
        ")\n",
        "\n",
        "\n"
      ]
    },
    {
      "cell_type": "code",
      "execution_count": 13,
      "metadata": {
        "colab": {
          "base_uri": "https://localhost:8080/"
        },
        "id": "V4tIFHufvNt1",
        "outputId": "92c42228-7388-4904-8bb7-be2a59f56c8b"
      },
      "outputs": [
        {
          "output_type": "stream",
          "name": "stdout",
          "text": [
            "CustomInceptionNet(\n",
            "  (conv1): Conv2d(3, 64, kernel_size=(7, 7), stride=(2, 2), padding=(3, 3))\n",
            "  (maxpool1): MaxPool2d(kernel_size=3, stride=2, padding=1, dilation=1, ceil_mode=False)\n",
            "  (conv2): Conv2d(64, 64, kernel_size=(1, 1), stride=(1, 1))\n",
            "  (conv3): Conv2d(64, 192, kernel_size=(3, 3), stride=(1, 1), padding=(1, 1))\n",
            "  (maxpool2): MaxPool2d(kernel_size=3, stride=2, padding=1, dilation=1, ceil_mode=False)\n",
            "  (inception3a): InceptionModule(\n",
            "    (branch1): Conv2d(192, 64, kernel_size=(1, 1), stride=(1, 1))\n",
            "    (branch2): Sequential(\n",
            "      (0): Conv2d(192, 96, kernel_size=(1, 1), stride=(1, 1))\n",
            "      (1): ReLU(inplace=True)\n",
            "      (2): Conv2d(96, 128, kernel_size=(3, 3), stride=(1, 1), padding=(1, 1))\n",
            "    )\n",
            "    (branch3): Sequential(\n",
            "      (0): Conv2d(192, 16, kernel_size=(1, 1), stride=(1, 1))\n",
            "      (1): ReLU(inplace=True)\n",
            "      (2): Conv2d(16, 32, kernel_size=(5, 5), stride=(1, 1), padding=(2, 2))\n",
            "    )\n",
            "    (branch4): Sequential(\n",
            "      (0): MaxPool2d(kernel_size=3, stride=1, padding=1, dilation=1, ceil_mode=False)\n",
            "      (1): Conv2d(192, 32, kernel_size=(1, 1), stride=(1, 1))\n",
            "    )\n",
            "  )\n",
            "  (inception3b): InceptionModule(\n",
            "    (branch1): Conv2d(256, 128, kernel_size=(1, 1), stride=(1, 1))\n",
            "    (branch2): Sequential(\n",
            "      (0): Conv2d(256, 128, kernel_size=(1, 1), stride=(1, 1))\n",
            "      (1): ReLU(inplace=True)\n",
            "      (2): Conv2d(128, 192, kernel_size=(3, 3), stride=(1, 1), padding=(1, 1))\n",
            "    )\n",
            "    (branch3): Sequential(\n",
            "      (0): Conv2d(256, 32, kernel_size=(1, 1), stride=(1, 1))\n",
            "      (1): ReLU(inplace=True)\n",
            "      (2): Conv2d(32, 96, kernel_size=(5, 5), stride=(1, 1), padding=(2, 2))\n",
            "    )\n",
            "    (branch4): Sequential(\n",
            "      (0): MaxPool2d(kernel_size=3, stride=1, padding=1, dilation=1, ceil_mode=False)\n",
            "      (1): Conv2d(256, 64, kernel_size=(1, 1), stride=(1, 1))\n",
            "    )\n",
            "  )\n",
            "  (maxpool3): MaxPool2d(kernel_size=3, stride=2, padding=1, dilation=1, ceil_mode=False)\n",
            "  (inception4a): InceptionModule(\n",
            "    (branch1): Conv2d(480, 192, kernel_size=(1, 1), stride=(1, 1))\n",
            "    (branch2): Sequential(\n",
            "      (0): Conv2d(480, 96, kernel_size=(1, 1), stride=(1, 1))\n",
            "      (1): ReLU(inplace=True)\n",
            "      (2): Conv2d(96, 208, kernel_size=(3, 3), stride=(1, 1), padding=(1, 1))\n",
            "    )\n",
            "    (branch3): Sequential(\n",
            "      (0): Conv2d(480, 16, kernel_size=(1, 1), stride=(1, 1))\n",
            "      (1): ReLU(inplace=True)\n",
            "      (2): Conv2d(16, 48, kernel_size=(5, 5), stride=(1, 1), padding=(2, 2))\n",
            "    )\n",
            "    (branch4): Sequential(\n",
            "      (0): MaxPool2d(kernel_size=3, stride=1, padding=1, dilation=1, ceil_mode=False)\n",
            "      (1): Conv2d(480, 64, kernel_size=(1, 1), stride=(1, 1))\n",
            "    )\n",
            "  )\n",
            "  (inception4b): InceptionModule(\n",
            "    (branch1): Conv2d(512, 160, kernel_size=(1, 1), stride=(1, 1))\n",
            "    (branch2): Sequential(\n",
            "      (0): Conv2d(512, 112, kernel_size=(1, 1), stride=(1, 1))\n",
            "      (1): ReLU(inplace=True)\n",
            "      (2): Conv2d(112, 224, kernel_size=(3, 3), stride=(1, 1), padding=(1, 1))\n",
            "    )\n",
            "    (branch3): Sequential(\n",
            "      (0): Conv2d(512, 24, kernel_size=(1, 1), stride=(1, 1))\n",
            "      (1): ReLU(inplace=True)\n",
            "      (2): Conv2d(24, 64, kernel_size=(5, 5), stride=(1, 1), padding=(2, 2))\n",
            "    )\n",
            "    (branch4): Sequential(\n",
            "      (0): MaxPool2d(kernel_size=3, stride=1, padding=1, dilation=1, ceil_mode=False)\n",
            "      (1): Conv2d(512, 64, kernel_size=(1, 1), stride=(1, 1))\n",
            "    )\n",
            "  )\n",
            "  (avgpool): AdaptiveAvgPool2d(output_size=(1, 1))\n",
            "  (dropout): Dropout(p=0.4, inplace=False)\n",
            "  (fc): Linear(in_features=512, out_features=10, bias=True)\n",
            ")\n"
          ]
        }
      ],
      "source": [
        "# 自定义InceptionNet模型\n",
        "import torch.nn as nn\n",
        "import torch.optim as optim\n",
        "import torch.nn.functional as F\n",
        "\n",
        "# 定义Inception模块\n",
        "class InceptionModule(nn.Module):\n",
        "    def __init__(self, in_channels, ch1x1, ch3x3red, ch3x3, ch5x5red, ch5x5, pool_proj):\n",
        "        \"\"\"\n",
        "        Inception模块初始化\n",
        "\n",
        "        参数:\n",
        "            in_channels: 输入通道数\n",
        "            ch1x1: 1x1卷积分支的输出通道数\n",
        "            ch3x3red: 3x3卷积分支中1x1卷积的输出通道数(降维)\n",
        "            ch3x3: 3x3卷积分支中3x3卷积的输出通道数\n",
        "            ch5x5red: 5x5卷积分支中1x1卷积的输出通道数(降维)\n",
        "            ch5x5: 5x5卷积分支中5x5卷积的输出通道数\n",
        "            pool_proj: 池化分支中1x1卷积的输出通道数\n",
        "        \"\"\"\n",
        "        super(InceptionModule, self).__init__()\n",
        "\n",
        "        # 1x1卷积分支 - 直接进行特征提取和降维\n",
        "        self.branch1 = nn.Conv2d(in_channels, ch1x1, kernel_size=1)\n",
        "\n",
        "        # 1x1卷积 -> 3x3卷积分支 - 先降维再提取特征\n",
        "        self.branch2 = nn.Sequential(\n",
        "            nn.Conv2d(in_channels, ch3x3red, kernel_size=1),  # 降维\n",
        "            nn.ReLU(inplace=True),  # 激活函数\n",
        "            nn.Conv2d(ch3x3red, ch3x3, kernel_size=3, padding=1)  # 特征提取\n",
        "        )\n",
        "\n",
        "        # 1x1卷积 -> 5x5卷积分支 - 先降维再提取更大感受野的特征\n",
        "        self.branch3 = nn.Sequential(\n",
        "            nn.Conv2d(in_channels, ch5x5red, kernel_size=1),  # 降维\n",
        "            nn.ReLU(inplace=True),  # 激活函数\n",
        "            nn.Conv2d(ch5x5red, ch5x5, kernel_size=5, padding=2)  # 大感受野特征提取\n",
        "        )\n",
        "\n",
        "        # 3x3池化 -> 1x1卷积分支 - 先池化再降维\n",
        "        self.branch4 = nn.Sequential(\n",
        "            nn.MaxPool2d(kernel_size=3, stride=1, padding=1),  # 池化提取主要特征\n",
        "            nn.Conv2d(in_channels, pool_proj, kernel_size=1)  # 降维\n",
        "        )\n",
        "\n",
        "    def forward(self, x):\n",
        "        \"\"\"前向传播函数\"\"\"\n",
        "        # 对每个分支进行计算并应用ReLU激活函数\n",
        "        branch1 = F.relu(self.branch1(x))\n",
        "        branch2 = F.relu(self.branch2(x))\n",
        "        branch3 = F.relu(self.branch3(x))\n",
        "        branch4 = F.relu(self.branch4(x))\n",
        "\n",
        "        # 在通道维度上拼接所有分支的输出，形成多尺度特征表示\n",
        "        return torch.cat([branch1, branch2, branch3, branch4], 1)\n",
        "\n",
        "# 定义自定义的InceptionNet模型\n",
        "class CustomInceptionNet(nn.Module):\n",
        "    def __init__(self, num_classes=10):\n",
        "        \"\"\"\n",
        "        自定义InceptionNet模型初始化\n",
        "\n",
        "        参数:\n",
        "            num_classes: 分类类别数，默认为10\n",
        "        \"\"\"\n",
        "        super(CustomInceptionNet, self).__init__()\n",
        "\n",
        "        # 初始卷积层 - 提取基础特征\n",
        "        self.conv1 = nn.Conv2d(3, 64, kernel_size=7, stride=2, padding=3)  # 输入图像为3通道\n",
        "        self.maxpool1 = nn.MaxPool2d(kernel_size=3, stride=2, padding=1)  # 降低分辨率\n",
        "\n",
        "        # 卷积层 - 进一步提取特征\n",
        "        self.conv2 = nn.Conv2d(64, 64, kernel_size=1)  # 1x1卷积进行通道整合\n",
        "        self.conv3 = nn.Conv2d(64, 192, kernel_size=3, padding=1)  # 3x3卷积提取特征\n",
        "        self.maxpool2 = nn.MaxPool2d(kernel_size=3, stride=2, padding=1)  # 再次降低分辨率\n",
        "\n",
        "        # Inception模块 - 多尺度特征提取\n",
        "        # 第一组Inception模块\n",
        "        self.inception3a = InceptionModule(192, 64, 96, 128, 16, 32, 32)  # 输入192通道，输出256通道\n",
        "        self.inception3b = InceptionModule(256, 128, 128, 192, 32, 96, 64)  # 输入256通道，输出480通道\n",
        "        self.maxpool3 = nn.MaxPool2d(kernel_size=3, stride=2, padding=1)  # 降低分辨率\n",
        "\n",
        "        # 第二组Inception模块\n",
        "        self.inception4a = InceptionModule(480, 192, 96, 208, 16, 48, 64)  # 输入480通道，输出512通道\n",
        "        self.inception4b = InceptionModule(512, 160, 112, 224, 24, 64, 64)  # 输入512通道，输出512通道\n",
        "\n",
        "        # 全局平均池化 - 将特征图转换为特征向量\n",
        "        self.avgpool = nn.AdaptiveAvgPool2d((1, 1))  # 自适应平均池化到1x1\n",
        "\n",
        "        # 分类器\n",
        "        self.dropout = nn.Dropout(0.4)  # 防止过拟合\n",
        "        self.fc = nn.Linear(512, num_classes)  # 全连接层进行分类\n",
        "\n",
        "    def forward(self, x):\n",
        "        \"\"\"前向传播函数\"\"\"\n",
        "        # 初始层处理\n",
        "        x = F.relu(self.conv1(x))  # 应用激活函数\n",
        "        x = self.maxpool1(x)  # 池化\n",
        "\n",
        "        # 卷积层处理\n",
        "        x = F.relu(self.conv2(x))\n",
        "        x = F.relu(self.conv3(x))\n",
        "        x = self.maxpool2(x)\n",
        "\n",
        "        # Inception模块处理\n",
        "        x = self.inception3a(x)\n",
        "        x = self.inception3b(x)\n",
        "        x = self.maxpool3(x)\n",
        "\n",
        "        x = self.inception4a(x)\n",
        "        x = self.inception4b(x)\n",
        "\n",
        "        # 全局平均池化\n",
        "        x = self.avgpool(x)\n",
        "        x = torch.flatten(x, 1)  # 展平特征图为一维向量\n",
        "\n",
        "        # 分类器\n",
        "        x = self.dropout(x)  # 应用dropout\n",
        "        x = self.fc(x)  # 全连接层分类\n",
        "\n",
        "        return x\n",
        "\n",
        "# 创建自定义InceptionNet模型实例\n",
        "model = CustomInceptionNet(num_classes=10)  # 创建10分类的模型实例\n",
        "\n",
        "print(model)  # 打印模型结构\n"
      ]
    },
    {
      "cell_type": "code",
      "execution_count": 14,
      "metadata": {
        "colab": {
          "base_uri": "https://localhost:8080/"
        },
        "id": "MOmgCSe1vNt1",
        "outputId": "cd37939f-c5d9-4760-d52a-da0ab8656fd7"
      },
      "outputs": [
        {
          "output_type": "stream",
          "name": "stdout",
          "text": [
            "批次图像形状: torch.Size([64, 3, 32, 32])\n",
            "批次标签形状: torch.Size([64])\n",
            "----------------------------------------------------------------------------------------------------\n",
            "torch.Size([64, 10])\n"
          ]
        }
      ],
      "source": [
        "# 从train_loader获取第一个批次的数据\n",
        "dataiter = iter(train_loader)\n",
        "images, labels = next(dataiter)\n",
        "\n",
        "# 查看批次数据的形状\n",
        "print(\"批次图像形状:\", images.shape)\n",
        "print(\"批次标签形状:\", labels.shape)\n",
        "\n",
        "\n",
        "print('-'*100)\n",
        "# 进行前向传播\n",
        "with torch.no_grad():  # 不需要计算梯度\n",
        "    outputs = model(images)\n",
        "\n",
        "\n",
        "print(outputs.shape)"
      ]
    },
    {
      "cell_type": "code",
      "execution_count": 15,
      "metadata": {
        "colab": {
          "base_uri": "https://localhost:8080/"
        },
        "id": "IkpOPrNyvNt1",
        "outputId": "7f6c22d1-dc5e-43a8-d395-1b961d71440b"
      },
      "outputs": [
        {
          "output_type": "stream",
          "name": "stdout",
          "text": [
            "需要求梯度的参数总量: 1507314\n",
            "模型总参数量: 1507314\n",
            "\n",
            "各层参数量明细:\n",
            "conv1.weight: 9408 参数\n",
            "conv1.bias: 64 参数\n",
            "conv2.weight: 4096 参数\n",
            "conv2.bias: 64 参数\n",
            "conv3.weight: 110592 参数\n",
            "conv3.bias: 192 参数\n",
            "inception3a.branch1.weight: 12288 参数\n",
            "inception3a.branch1.bias: 64 参数\n",
            "inception3a.branch2.0.weight: 18432 参数\n",
            "inception3a.branch2.0.bias: 96 参数\n",
            "inception3a.branch2.2.weight: 110592 参数\n",
            "inception3a.branch2.2.bias: 128 参数\n",
            "inception3a.branch3.0.weight: 3072 参数\n",
            "inception3a.branch3.0.bias: 16 参数\n",
            "inception3a.branch3.2.weight: 12800 参数\n",
            "inception3a.branch3.2.bias: 32 参数\n",
            "inception3a.branch4.1.weight: 6144 参数\n",
            "inception3a.branch4.1.bias: 32 参数\n",
            "inception3b.branch1.weight: 32768 参数\n",
            "inception3b.branch1.bias: 128 参数\n",
            "inception3b.branch2.0.weight: 32768 参数\n",
            "inception3b.branch2.0.bias: 128 参数\n",
            "inception3b.branch2.2.weight: 221184 参数\n",
            "inception3b.branch2.2.bias: 192 参数\n",
            "inception3b.branch3.0.weight: 8192 参数\n",
            "inception3b.branch3.0.bias: 32 参数\n",
            "inception3b.branch3.2.weight: 76800 参数\n",
            "inception3b.branch3.2.bias: 96 参数\n",
            "inception3b.branch4.1.weight: 16384 参数\n",
            "inception3b.branch4.1.bias: 64 参数\n",
            "inception4a.branch1.weight: 92160 参数\n",
            "inception4a.branch1.bias: 192 参数\n",
            "inception4a.branch2.0.weight: 46080 参数\n",
            "inception4a.branch2.0.bias: 96 参数\n",
            "inception4a.branch2.2.weight: 179712 参数\n",
            "inception4a.branch2.2.bias: 208 参数\n",
            "inception4a.branch3.0.weight: 7680 参数\n",
            "inception4a.branch3.0.bias: 16 参数\n",
            "inception4a.branch3.2.weight: 19200 参数\n",
            "inception4a.branch3.2.bias: 48 参数\n",
            "inception4a.branch4.1.weight: 30720 参数\n",
            "inception4a.branch4.1.bias: 64 参数\n",
            "inception4b.branch1.weight: 81920 参数\n",
            "inception4b.branch1.bias: 160 参数\n",
            "inception4b.branch2.0.weight: 57344 参数\n",
            "inception4b.branch2.0.bias: 112 参数\n",
            "inception4b.branch2.2.weight: 225792 参数\n",
            "inception4b.branch2.2.bias: 224 参数\n",
            "inception4b.branch3.0.weight: 12288 参数\n",
            "inception4b.branch3.0.bias: 24 参数\n",
            "inception4b.branch3.2.weight: 38400 参数\n",
            "inception4b.branch3.2.bias: 64 参数\n",
            "inception4b.branch4.1.weight: 32768 参数\n",
            "inception4b.branch4.1.bias: 64 参数\n",
            "fc.weight: 5120 参数\n",
            "fc.bias: 10 参数\n"
          ]
        }
      ],
      "source": [
        "# 计算模型的总参数量\n",
        "# 统计需要求梯度的参数总量\n",
        "total_params = sum(p.numel() for p in model.parameters() if p.requires_grad)\n",
        "print(f\"需要求梯度的参数总量: {total_params}\")\n",
        "\n",
        "# 统计所有参数总量\n",
        "all_params = sum(p.numel() for p in model.parameters())\n",
        "print(f\"模型总参数量: {all_params}\")\n",
        "\n",
        "# 查看每层参数量明细\n",
        "print(\"\\n各层参数量明细:\")\n",
        "for name, param in model.named_parameters():\n",
        "    print(f\"{name}: {param.numel()} 参数\")"
      ]
    },
    {
      "cell_type": "code",
      "execution_count": 16,
      "metadata": {
        "colab": {
          "base_uri": "https://localhost:8080/"
        },
        "id": "PY1sz8bZvNt1",
        "outputId": "609c1c49-3792-43dd-dbab-505e674391a9"
      },
      "outputs": [
        {
          "output_type": "stream",
          "name": "stdout",
          "text": [
            "损失函数: CrossEntropyLoss()\n"
          ]
        }
      ],
      "source": [
        "# 定义损失函数和优化器\n",
        "loss_fn = nn.CrossEntropyLoss()  # 交叉熵损失函数，适用于多分类问题，里边会做softmax，还有会把0-9标签转换成one-hot编码\n",
        "optimizer = torch.optim.SGD(model.parameters(), lr=0.001, momentum=0.9)  # SGD优化器，学习率为0.01，动量为0.9\n",
        "print(\"损失函数:\", loss_fn)"
      ]
    },
    {
      "cell_type": "code",
      "execution_count": 17,
      "metadata": {
        "colab": {
          "base_uri": "https://localhost:8080/",
          "height": 116,
          "referenced_widgets": [
            "278a1a4848c94e4b93e24a13e2c92652",
            "cadab844a37947f99af7ca6266ecd83e",
            "bbf95625e3e84896afb229987f490193",
            "8bb024bfc364442da6f623a77148aa76",
            "aa7011b590394502b7edd28bcb78b38b",
            "6fece068280f4dcb93a2d95a7d772e46",
            "05b3ebc34f5e40969aa24898dfac6c2e",
            "9fda3b1808fa4c609e154d306b835010",
            "e2ca7f8609904b4ab607efff3a204b86",
            "5855f242c4d54d58a6b7d14a976f65eb",
            "7831b92a798548778e06f5f45bf9de2e"
          ]
        },
        "id": "FAW5eNaSvNt1",
        "outputId": "5f8db7af-02e4-4d61-9063-b554a56d1e02"
      },
      "outputs": [
        {
          "output_type": "stream",
          "name": "stdout",
          "text": [
            "使用设备: cuda:0\n"
          ]
        },
        {
          "output_type": "display_data",
          "data": {
            "text/plain": [
              "Training Progress:   0%|          | 0/35200 [00:00<?, ?it/s]"
            ],
            "application/vnd.jupyter.widget-view+json": {
              "version_major": 2,
              "version_minor": 0,
              "model_id": "278a1a4848c94e4b93e24a13e2c92652"
            }
          },
          "metadata": {}
        },
        {
          "output_type": "stream",
          "name": "stdout",
          "text": [
            "早停触发! 最佳验证准确率: 19.2800\n",
            "早停: 已有5轮验证损失没有改善！\n"
          ]
        }
      ],
      "source": [
        "device = torch.device(\"cuda:0\" if torch.cuda.is_available() else \"cpu\")\n",
        "print(f\"使用设备: {device}\")\n",
        "model = model.to(device) #将模型移动到GPU\n",
        "early_stopping=EarlyStopping(patience=5, delta=0.001)\n",
        "model_saver=ModelSaver(save_dir='model_weights', save_best_only=True)\n",
        "\n",
        "\n",
        "model, history = train_classification_model(model, train_loader, val_loader, loss_fn, optimizer, device, num_epochs=50, early_stopping=early_stopping, model_saver=model_saver, tensorboard_logger=None)\n",
        "\n"
      ]
    },
    {
      "cell_type": "code",
      "execution_count": 18,
      "metadata": {
        "colab": {
          "base_uri": "https://localhost:8080/"
        },
        "id": "IQrGKNKYvNt1",
        "outputId": "e95353f7-0b5d-44b5-a114-c2f380794b38"
      },
      "outputs": [
        {
          "output_type": "execute_result",
          "data": {
            "text/plain": [
              "[{'loss': 2.236733913421631, 'acc': 18.75, 'step': 8401},\n",
              " {'loss': 2.243687391281128, 'acc': 6.25, 'step': 8402},\n",
              " {'loss': 2.254542350769043, 'acc': 14.0625, 'step': 8403},\n",
              " {'loss': 2.2385611534118652, 'acc': 21.875, 'step': 8404},\n",
              " {'loss': 2.221869707107544, 'acc': 23.4375, 'step': 8405},\n",
              " {'loss': 2.255464792251587, 'acc': 15.625, 'step': 8406},\n",
              " {'loss': 2.2398276329040527, 'acc': 18.75, 'step': 8407},\n",
              " {'loss': 2.2544105052948, 'acc': 10.9375, 'step': 8408},\n",
              " {'loss': 2.263796091079712, 'acc': 12.5, 'step': 8409},\n",
              " {'loss': 2.224266767501831, 'acc': 18.75, 'step': 8410},\n",
              " {'loss': 2.278782367706299, 'acc': 10.9375, 'step': 8411},\n",
              " {'loss': 2.303417205810547, 'acc': 17.1875, 'step': 8412},\n",
              " {'loss': 2.2406063079833984, 'acc': 23.4375, 'step': 8413},\n",
              " {'loss': 2.2674951553344727, 'acc': 14.0625, 'step': 8414},\n",
              " {'loss': 2.2695465087890625, 'acc': 10.9375, 'step': 8415},\n",
              " {'loss': 2.224907159805298, 'acc': 29.6875, 'step': 8416},\n",
              " {'loss': 2.2447171211242676, 'acc': 12.5, 'step': 8417},\n",
              " {'loss': 2.264512777328491, 'acc': 6.25, 'step': 8418},\n",
              " {'loss': 2.2485032081604004, 'acc': 10.9375, 'step': 8419},\n",
              " {'loss': 2.2138936519622803, 'acc': 23.4375, 'step': 8420},\n",
              " {'loss': 2.252707004547119, 'acc': 15.625, 'step': 8421},\n",
              " {'loss': 2.2860445976257324, 'acc': 14.0625, 'step': 8422},\n",
              " {'loss': 2.282484292984009, 'acc': 9.375, 'step': 8423},\n",
              " {'loss': 2.228360414505005, 'acc': 15.625, 'step': 8424},\n",
              " {'loss': 2.202518939971924, 'acc': 31.25, 'step': 8425},\n",
              " {'loss': 2.2407541275024414, 'acc': 26.5625, 'step': 8426},\n",
              " {'loss': 2.2240118980407715, 'acc': 17.1875, 'step': 8427},\n",
              " {'loss': 2.258211851119995, 'acc': 18.75, 'step': 8428},\n",
              " {'loss': 2.2255847454071045, 'acc': 17.1875, 'step': 8429},\n",
              " {'loss': 2.2532877922058105, 'acc': 14.0625, 'step': 8430},\n",
              " {'loss': 2.258120536804199, 'acc': 17.1875, 'step': 8431},\n",
              " {'loss': 2.238232135772705, 'acc': 21.875, 'step': 8432},\n",
              " {'loss': 2.258262872695923, 'acc': 20.3125, 'step': 8433},\n",
              " {'loss': 2.235557794570923, 'acc': 14.0625, 'step': 8434},\n",
              " {'loss': 2.218695640563965, 'acc': 12.5, 'step': 8435},\n",
              " {'loss': 2.2569751739501953, 'acc': 9.375, 'step': 8436},\n",
              " {'loss': 2.200218677520752, 'acc': 20.3125, 'step': 8437},\n",
              " {'loss': 2.2203712463378906, 'acc': 14.0625, 'step': 8438},\n",
              " {'loss': 2.252346992492676, 'acc': 17.1875, 'step': 8439},\n",
              " {'loss': 2.212123155593872, 'acc': 17.1875, 'step': 8440},\n",
              " {'loss': 2.2597546577453613, 'acc': 9.375, 'step': 8441},\n",
              " {'loss': 2.245086431503296, 'acc': 17.1875, 'step': 8442},\n",
              " {'loss': 2.2874245643615723, 'acc': 15.625, 'step': 8443},\n",
              " {'loss': 2.2771689891815186, 'acc': 9.375, 'step': 8444},\n",
              " {'loss': 2.2400641441345215, 'acc': 25.0, 'step': 8445},\n",
              " {'loss': 2.2661330699920654, 'acc': 14.0625, 'step': 8446},\n",
              " {'loss': 2.2146010398864746, 'acc': 25.0, 'step': 8447},\n",
              " {'loss': 2.286947250366211, 'acc': 10.9375, 'step': 8448},\n",
              " {'loss': 2.2571816444396973, 'acc': 12.5, 'step': 8449},\n",
              " {'loss': 2.2254252433776855, 'acc': 14.0625, 'step': 8450},\n",
              " {'loss': 2.2261319160461426, 'acc': 14.0625, 'step': 8451},\n",
              " {'loss': 2.231353521347046, 'acc': 18.75, 'step': 8452},\n",
              " {'loss': 2.2487399578094482, 'acc': 18.75, 'step': 8453},\n",
              " {'loss': 2.252220392227173, 'acc': 10.9375, 'step': 8454},\n",
              " {'loss': 2.240401268005371, 'acc': 25.0, 'step': 8455},\n",
              " {'loss': 2.232912540435791, 'acc': 14.0625, 'step': 8456},\n",
              " {'loss': 2.2368714809417725, 'acc': 20.3125, 'step': 8457},\n",
              " {'loss': 2.242100954055786, 'acc': 15.625, 'step': 8458},\n",
              " {'loss': 2.2665553092956543, 'acc': 7.8125, 'step': 8459},\n",
              " {'loss': 2.236081600189209, 'acc': 17.1875, 'step': 8460},\n",
              " {'loss': 2.258253812789917, 'acc': 17.1875, 'step': 8461},\n",
              " {'loss': 2.231565237045288, 'acc': 20.3125, 'step': 8462},\n",
              " {'loss': 2.2858898639678955, 'acc': 15.625, 'step': 8463},\n",
              " {'loss': 2.2561748027801514, 'acc': 17.1875, 'step': 8464},\n",
              " {'loss': 2.246263027191162, 'acc': 23.4375, 'step': 8465},\n",
              " {'loss': 2.230587959289551, 'acc': 15.625, 'step': 8466},\n",
              " {'loss': 2.272477388381958, 'acc': 18.75, 'step': 8467},\n",
              " {'loss': 2.1943109035491943, 'acc': 15.625, 'step': 8468},\n",
              " {'loss': 2.255115032196045, 'acc': 18.75, 'step': 8469},\n",
              " {'loss': 2.1914849281311035, 'acc': 17.1875, 'step': 8470},\n",
              " {'loss': 2.2212419509887695, 'acc': 9.375, 'step': 8471},\n",
              " {'loss': 2.226160764694214, 'acc': 20.3125, 'step': 8472},\n",
              " {'loss': 2.214064359664917, 'acc': 23.4375, 'step': 8473},\n",
              " {'loss': 2.2139086723327637, 'acc': 18.75, 'step': 8474},\n",
              " {'loss': 2.2246885299682617, 'acc': 28.125, 'step': 8475},\n",
              " {'loss': 2.2397046089172363, 'acc': 15.625, 'step': 8476},\n",
              " {'loss': 2.230104684829712, 'acc': 15.625, 'step': 8477},\n",
              " {'loss': 2.224323272705078, 'acc': 23.4375, 'step': 8478},\n",
              " {'loss': 2.2494447231292725, 'acc': 17.1875, 'step': 8479},\n",
              " {'loss': 2.2449538707733154, 'acc': 14.0625, 'step': 8480},\n",
              " {'loss': 2.24531888961792, 'acc': 15.625, 'step': 8481},\n",
              " {'loss': 2.26765775680542, 'acc': 14.0625, 'step': 8482},\n",
              " {'loss': 2.223938465118408, 'acc': 14.0625, 'step': 8483},\n",
              " {'loss': 2.249901056289673, 'acc': 15.625, 'step': 8484},\n",
              " {'loss': 2.2359328269958496, 'acc': 17.1875, 'step': 8485},\n",
              " {'loss': 2.2504711151123047, 'acc': 28.125, 'step': 8486},\n",
              " {'loss': 2.2213618755340576, 'acc': 14.0625, 'step': 8487},\n",
              " {'loss': 2.228891372680664, 'acc': 15.625, 'step': 8488},\n",
              " {'loss': 2.2020318508148193, 'acc': 25.0, 'step': 8489},\n",
              " {'loss': 2.258451461791992, 'acc': 20.3125, 'step': 8490},\n",
              " {'loss': 2.2240285873413086, 'acc': 20.3125, 'step': 8491},\n",
              " {'loss': 2.24369478225708, 'acc': 15.625, 'step': 8492},\n",
              " {'loss': 2.239950180053711, 'acc': 15.625, 'step': 8493},\n",
              " {'loss': 2.25353741645813, 'acc': 18.75, 'step': 8494},\n",
              " {'loss': 2.225069522857666, 'acc': 14.0625, 'step': 8495},\n",
              " {'loss': 2.2480154037475586, 'acc': 18.75, 'step': 8496},\n",
              " {'loss': 2.238084077835083, 'acc': 12.5, 'step': 8497},\n",
              " {'loss': 2.195744514465332, 'acc': 26.5625, 'step': 8498},\n",
              " {'loss': 2.2393648624420166, 'acc': 20.3125, 'step': 8499}]"
            ]
          },
          "metadata": {},
          "execution_count": 18
        }
      ],
      "source": [
        "history['train'][-100:-1]"
      ]
    },
    {
      "cell_type": "code",
      "execution_count": 19,
      "metadata": {
        "colab": {
          "base_uri": "https://localhost:8080/"
        },
        "id": "0di_uQX3vNt1",
        "outputId": "d2ebcd87-5819-4336-bffe-6485e3758310"
      },
      "outputs": [
        {
          "output_type": "execute_result",
          "data": {
            "text/plain": [
              "[{'loss': 2.3027733852386474, 'acc': 9.42, 'step': 0},\n",
              " {'loss': 2.30264232711792, 'acc': 9.42, 'step': 500},\n",
              " {'loss': 2.302589883041382, 'acc': 9.76, 'step': 1000},\n",
              " {'loss': 2.302431523513794, 'acc': 9.42, 'step': 1500},\n",
              " {'loss': 2.3025047050476073, 'acc': 9.42, 'step': 2000},\n",
              " {'loss': 2.302273889541626, 'acc': 11.24, 'step': 2500},\n",
              " {'loss': 2.3023715118408203, 'acc': 12.14, 'step': 3000},\n",
              " {'loss': 2.3022750694274903, 'acc': 11.9, 'step': 3500},\n",
              " {'loss': 2.3021425792694092, 'acc': 9.42, 'step': 4000},\n",
              " {'loss': 2.301901082229614, 'acc': 15.36, 'step': 4500},\n",
              " {'loss': 2.3018454319000243, 'acc': 9.42, 'step': 5000},\n",
              " {'loss': 2.3014462799072266, 'acc': 13.02, 'step': 5500},\n",
              " {'loss': 2.3009159950256346, 'acc': 19.28, 'step': 6000},\n",
              " {'loss': 2.3001779487609864, 'acc': 10.36, 'step': 6500},\n",
              " {'loss': 2.298694549560547, 'acc': 17.36, 'step': 7000},\n",
              " {'loss': 2.2953434459686277, 'acc': 17.4, 'step': 7500},\n",
              " {'loss': 2.284854742050171, 'acc': 17.4, 'step': 8000}]"
            ]
          },
          "metadata": {},
          "execution_count": 19
        }
      ],
      "source": [
        "history['val'][-1000:-1]"
      ]
    },
    {
      "cell_type": "code",
      "execution_count": 20,
      "metadata": {
        "colab": {
          "base_uri": "https://localhost:8080/",
          "height": 368
        },
        "id": "UAlY77TmvNt1",
        "outputId": "43c1b0ee-83c5-4904-c0eb-ed611118b4a6"
      },
      "outputs": [
        {
          "output_type": "display_data",
          "data": {
            "text/plain": [
              "<Figure size 1000x500 with 2 Axes>"
            ],
            "image/png": "[encoded data removed]"
          },
          "metadata": {}
        }
      ],
      "source": [
        "plot_learning_curves(history, sample_step=500)  #横坐标是 steps"
      ]
    }
  ],
  "metadata": {
    "kernelspec": {
      "display_name": "Python 3",
      "name": "python3"
    },
    "language_info": {
      "codemirror_mode": {
        "name": "ipython",
        "version": 3
      },
      "file_extension": ".py",
      "mimetype": "text/x-python",
      "name": "python",
      "nbconvert_exporter": "python",
      "pygments_lexer": "ipython3",
      "version": "3.12.3"
    },
    "colab": {
      "provenance": [],
      "gpuType": "T4"
    },
    "accelerator": "GPU",
    "widgets": {
      "application/vnd.jupyter.widget-state+json": {
        "278a1a4848c94e4b93e24a13e2c92652": {
          "model_module": "@jupyter-widgets/controls",
          "model_name": "HBoxModel",
          "model_module_version": "1.5.0",
          "state": {
            "_dom_classes": [],
            "_model_module": "@jupyter-widgets/controls",
            "_model_module_version": "1.5.0",
            "_model_name": "HBoxModel",
            "_view_count": null,
            "_view_module": "@jupyter-widgets/controls",
            "_view_module_version": "1.5.0",
            "_view_name": "HBoxView",
            "box_style": "",
            "children": [
              "IPY_MODEL_cadab844a37947f99af7ca6266ecd83e",
              "IPY_MODEL_bbf95625e3e84896afb229987f490193",
              "IPY_MODEL_8bb024bfc364442da6f623a77148aa76"
            ],
            "layout": "IPY_MODEL_aa7011b590394502b7edd28bcb78b38b"
          }
        },
        "cadab844a37947f99af7ca6266ecd83e": {
          "model_module": "@jupyter-widgets/controls",
          "model_name": "HTMLModel",
          "model_module_version": "1.5.0",
          "state": {
            "_dom_classes": [],
            "_model_module": "@jupyter-widgets/controls",
            "_model_module_version": "1.5.0",
            "_model_name": "HTMLModel",
            "_view_count": null,
            "_view_module": "@jupyter-widgets/controls",
            "_view_module_version": "1.5.0",
            "_view_name": "HTMLView",
            "description": "",
            "description_tooltip": null,
            "layout": "IPY_MODEL_6fece068280f4dcb93a2d95a7d772e46",
            "placeholder": "​",
            "style": "IPY_MODEL_05b3ebc34f5e40969aa24898dfac6c2e",
            "value": "Training Progress:  24%"
          }
        },
        "bbf95625e3e84896afb229987f490193": {
          "model_module": "@jupyter-widgets/controls",
          "model_name": "FloatProgressModel",
          "model_module_version": "1.5.0",
          "state": {
            "_dom_classes": [],
            "_model_module": "@jupyter-widgets/controls",
            "_model_module_version": "1.5.0",
            "_model_name": "FloatProgressModel",
            "_view_count": null,
            "_view_module": "@jupyter-widgets/controls",
            "_view_module_version": "1.5.0",
            "_view_name": "ProgressView",
            "bar_style": "danger",
            "description": "",
            "description_tooltip": null,
            "layout": "IPY_MODEL_9fda3b1808fa4c609e154d306b835010",
            "max": 35200,
            "min": 0,
            "orientation": "horizontal",
            "style": "IPY_MODEL_e2ca7f8609904b4ab607efff3a204b86",
            "value": 8500
          }
        },
        "8bb024bfc364442da6f623a77148aa76": {
          "model_module": "@jupyter-widgets/controls",
          "model_name": "HTMLModel",
          "model_module_version": "1.5.0",
          "state": {
            "_dom_classes": [],
            "_model_module": "@jupyter-widgets/controls",
            "_model_module_version": "1.5.0",
            "_model_name": "HTMLModel",
            "_view_count": null,
            "_view_module": "@jupyter-widgets/controls",
            "_view_module_version": "1.5.0",
            "_view_name": "HTMLView",
            "description": "",
            "description_tooltip": null,
            "layout": "IPY_MODEL_5855f242c4d54d58a6b7d14a976f65eb",
            "placeholder": "​",
            "style": "IPY_MODEL_7831b92a798548778e06f5f45bf9de2e",
            "value": " 8500/35200 [07:24&lt;20:13, 22.00it/s, epoch=12, loss=2.2394, acc=20.31%, val_acc=17.40%]"
          }
        },
        "aa7011b590394502b7edd28bcb78b38b": {
          "model_module": "@jupyter-widgets/base",
          "model_name": "LayoutModel",
          "model_module_version": "1.2.0",
          "state": {
            "_model_module": "@jupyter-widgets/base",
            "_model_module_version": "1.2.0",
            "_model_name": "LayoutModel",
            "_view_count": null,
            "_view_module": "@jupyter-widgets/base",
            "_view_module_version": "1.2.0",
            "_view_name": "LayoutView",
            "align_content": null,
            "align_items": null,
            "align_self": null,
            "border": null,
            "bottom": null,
            "display": null,
            "flex": null,
            "flex_flow": null,
            "grid_area": null,
            "grid_auto_columns": null,
            "grid_auto_flow": null,
            "grid_auto_rows": null,
            "grid_column": null,
            "grid_gap": null,
            "grid_row": null,
            "grid_template_areas": null,
            "grid_template_columns": null,
            "grid_template_rows": null,
            "height": null,
            "justify_content": null,
            "justify_items": null,
            "left": null,
            "margin": null,
            "max_height": null,
            "max_width": null,
            "min_height": null,
            "min_width": null,
            "object_fit": null,
            "object_position": null,
            "order": null,
            "overflow": null,
            "overflow_x": null,
            "overflow_y": null,
            "padding": null,
            "right": null,
            "top": null,
            "visibility": null,
            "width": null
          }
        },
        "6fece068280f4dcb93a2d95a7d772e46": {
          "model_module": "@jupyter-widgets/base",
          "model_name": "LayoutModel",
          "model_module_version": "1.2.0",
          "state": {
            "_model_module": "@jupyter-widgets/base",
            "_model_module_version": "1.2.0",
            "_model_name": "LayoutModel",
            "_view_count": null,
            "_view_module": "@jupyter-widgets/base",
            "_view_module_version": "1.2.0",
            "_view_name": "LayoutView",
            "align_content": null,
            "align_items": null,
            "align_self": null,
            "border": null,
            "bottom": null,
            "display": null,
            "flex": null,
            "flex_flow": null,
            "grid_area": null,
            "grid_auto_columns": null,
            "grid_auto_flow": null,
            "grid_auto_rows": null,
            "grid_column": null,
            "grid_gap": null,
            "grid_row": null,
            "grid_template_areas": null,
            "grid_template_columns": null,
            "grid_template_rows": null,
            "height": null,
            "justify_content": null,
            "justify_items": null,
            "left": null,
            "margin": null,
            "max_height": null,
            "max_width": null,
            "min_height": null,
            "min_width": null,
            "object_fit": null,
            "object_position": null,
            "order": null,
            "overflow": null,
            "overflow_x": null,
            "overflow_y": null,
            "padding": null,
            "right": null,
            "top": null,
            "visibility": null,
            "width": null
          }
        },
        "05b3ebc34f5e40969aa24898dfac6c2e": {
          "model_module": "@jupyter-widgets/controls",
          "model_name": "DescriptionStyleModel",
          "model_module_version": "1.5.0",
          "state": {
            "_model_module": "@jupyter-widgets/controls",
            "_model_module_version": "1.5.0",
            "_model_name": "DescriptionStyleModel",
            "_view_count": null,
            "_view_module": "@jupyter-widgets/base",
            "_view_module_version": "1.2.0",
            "_view_name": "StyleView",
            "description_width": ""
          }
        },
        "9fda3b1808fa4c609e154d306b835010": {
          "model_module": "@jupyter-widgets/base",
          "model_name": "LayoutModel",
          "model_module_version": "1.2.0",
          "state": {
            "_model_module": "@jupyter-widgets/base",
            "_model_module_version": "1.2.0",
            "_model_name": "LayoutModel",
            "_view_count": null,
            "_view_module": "@jupyter-widgets/base",
            "_view_module_version": "1.2.0",
            "_view_name": "LayoutView",
            "align_content": null,
            "align_items": null,
            "align_self": null,
            "border": null,
            "bottom": null,
            "display": null,
            "flex": null,
            "flex_flow": null,
            "grid_area": null,
            "grid_auto_columns": null,
            "grid_auto_flow": null,
            "grid_auto_rows": null,
            "grid_column": null,
            "grid_gap": null,
            "grid_row": null,
            "grid_template_areas": null,
            "grid_template_columns": null,
            "grid_template_rows": null,
            "height": null,
            "justify_content": null,
            "justify_items": null,
            "left": null,
            "margin": null,
            "max_height": null,
            "max_width": null,
            "min_height": null,
            "min_width": null,
            "object_fit": null,
            "object_position": null,
            "order": null,
            "overflow": null,
            "overflow_x": null,
            "overflow_y": null,
            "padding": null,
            "right": null,
            "top": null,
            "visibility": null,
            "width": null
          }
        },
        "e2ca7f8609904b4ab607efff3a204b86": {
          "model_module": "@jupyter-widgets/controls",
          "model_name": "ProgressStyleModel",
          "model_module_version": "1.5.0",
          "state": {
            "_model_module": "@jupyter-widgets/controls",
            "_model_module_version": "1.5.0",
            "_model_name": "ProgressStyleModel",
            "_view_count": null,
            "_view_module": "@jupyter-widgets/base",
            "_view_module_version": "1.2.0",
            "_view_name": "StyleView",
            "bar_color": null,
            "description_width": ""
          }
        },
        "5855f242c4d54d58a6b7d14a976f65eb": {
          "model_module": "@jupyter-widgets/base",
          "model_name": "LayoutModel",
          "model_module_version": "1.2.0",
          "state": {
            "_model_module": "@jupyter-widgets/base",
            "_model_module_version": "1.2.0",
            "_model_name": "LayoutModel",
            "_view_count": null,
            "_view_module": "@jupyter-widgets/base",
            "_view_module_version": "1.2.0",
            "_view_name": "LayoutView",
            "align_content": null,
            "align_items": null,
            "align_self": null,
            "border": null,
            "bottom": null,
            "display": null,
            "flex": null,
            "flex_flow": null,
            "grid_area": null,
            "grid_auto_columns": null,
            "grid_auto_flow": null,
            "grid_auto_rows": null,
            "grid_column": null,
            "grid_gap": null,
            "grid_row": null,
            "grid_template_areas": null,
            "grid_template_columns": null,
            "grid_template_rows": null,
            "height": null,
            "justify_content": null,
            "justify_items": null,
            "left": null,
            "margin": null,
            "max_height": null,
            "max_width": null,
            "min_height": null,
            "min_width": null,
            "object_fit": null,
            "object_position": null,
            "order": null,
            "overflow": null,
            "overflow_x": null,
            "overflow_y": null,
            "padding": null,
            "right": null,
            "top": null,
            "visibility": null,
            "width": null
          }
        },
        "7831b92a798548778e06f5f45bf9de2e": {
          "model_module": "@jupyter-widgets/controls",
          "model_name": "DescriptionStyleModel",
          "model_module_version": "1.5.0",
          "state": {
            "_model_module": "@jupyter-widgets/controls",
            "_model_module_version": "1.5.0",
            "_model_name": "DescriptionStyleModel",
            "_view_count": null,
            "_view_module": "@jupyter-widgets/base",
            "_view_module_version": "1.2.0",
            "_view_name": "StyleView",
            "description_width": ""
          }
        }
      }
    }
  },
  "nbformat": 4,
  "nbformat_minor": 0
}