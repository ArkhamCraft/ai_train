{
  "cells": [
    {
      "cell_type": "code",
      "execution_count": 25,
      "metadata": {
        "id": "7HiIgbDM3udc"
      },
      "outputs": [],
      "source": [
        "import torch\n",
        "import torchvision\n",
        "import numpy as np\n",
        "import matplotlib.pyplot as plt\n",
        "from torchvision import datasets, transforms\n",
        "from classificatiom_model import EarlyStopping, ModelSaver,train_classification_model,plot_learning_curves\n",
        "from classificatiom_model import evaluate_classification_model as evaluate_model\n"
      ]
    },
    {
      "cell_type": "code",
      "execution_count": 27,
      "metadata": {
        "id": "3U0VvtV13udd"
      },
      "outputs": [],
      "source": [
        "import json\n",
        "token = {\"username\":\"eviltrashcan\",\"key\":\"5a0836e4ef86086fdadf624206bd1421\"}\n",
        "with open('/content/kaggle.json', 'w') as file:\n",
        "  json.dump(token, file)"
      ]
    },
    {
      "cell_type": "code",
      "execution_count": 28,
      "metadata": {
        "colab": {
          "base_uri": "https://localhost:8080/"
        },
        "id": "sqZ7SCcP3udd",
        "outputId": "5b0051c8-99f1-457c-b5ad-d688cec51338"
      },
      "outputs": [
        {
          "name": "stdout",
          "output_type": "stream",
          "text": [
            "{\"username\": \"eviltrashcan\", \"key\": \"5a0836e4ef86086fdadf624206bd1421\"}"
          ]
        }
      ],
      "source": [
        "!cat /content/kaggle.json"
      ]
    },
    {
      "cell_type": "code",
      "execution_count": 29,
      "metadata": {
        "colab": {
          "base_uri": "https://localhost:8080/"
        },
        "id": "6ODknN_G3ude",
        "outputId": "e9bb5613-b1ab-45b7-dcc8-75ba9ec82a2a"
      },
      "outputs": [
        {
          "name": "stdout",
          "output_type": "stream",
          "text": [
            "- path is now set to: /content\n"
          ]
        }
      ],
      "source": [
        "!mkdir -p ~/.kaggle\n",
        "!cp /content/kaggle.json ~/.kaggle/\n",
        "!chmod 600 ~/.kaggle/kaggle.json\n",
        "!kaggle config set -n path -v /content"
      ]
    },
    {
      "cell_type": "code",
      "execution_count": 30,
      "metadata": {
        "colab": {
          "base_uri": "https://localhost:8080/"
        },
        "id": "cgZmQqZv3ude",
        "outputId": "2602e6b6-909e-4f28-8360-3610eec3d3e9"
      },
      "outputs": [
        {
          "name": "stdout",
          "output_type": "stream",
          "text": [
            "Downloading cifar-10.zip to /content/competitions/cifar-10\n",
            " 95% 679M/715M [00:10<00:00, 62.6MB/s]\n",
            "100% 715M/715M [00:10<00:00, 69.1MB/s]\n"
          ]
        }
      ],
      "source": [
        "!kaggle competitions download -c cifar-10"
      ]
    },
    {
      "cell_type": "code",
      "execution_count": 31,
      "metadata": {
        "colab": {
          "base_uri": "https://localhost:8080/"
        },
        "id": "YJwo2jhW3ude",
        "outputId": "0e30fd4b-4fe8-4a8f-e774-75cf825e3402"
      },
      "outputs": [
        {
          "name": "stdout",
          "output_type": "stream",
          "text": [
            "Archive:  /content/competitions/cifar-10/cifar-10.zip\n",
            "  inflating: sampleSubmission.csv    \n",
            "  inflating: test.7z                 \n",
            "  inflating: train.7z                \n",
            "  inflating: trainLabels.csv         \n"
          ]
        }
      ],
      "source": [
        "!unzip /content/competitions/cifar-10/cifar-10.zip"
      ]
    },
    {
      "cell_type": "code",
      "execution_count": 32,
      "metadata": {
        "colab": {
          "base_uri": "https://localhost:8080/"
        },
        "id": "foI4is7-3ude",
        "outputId": "70e16505-02da-43ac-e91e-6a941d1a8b22"
      },
      "outputs": [
        {
          "name": "stdout",
          "output_type": "stream",
          "text": [
            "Requirement already satisfied: py7zr in /usr/local/lib/python3.11/dist-packages (1.0.0)\n",
            "Requirement already satisfied: texttable in /usr/local/lib/python3.11/dist-packages (from py7zr) (1.7.0)\n",
            "Requirement already satisfied: pycryptodomex>=3.20.0 in /usr/local/lib/python3.11/dist-packages (from py7zr) (3.23.0)\n",
            "Requirement already satisfied: brotli>=1.1.0 in /usr/local/lib/python3.11/dist-packages (from py7zr) (1.1.0)\n",
            "Requirement already satisfied: psutil in /usr/local/lib/python3.11/dist-packages (from py7zr) (5.9.5)\n",
            "Requirement already satisfied: pyzstd>=0.16.1 in /usr/local/lib/python3.11/dist-packages (from py7zr) (0.17.0)\n",
            "Requirement already satisfied: pyppmd<1.3.0,>=1.1.0 in /usr/local/lib/python3.11/dist-packages (from py7zr) (1.2.0)\n",
            "Requirement already satisfied: pybcj<1.1.0,>=1.0.0 in /usr/local/lib/python3.11/dist-packages (from py7zr) (1.0.6)\n",
            "Requirement already satisfied: multivolumefile>=0.2.3 in /usr/local/lib/python3.11/dist-packages (from py7zr) (0.2.3)\n",
            "Requirement already satisfied: inflate64<1.1.0,>=1.0.0 in /usr/local/lib/python3.11/dist-packages (from py7zr) (1.0.3)\n",
            "Requirement already satisfied: typing-extensions>=4.13.2 in /usr/local/lib/python3.11/dist-packages (from pyzstd>=0.16.1->py7zr) (4.14.0)\n"
          ]
        }
      ],
      "source": [
        "%pip install py7zr\n",
        "import py7zr\n",
        "a =py7zr.SevenZipFile(r'./train.7z','r')\n",
        "a.extractall(path=r'./competitions/cifar-10/')\n",
        "a.close()"
      ]
    },
    {
      "cell_type": "code",
      "execution_count": 33,
      "metadata": {
        "colab": {
          "base_uri": "https://localhost:8080/"
        },
        "id": "Y2GcAdkt3ude",
        "outputId": "81b227b1-a659-47d1-b08b-e5370c34ccc1"
      },
      "outputs": [
        {
          "name": "stdout",
          "output_type": "stream",
          "text": [
            "50000\n"
          ]
        }
      ],
      "source": [
        "!ls competitions/cifar-10/train|wc -l"
      ]
    },
    {
      "cell_type": "code",
      "execution_count": 34,
      "metadata": {
        "colab": {
          "base_uri": "https://localhost:8080/"
        },
        "id": "L8MiNU1d3ude",
        "outputId": "0a933a29-6cc6-4f46-bbaf-e8a3c21e4684"
      },
      "outputs": [
        {
          "name": "stdout",
          "output_type": "stream",
          "text": [
            "完整数据集大小: 50000\n",
            "训练集大小: 45000\n",
            "验证集大小: 5000\n"
          ]
        }
      ],
      "source": [
        "# 加载CIFAR-10数据集\n",
        "import os\n",
        "import pandas as pd\n",
        "from PIL import Image\n",
        "from torch.utils.data import Dataset\n",
        "\n",
        "# 定义CIFAR-10数据集类\n",
        "class CIFAR10Dataset(Dataset):\n",
        "    def __init__(self, img_dir, labels_file, transform=None):\n",
        "        \"\"\"\n",
        "        初始化CIFAR-10数据集\n",
        "        参数:\n",
        "            img_dir: 图片目录路径\n",
        "            labels_file: 标签文件路径\n",
        "            transform: 图像预处理转换\n",
        "        \"\"\"\n",
        "        self.img_dir = img_dir\n",
        "        self.transform = transform\n",
        "\n",
        "        # 读取标签文件，read_csv默认读取第一行作为列名\n",
        "        self.labels_df = pd.read_csv(labels_file)\n",
        "        self.img_names = self.labels_df.iloc[:, 0].values.astype(str)  # 第一列是图片名称，确保为字符串类型\n",
        "\n",
        "        # 类别名称字典，使用字典可以提高查找速度\n",
        "        self.class_names_dict = {'airplane': 0, 'automobile': 1, 'bird': 2, 'cat': 3,\n",
        "                                 'deer': 4, 'dog': 5, 'frog': 6, 'horse': 7, 'ship': 8, 'truck': 9}\n",
        "        # 将文本标签转换为数字ID\n",
        "        self.labels = [self.class_names_dict[label] for label in self.labels_df.iloc[:, 1].values]\n",
        "\n",
        "    def __len__(self):\n",
        "        \"\"\"返回数据集中样本的数量\"\"\"\n",
        "        return len(self.labels)\n",
        "\n",
        "    def __getitem__(self, idx):\n",
        "        \"\"\"\n",
        "        获取指定索引的样本\n",
        "        参数:\n",
        "            idx: 样本索引\n",
        "        返回:\n",
        "            image_tensor: 经过转换的图像张量\n",
        "            label: 对应的标签\n",
        "        \"\"\"\n",
        "        img_path = os.path.join(self.img_dir, self.img_names[idx] + '.png') # 构建完整图片路径\n",
        "        image = Image.open(img_path) # 打开图片文件\n",
        "        label = self.labels[idx]  # 获取对应标签\n",
        "\n",
        "        if self.transform:\n",
        "            image_tensor = self.transform(image)  # 应用图像转换\n",
        "\n",
        "        return image_tensor, label\n",
        "\n",
        "# 定义数据预处理\n",
        "transform = transforms.Compose([\n",
        "    transforms.ToTensor(),  # 将PIL图像转换为张量，并将像素值归一化到[0,1]\n",
        "    transforms.Normalize((0.4917, 0.4823, 0.4467), (0.2024, 0.1995, 0.2010))  # 使用CIFAR-10的均值和标准差进行标准化\n",
        "])\n",
        "\n",
        "# 加载CIFAR-10数据集\n",
        "img_dir = r\"competitions/cifar-10/train\"  # 训练图像目录\n",
        "labels_file = r\"./trainLabels.csv\"  # 标签文件路径\n",
        "full_dataset = CIFAR10Dataset(img_dir=img_dir, labels_file=labels_file, transform=transform)\n",
        "\n",
        "# 定义类别名称\n",
        "class_names = ['airplane', 'automobile', 'bird', 'cat', 'deer', 'dog', 'frog', 'horse', 'ship', 'truck']\n",
        "\n",
        "# 划分训练集和验证集\n",
        "train_size = 45000  # 训练集大小\n",
        "val_size = 5000  # 验证集大小\n",
        "generator = torch.Generator().manual_seed(42)  # 设置随机种子，确保可重复性\n",
        "train_dataset, val_dataset = torch.utils.data.random_split(\n",
        "    full_dataset,\n",
        "    [train_size, val_size],\n",
        "    generator=generator  # 使用生成器确保划分结果一致\n",
        ")\n",
        "\n",
        "# 查看数据集基本信息\n",
        "print(f\"完整数据集大小: {len(full_dataset)}\")\n",
        "print(f\"训练集大小: {len(train_dataset)}\")\n",
        "print(f\"验证集大小: {len(val_dataset)}\")\n"
      ]
    },
    {
      "cell_type": "code",
      "execution_count": 35,
      "metadata": {
        "id": "s5qsjyIY3udf"
      },
      "outputs": [],
      "source": [
        "\n",
        "# 创建数据加载器\n",
        "batch_size = 64\n",
        "train_loader = torch.utils.data.DataLoader(\n",
        "    train_dataset,\n",
        "    batch_size=batch_size,\n",
        "    shuffle=True #打乱数据集，每次迭代时，数据集的顺序都会被打乱\n",
        ")\n",
        "\n",
        "val_loader = torch.utils.data.DataLoader(\n",
        "    val_dataset,\n",
        "    batch_size=batch_size,\n",
        "    shuffle=False\n",
        ")\n",
        "\n",
        "\n"
      ]
    },
    {
      "cell_type": "code",
      "execution_count": 36,
      "metadata": {
        "id": "5GP7S3WR3udf"
      },
      "outputs": [],
      "source": [
        "import torch.nn as nn\n",
        "import torch.nn.functional as F\n",
        "\n",
        "class NeuralNetwork(nn.Module):\n",
        "    def __init__(self):\n",
        "        super().__init__()\n",
        "\n",
        "        # 第一组卷积层 - 使用Sequential组织\n",
        "        self.conv_block1 = nn.Sequential(\n",
        "            nn.Conv2d(3, 128, kernel_size=3, padding=1),  # 输入3通道(RGB)，输出128通道，3x3卷积核，padding保持尺寸不变\n",
        "            nn.BatchNorm2d(128),  # 批量归一化，稳定训练过程\n",
        "            nn.ReLU(),  # 激活函数，引入非线性\n",
        "            nn.Conv2d(128, 128, kernel_size=3, padding=1),  # 第二层卷积，保持通道数不变\n",
        "            nn.BatchNorm2d(128),  # 批量归一化\n",
        "            nn.ReLU(),  # 激活函数\n",
        "            nn.MaxPool2d(kernel_size=2, stride=2)  # 最大池化，将特征图尺寸减半 (32x32 -> 16x16)\n",
        "        )\n",
        "\n",
        "        # 第二组卷积层 - 使用Sequential组织\n",
        "        self.conv_block2 = nn.Sequential(\n",
        "            nn.Conv2d(128, 256, kernel_size=3, padding=1),  # 输入128通道，输出256通道，特征维度提升\n",
        "            nn.BatchNorm2d(256),  # 批量归一化\n",
        "            nn.ReLU(),  # 激活函数\n",
        "            nn.Conv2d(256, 256, kernel_size=3, padding=1),  # 保持通道数不变\n",
        "            nn.BatchNorm2d(256),  # 批量归一化\n",
        "            nn.ReLU(),  # 激活函数\n",
        "            nn.MaxPool2d(kernel_size=2, stride=2)  # 最大池化，将特征图尺寸再次减半 (16x16 -> 8x8)\n",
        "        )\n",
        "\n",
        "        # 第三组卷积层 - 使用Sequential组织\n",
        "        self.conv_block3 = nn.Sequential(\n",
        "            nn.Conv2d(256, 512, kernel_size=3, padding=1),  # 输入256通道，输出512通道，进一步提取高级特征\n",
        "            nn.BatchNorm2d(512),  # 批量归一化\n",
        "            nn.ReLU(),  # 激活函数\n",
        "            nn.Conv2d(512, 512, kernel_size=3, padding=1),  # 保持通道数不变\n",
        "            nn.BatchNorm2d(512),  # 批量归一化\n",
        "            nn.ReLU(),  # 激活函数\n",
        "            nn.MaxPool2d(kernel_size=2, stride=2)  # 最大池化，将特征图尺寸再次减半 (8x8 -> 4x4)\n",
        "        )\n",
        "\n",
        "        # 全连接层 - 使用Sequential组织\n",
        "        self.classifier = nn.Sequential(\n",
        "            nn.Linear(512 * 4 * 4, 1024),  # 输入维度为512*4*4(展平后的特征图)，输出1024维特征\n",
        "            nn.ReLU(),  # 激活函数\n",
        "            nn.Linear(1024, 10)  # 最终输出层，10个类别对应CIFAR-10数据集\n",
        "        )\n",
        "\n",
        "        # 初始化权重\n",
        "        self.init_weights()\n",
        "\n",
        "    def init_weights(self):\n",
        "        \"\"\"使用 xavier 均匀分布来初始化卷积层和全连接层的权重\"\"\"\n",
        "        for m in self.modules():\n",
        "            if isinstance(m, nn.Conv2d) or isinstance(m, nn.Linear):\n",
        "                nn.init.xavier_uniform_(m.weight)  # Xavier初始化，有助于解决深度网络的梯度消失/爆炸问题\n",
        "                if m.bias is not None:\n",
        "                    nn.init.zeros_(m.bias)  # 偏置初始化为0\n",
        "\n",
        "    def forward(self, x):\n",
        "        # 前向传播使用Sequential定义的块\n",
        "        x = self.conv_block1(x)  # 第一组卷积操作\n",
        "        x = self.conv_block2(x)  # 第二组卷积操作\n",
        "        x = self.conv_block3(x)  # 第三组卷积操作\n",
        "\n",
        "        # 展平操作，将三维特征图转为一维向量\n",
        "        x = x.view(x.size(0), -1)  # [batch_size, 512*4*4]\n",
        "\n",
        "        # 通过分类器得到最终预测结果\n",
        "        x = self.classifier(x)  # [batch_size, 10]\n",
        "\n",
        "        return x\n"
      ]
    },
    {
      "cell_type": "code",
      "execution_count": 37,
      "metadata": {
        "colab": {
          "base_uri": "https://localhost:8080/"
        },
        "id": "O4J8pBcM3udf",
        "outputId": "304abdf4-6293-4fee-954b-d6c2cd3a3617"
      },
      "outputs": [
        {
          "name": "stdout",
          "output_type": "stream",
          "text": [
            "批次图像形状: torch.Size([64, 3, 32, 32])\n",
            "批次标签形状: torch.Size([64])\n",
            "----------------------------------------------------------------------------------------------------\n",
            "torch.Size([64, 10])\n"
          ]
        }
      ],
      "source": [
        "# 实例化模型\n",
        "model = NeuralNetwork()\n",
        "\n",
        "# 从train_loader获取第一个批次的数据\n",
        "dataiter = iter(train_loader)\n",
        "images, labels = next(dataiter)\n",
        "\n",
        "# 查看批次数据的形状\n",
        "print(\"批次图像形状:\", images.shape)\n",
        "print(\"批次标签形状:\", labels.shape)\n",
        "\n",
        "\n",
        "print('-'*100)\n",
        "# 进行前向传播\n",
        "with torch.no_grad():  # 不需要计算梯度\n",
        "    outputs = model(images)\n",
        "\n",
        "\n",
        "print(outputs.shape)\n"
      ]
    },
    {
      "cell_type": "code",
      "execution_count": 38,
      "metadata": {
        "colab": {
          "base_uri": "https://localhost:8080/"
        },
        "id": "vBUwB1vD3udf",
        "outputId": "e8e87cd4-e76d-4b7e-c066-c61bd459556b"
      },
      "outputs": [
        {
          "name": "stdout",
          "output_type": "stream",
          "text": [
            "需要求梯度的参数总量: 12979850\n",
            "模型总参数量: 12979850\n",
            "\n",
            "各层参数量明细:\n",
            "conv_block1.0.weight: 3456 参数\n",
            "conv_block1.0.bias: 128 参数\n",
            "conv_block1.1.weight: 128 参数\n",
            "conv_block1.1.bias: 128 参数\n",
            "conv_block1.3.weight: 147456 参数\n",
            "conv_block1.3.bias: 128 参数\n",
            "conv_block1.4.weight: 128 参数\n",
            "conv_block1.4.bias: 128 参数\n",
            "conv_block2.0.weight: 294912 参数\n",
            "conv_block2.0.bias: 256 参数\n",
            "conv_block2.1.weight: 256 参数\n",
            "conv_block2.1.bias: 256 参数\n",
            "conv_block2.3.weight: 589824 参数\n",
            "conv_block2.3.bias: 256 参数\n",
            "conv_block2.4.weight: 256 参数\n",
            "conv_block2.4.bias: 256 参数\n",
            "conv_block3.0.weight: 1179648 参数\n",
            "conv_block3.0.bias: 512 参数\n",
            "conv_block3.1.weight: 512 参数\n",
            "conv_block3.1.bias: 512 参数\n",
            "conv_block3.3.weight: 2359296 参数\n",
            "conv_block3.3.bias: 512 参数\n",
            "conv_block3.4.weight: 512 参数\n",
            "conv_block3.4.bias: 512 参数\n",
            "classifier.0.weight: 8388608 参数\n",
            "classifier.0.bias: 1024 参数\n",
            "classifier.2.weight: 10240 参数\n",
            "classifier.2.bias: 10 参数\n"
          ]
        }
      ],
      "source": [
        "# 计算模型的总参数量\n",
        "# 统计需要求梯度的参数总量\n",
        "total_params = sum(p.numel() for p in model.parameters() if p.requires_grad)\n",
        "print(f\"需要求梯度的参数总量: {total_params}\")\n",
        "\n",
        "# 统计所有参数总量\n",
        "all_params = sum(p.numel() for p in model.parameters())\n",
        "print(f\"模型总参数量: {all_params}\")\n",
        "\n",
        "# 查看每层参数量明细\n",
        "print(\"\\n各层参数量明细:\")\n",
        "for name, param in model.named_parameters():\n",
        "    print(f\"{name}: {param.numel()} 参数\")\n"
      ]
    },
    {
      "cell_type": "code",
      "execution_count": 39,
      "metadata": {
        "colab": {
          "base_uri": "https://localhost:8080/"
        },
        "id": "Rma0pWiJ3udf",
        "outputId": "2fe0520c-7024-4e0d-bee1-87d42526b8e1"
      },
      "outputs": [
        {
          "name": "stdout",
          "output_type": "stream",
          "text": [
            "损失函数: CrossEntropyLoss()\n"
          ]
        }
      ],
      "source": [
        "model = NeuralNetwork()\n",
        "# 定义损失函数和优化器\n",
        "loss_fn = nn.CrossEntropyLoss()  # 交叉熵损失函数，适用于多分类问题，里边会做softmax，还有会把0-9标签转换成one-hot编码\n",
        "optimizer = torch.optim.SGD(model.parameters(), lr=0.001, momentum=0.9)  # SGD优化器，学习率为0.01，动量为0.9\n",
        "print(\"损失函数:\", loss_fn)\n"
      ]
    },
    {
      "cell_type": "code",
      "execution_count": 40,
      "metadata": {
        "colab": {
          "base_uri": "https://localhost:8080/",
          "height": 101,
          "referenced_widgets": [
            "611d860526c04e26b1153a61e4825710",
            "221a964dddae4a1494bce654b5d34bc8",
            "be38ae3a777840aeae6bfe952847bb93",
            "80e975091f43412799f73fec039c0a73",
            "4de5e1878eab48468d58db533afeb7e9",
            "d75d1c48d5554eb982fb2f1d15a03e8e",
            "df4ba5fca1c347d1a28ebba0f276aae3",
            "8d18e7ec9c0f4985b66f2abb056bc5c8",
            "22bd09327c444a60af1e627874676fd3",
            "29a3bca5697f4b87a046d3cd79716fea",
            "2b39746f3e354fc3afa582c3898ab619"
          ]
        },
        "id": "hqqgIfyV3udg",
        "outputId": "fc19dacd-36c3-489b-f0a4-9f7864f8c3eb"
      },
      "outputs": [
        {
          "name": "stdout",
          "output_type": "stream",
          "text": [
            "使用设备: cuda:0\n"
          ]
        },
        {
          "data": {
            "application/vnd.jupyter.widget-view+json": {
              "model_id": "611d860526c04e26b1153a61e4825710",
              "version_major": 2,
              "version_minor": 0
            },
            "text/plain": [
              "Training Progress:   0%|          | 0/35200 [00:00<?, ?it/s]"
            ]
          },
          "metadata": {},
          "output_type": "display_data"
        },
        {
          "name": "stdout",
          "output_type": "stream",
          "text": [
            "早停触发! 最佳验证准确率: 80.8800\n",
            "早停: 已有5轮验证损失没有改善！\n"
          ]
        }
      ],
      "source": [
        "device = torch.device(\"cuda:0\" if torch.cuda.is_available() else \"cpu\")\n",
        "print(f\"使用设备: {device}\")\n",
        "model = model.to(device) #将模型移动到GPU\n",
        "early_stopping=EarlyStopping(patience=5, delta=0.001)\n",
        "model_saver=ModelSaver(save_dir='model_weights', save_best_only=True)\n",
        "\n",
        "\n",
        "model, history = train_classification_model(model, train_loader, val_loader, loss_fn, optimizer, device, num_epochs=50, early_stopping=early_stopping, model_saver=model_saver, tensorboard_logger=None)\n",
        "\n"
      ]
    },
    {
      "cell_type": "code",
      "execution_count": 41,
      "metadata": {
        "colab": {
          "base_uri": "https://localhost:8080/"
        },
        "id": "xDHuBbVu3udg",
        "outputId": "1889cb73-896d-4bed-a545-3ba90b8e0662"
      },
      "outputs": [
        {
          "data": {
            "text/plain": [
              "[{'loss': 0.005698289722204208, 'acc': 100.0, 'step': 9401},\n",
              " {'loss': 0.004647423047572374, 'acc': 100.0, 'step': 9402},\n",
              " {'loss': 0.004613662604242563, 'acc': 100.0, 'step': 9403},\n",
              " {'loss': 0.004719239193946123, 'acc': 100.0, 'step': 9404},\n",
              " {'loss': 0.005033548921346664, 'acc': 100.0, 'step': 9405},\n",
              " {'loss': 0.00471144774928689, 'acc': 100.0, 'step': 9406},\n",
              " {'loss': 0.004823734983801842, 'acc': 100.0, 'step': 9407},\n",
              " {'loss': 0.009813947603106499, 'acc': 100.0, 'step': 9408},\n",
              " {'loss': 0.004382151644676924, 'acc': 100.0, 'step': 9409},\n",
              " {'loss': 0.004386579152196646, 'acc': 100.0, 'step': 9410},\n",
              " {'loss': 0.004786801058799028, 'acc': 100.0, 'step': 9411},\n",
              " {'loss': 0.003678069682791829, 'acc': 100.0, 'step': 9412},\n",
              " {'loss': 0.004076982848346233, 'acc': 100.0, 'step': 9413},\n",
              " {'loss': 0.005846087355166674, 'acc': 100.0, 'step': 9414},\n",
              " {'loss': 0.0057292478159070015, 'acc': 100.0, 'step': 9415},\n",
              " {'loss': 0.0035347421653568745, 'acc': 100.0, 'step': 9416},\n",
              " {'loss': 0.006173697765916586, 'acc': 100.0, 'step': 9417},\n",
              " {'loss': 0.0029466089326888323, 'acc': 100.0, 'step': 9418},\n",
              " {'loss': 0.01272392924875021, 'acc': 100.0, 'step': 9419},\n",
              " {'loss': 0.00561396311968565, 'acc': 100.0, 'step': 9420},\n",
              " {'loss': 0.005026394501328468, 'acc': 100.0, 'step': 9421},\n",
              " {'loss': 0.013750343583524227, 'acc': 100.0, 'step': 9422},\n",
              " {'loss': 0.006258564069867134, 'acc': 100.0, 'step': 9423},\n",
              " {'loss': 0.0065435073338449, 'acc': 100.0, 'step': 9424},\n",
              " {'loss': 0.009047646075487137, 'acc': 100.0, 'step': 9425},\n",
              " {'loss': 0.002740697469562292, 'acc': 100.0, 'step': 9426},\n",
              " {'loss': 0.006797602865844965, 'acc': 100.0, 'step': 9427},\n",
              " {'loss': 0.004022175446152687, 'acc': 100.0, 'step': 9428},\n",
              " {'loss': 0.003710203804075718, 'acc': 100.0, 'step': 9429},\n",
              " {'loss': 0.009326991625130177, 'acc': 100.0, 'step': 9430},\n",
              " {'loss': 0.012134937569499016, 'acc': 100.0, 'step': 9431},\n",
              " {'loss': 0.00438678776845336, 'acc': 100.0, 'step': 9432},\n",
              " {'loss': 0.004985956475138664, 'acc': 100.0, 'step': 9433},\n",
              " {'loss': 0.01885618269443512, 'acc': 100.0, 'step': 9434},\n",
              " {'loss': 0.005860473960638046, 'acc': 100.0, 'step': 9435},\n",
              " {'loss': 0.00480361795052886, 'acc': 100.0, 'step': 9436},\n",
              " {'loss': 0.007080203853547573, 'acc': 100.0, 'step': 9437},\n",
              " {'loss': 0.003177572740241885, 'acc': 100.0, 'step': 9438},\n",
              " {'loss': 0.0044267806224524975, 'acc': 100.0, 'step': 9439},\n",
              " {'loss': 0.005708038341253996, 'acc': 100.0, 'step': 9440},\n",
              " {'loss': 0.007033520843833685, 'acc': 100.0, 'step': 9441},\n",
              " {'loss': 0.005559750832617283, 'acc': 100.0, 'step': 9442},\n",
              " {'loss': 0.006904272828251123, 'acc': 100.0, 'step': 9443},\n",
              " {'loss': 0.007458966691046953, 'acc': 100.0, 'step': 9444},\n",
              " {'loss': 0.007893597707152367, 'acc': 100.0, 'step': 9445},\n",
              " {'loss': 0.005285939667373896, 'acc': 100.0, 'step': 9446},\n",
              " {'loss': 0.004126707557588816, 'acc': 100.0, 'step': 9447},\n",
              " {'loss': 0.021529003977775574, 'acc': 100.0, 'step': 9448},\n",
              " {'loss': 0.0025220196694135666, 'acc': 100.0, 'step': 9449},\n",
              " {'loss': 0.002272580750286579, 'acc': 100.0, 'step': 9450},\n",
              " {'loss': 0.006450426299124956, 'acc': 100.0, 'step': 9451},\n",
              " {'loss': 0.0022919727489352226, 'acc': 100.0, 'step': 9452},\n",
              " {'loss': 0.003979412838816643, 'acc': 100.0, 'step': 9453},\n",
              " {'loss': 0.00734248710796237, 'acc': 100.0, 'step': 9454},\n",
              " {'loss': 0.0070155612193048, 'acc': 100.0, 'step': 9455},\n",
              " {'loss': 0.013556704856455326, 'acc': 100.0, 'step': 9456},\n",
              " {'loss': 0.006251548882573843, 'acc': 100.0, 'step': 9457},\n",
              " {'loss': 0.006789426784962416, 'acc': 100.0, 'step': 9458},\n",
              " {'loss': 0.011011886410415173, 'acc': 100.0, 'step': 9459},\n",
              " {'loss': 0.008443190716207027, 'acc': 100.0, 'step': 9460},\n",
              " {'loss': 0.006928394548594952, 'acc': 100.0, 'step': 9461},\n",
              " {'loss': 0.0031630494631826878, 'acc': 100.0, 'step': 9462},\n",
              " {'loss': 0.006099372170865536, 'acc': 100.0, 'step': 9463},\n",
              " {'loss': 0.004845787771046162, 'acc': 100.0, 'step': 9464},\n",
              " {'loss': 0.00587999913841486, 'acc': 100.0, 'step': 9465},\n",
              " {'loss': 0.012708516791462898, 'acc': 100.0, 'step': 9466},\n",
              " {'loss': 0.008150946348905563, 'acc': 100.0, 'step': 9467},\n",
              " {'loss': 0.0035800267942249775, 'acc': 100.0, 'step': 9468},\n",
              " {'loss': 0.004563474096357822, 'acc': 100.0, 'step': 9469},\n",
              " {'loss': 0.003160290652886033, 'acc': 100.0, 'step': 9470},\n",
              " {'loss': 0.004842138849198818, 'acc': 100.0, 'step': 9471},\n",
              " {'loss': 0.00522340415045619, 'acc': 100.0, 'step': 9472},\n",
              " {'loss': 0.0057738530449569225, 'acc': 100.0, 'step': 9473},\n",
              " {'loss': 0.007781868800520897, 'acc': 100.0, 'step': 9474},\n",
              " {'loss': 0.007528907153755426, 'acc': 100.0, 'step': 9475},\n",
              " {'loss': 0.00556660583242774, 'acc': 100.0, 'step': 9476},\n",
              " {'loss': 0.006103965453803539, 'acc': 100.0, 'step': 9477},\n",
              " {'loss': 0.005350818857550621, 'acc': 100.0, 'step': 9478},\n",
              " {'loss': 0.0036197861190885305, 'acc': 100.0, 'step': 9479},\n",
              " {'loss': 0.00578083423897624, 'acc': 100.0, 'step': 9480},\n",
              " {'loss': 0.011412310414016247, 'acc': 100.0, 'step': 9481},\n",
              " {'loss': 0.006430668290704489, 'acc': 100.0, 'step': 9482},\n",
              " {'loss': 0.005036446265876293, 'acc': 100.0, 'step': 9483},\n",
              " {'loss': 0.004249780438840389, 'acc': 100.0, 'step': 9484},\n",
              " {'loss': 0.0033947189804166555, 'acc': 100.0, 'step': 9485},\n",
              " {'loss': 0.00544758653268218, 'acc': 100.0, 'step': 9486},\n",
              " {'loss': 0.004252917133271694, 'acc': 100.0, 'step': 9487},\n",
              " {'loss': 0.0033311431761831045, 'acc': 100.0, 'step': 9488},\n",
              " {'loss': 0.0022063374053686857, 'acc': 100.0, 'step': 9489},\n",
              " {'loss': 0.005986675154417753, 'acc': 100.0, 'step': 9490},\n",
              " {'loss': 0.005158728454262018, 'acc': 100.0, 'step': 9491},\n",
              " {'loss': 0.007154144812375307, 'acc': 100.0, 'step': 9492},\n",
              " {'loss': 0.00479532778263092, 'acc': 100.0, 'step': 9493},\n",
              " {'loss': 0.006212707608938217, 'acc': 100.0, 'step': 9494},\n",
              " {'loss': 0.0036654446739703417, 'acc': 100.0, 'step': 9495},\n",
              " {'loss': 0.004677545744925737, 'acc': 100.0, 'step': 9496},\n",
              " {'loss': 0.007844552397727966, 'acc': 100.0, 'step': 9497},\n",
              " {'loss': 0.0024276040494441986, 'acc': 100.0, 'step': 9498},\n",
              " {'loss': 0.0040368628688156605, 'acc': 100.0, 'step': 9499}]"
            ]
          },
          "execution_count": 41,
          "metadata": {},
          "output_type": "execute_result"
        }
      ],
      "source": [
        "history['train'][-100:-1]\n"
      ]
    },
    {
      "cell_type": "code",
      "execution_count": 42,
      "metadata": {
        "colab": {
          "base_uri": "https://localhost:8080/"
        },
        "id": "b3Ohddp33udg",
        "outputId": "566e0e03-b90f-4b1f-9ce5-f09032c3aa69"
      },
      "outputs": [
        {
          "data": {
            "text/plain": [
              "[{'loss': 2.3040840320587157, 'acc': 8.58, 'step': 0},\n",
              " {'loss': 1.0997572706222534, 'acc': 60.38, 'step': 500},\n",
              " {'loss': 0.8982386985778809, 'acc': 67.52, 'step': 1000},\n",
              " {'loss': 0.8121403874397278, 'acc': 71.68, 'step': 1500},\n",
              " {'loss': 0.783211523103714, 'acc': 72.42, 'step': 2000},\n",
              " {'loss': 0.6996137134552002, 'acc': 75.92, 'step': 2500},\n",
              " {'loss': 0.7319747125148773, 'acc': 75.34, 'step': 3000},\n",
              " {'loss': 0.6958818212509156, 'acc': 76.08, 'step': 3500},\n",
              " {'loss': 0.6817657352924347, 'acc': 77.54, 'step': 4000},\n",
              " {'loss': 0.672947887468338, 'acc': 79.52, 'step': 4500},\n",
              " {'loss': 0.6774132533073425, 'acc': 78.92, 'step': 5000},\n",
              " {'loss': 0.7014308073043823, 'acc': 79.6, 'step': 5500},\n",
              " {'loss': 0.6835381038665771, 'acc': 79.98, 'step': 6000},\n",
              " {'loss': 0.6985765370845795, 'acc': 80.16, 'step': 6500},\n",
              " {'loss': 0.6987924649715423, 'acc': 80.88, 'step': 7000},\n",
              " {'loss': 0.705199195766449, 'acc': 80.56, 'step': 7500},\n",
              " {'loss': 0.7222976142168045, 'acc': 80.6, 'step': 8000},\n",
              " {'loss': 0.7265679265975952, 'acc': 80.74, 'step': 8500},\n",
              " {'loss': 0.7324911890506745, 'acc': 80.68, 'step': 9000}]"
            ]
          },
          "execution_count": 42,
          "metadata": {},
          "output_type": "execute_result"
        }
      ],
      "source": [
        "history['val'][-1000:-1]"
      ]
    },
    {
      "cell_type": "code",
      "execution_count": 43,
      "metadata": {
        "colab": {
          "base_uri": "https://localhost:8080/",
          "height": 465
        },
        "id": "Pt4J7Zo73udg",
        "outputId": "37a95340-38ca-4aa2-960c-86cc1f68bb1f"
      },
      "outputs": [
        {
          "data": {
            "image/png": "[encoded data removed]",
            "text/plain": [
              "<Figure size 1000x500 with 2 Axes>"
            ]
          },
          "metadata": {},
          "output_type": "display_data"
        }
      ],
      "source": [
        "plot_learning_curves(history, sample_step=500)  #横坐标是 steps"
      ]
    },
    {
      "cell_type": "code",
      "execution_count": 44,
      "metadata": {
        "id": "0zHXtNpQ3udg"
      },
      "outputs": [],
      "source": [
        "a =py7zr.SevenZipFile(r'./test.7z','r')\n",
        "a.extractall(path=r'./competitions/cifar-10/')\n",
        "a.close()"
      ]
    },
    {
      "cell_type": "code",
      "execution_count": 45,
      "metadata": {
        "colab": {
          "base_uri": "https://localhost:8080/"
        },
        "id": "MuE5h3SG3udg",
        "outputId": "3b1c3880-acf5-408c-fd80-f5866105a50d"
      },
      "outputs": [
        {
          "name": "stderr",
          "output_type": "stream",
          "text": [
            "/usr/local/lib/python3.11/dist-packages/torch/utils/data/dataloader.py:624: UserWarning: This DataLoader will create 4 worker processes in total. Our suggested max number of worker in current system is 2, which is smaller than what this DataLoader is going to create. Please be aware that excessive worker creation might get DataLoader running slow or even freeze, lower the worker number to avoid potential slowness/freeze if necessary.\n",
            "  warnings.warn(\n"
          ]
        },
        {
          "name": "stdout",
          "output_type": "stream",
          "text": [
            "正在预测测试集...\n"
          ]
        },
        {
          "name": "stderr",
          "output_type": "stream",
          "text": [
            "\r预测进度:   0%|          | 0/2344 [00:00<?, ?it/s]/usr/local/lib/python3.11/dist-packages/torch/utils/data/dataloader.py:624: UserWarning: This DataLoader will create 4 worker processes in total. Our suggested max number of worker in current system is 2, which is smaller than what this DataLoader is going to create. Please be aware that excessive worker creation might get DataLoader running slow or even freeze, lower the worker number to avoid potential slowness/freeze if necessary.\n",
            "  warnings.warn(\n",
            "预测进度: 100%|██████████| 2344/2344 [02:01<00:00, 19.34it/s]\n"
          ]
        },
        {
          "name": "stdout",
          "output_type": "stream",
          "text": [
            "id列是否有重复值: False\n",
            "预测完成，结果已保存至 cifar10_submission.csv\n"
          ]
        }
      ],
      "source": [
        "# 导入所需库\n",
        "import os\n",
        "import pandas as pd\n",
        "from PIL import Image\n",
        "import torch\n",
        "from torch.utils.data import Dataset, DataLoader\n",
        "from torchvision import transforms\n",
        "import tqdm\n",
        "\n",
        "# 定义测试数据集类\n",
        "class CIFAR10TestDataset(Dataset):\n",
        "    def __init__(self, img_dir, transform=None):\n",
        "        \"\"\"\n",
        "        初始化测试数据集\n",
        "\n",
        "        参数:\n",
        "            img_dir: 测试图片目录\n",
        "            transform: 图像预处理变换\n",
        "        \"\"\"\n",
        "        self.img_dir = img_dir  # 存储图像目录路径\n",
        "        self.transform = transform  # 存储图像变换操作\n",
        "        self.img_files = [f for f in os.listdir(img_dir) if f.endswith('.png')]  # 获取所有PNG图像文件名\n",
        "\n",
        "    def __len__(self):\n",
        "        return len(self.img_files)  # 返回数据集大小\n",
        "\n",
        "    def __getitem__(self, idx):\n",
        "        img_path = os.path.join(self.img_dir, self.img_files[idx])  # 构建完整图像路径\n",
        "        image = Image.open(img_path).convert('RGB')  # 打开图像并转换为RGB格式\n",
        "\n",
        "        if self.transform:\n",
        "            image = self.transform(image)  # 应用图像变换\n",
        "\n",
        "        # 提取图像ID（文件名去掉扩展名）\n",
        "        img_id = int(os.path.splitext(self.img_files[idx])[0])  # 从文件名中提取ID\n",
        "\n",
        "        return image, img_id  # 返回图像和对应ID\n",
        "\n",
        "# 定义预测函数\n",
        "def predict_test_set(model, img_dir, labels_file, device, batch_size=64):\n",
        "    \"\"\"\n",
        "    预测测试集并生成提交文件\n",
        "\n",
        "    参数:\n",
        "        model: 训练好的模型\n",
        "        img_dir: 测试图片目录\n",
        "        labels_file: 提交模板文件路径\n",
        "        device: 计算设备\n",
        "        batch_size: 批处理大小\n",
        "    \"\"\"\n",
        "    # 图像预处理变换（与训练集相同）\n",
        "    transform = transforms.Compose([\n",
        "        transforms.ToTensor(),  # 将PIL图像转换为张量\n",
        "        transforms.Normalize((0.4917, 0.4823, 0.4467), (0.2024, 0.1995, 0.2010))  # 使用CIFAR-10的均值和标准差进行标准化\n",
        "    ])\n",
        "\n",
        "    # 创建测试数据集和数据加载器\n",
        "    test_dataset = CIFAR10TestDataset(img_dir, transform=transform)  # 实例化测试数据集\n",
        "    test_loader = DataLoader(test_dataset, batch_size=batch_size, shuffle=False, num_workers=4)  # 创建数据加载器，不打乱顺序\n",
        "\n",
        "    # 设置模型为评估模式\n",
        "    model.eval()  # 切换到评估模式，禁用dropout等\n",
        "\n",
        "    # 读取提交模板\n",
        "    submission_df = pd.read_csv(labels_file)  # 加载提交模板CSV文件\n",
        "    predictions = {}  # 存储预测结果的字典\n",
        "\n",
        "    # 使用tqdm显示进度条\n",
        "    print(\"正在预测测试集...\")\n",
        "    with torch.no_grad():  # 禁用梯度计算，减少内存使用并加速推理\n",
        "        for images, img_ids in tqdm.tqdm(test_loader, desc=\"预测进度\"):  # 遍历测试数据集\n",
        "            images = images.to(device)  # 将图像数据移动到指定设备(CPU/GPU)\n",
        "            outputs = model(images)  # 通过模型获取预测输出\n",
        "            _, predicted = torch.max(outputs, 1)  # 取最大值的索引作为预测结果\n",
        "\n",
        "            # 记录每个图像的预测结果\n",
        "            for i, img_id in enumerate(img_ids):\n",
        "                predictions[img_id.item()] = predicted[i].item()  # 将张量值转换为Python数值并存储\n",
        "\n",
        "    # 定义类别名称\n",
        "    class_names = ['airplane', 'automobile', 'bird', 'cat', 'deer', 'dog', 'frog', 'horse', 'ship', 'truck']  # CIFAR-10的10个类别\n",
        "\n",
        "    # 将数值标签转换为类别名称\n",
        "    labeled_predictions = {img_id: class_names[pred] for img_id, pred in predictions.items()}  # 将数字标签映射为类别名称\n",
        "\n",
        "    # 直接创建DataFrame\n",
        "    submission_df = pd.DataFrame({\n",
        "        'id': list(labeled_predictions.keys()),  # 图像ID列\n",
        "        'label': list(labeled_predictions.values())  # 预测类别列\n",
        "    })\n",
        "    # 按id列排序\n",
        "    submission_df = submission_df.sort_values(by='id')  # 确保结果按ID排序\n",
        "\n",
        "    # 检查id列是否有重复值\n",
        "    has_duplicates = submission_df['id'].duplicated().any()  # 检查是否有重复ID\n",
        "    print(f\"id列是否有重复值: {has_duplicates}\")\n",
        "    # 保存预测结果\n",
        "    output_file = 'cifar10_submission.csv'  # 输出文件名\n",
        "    submission_df.to_csv(output_file, index=False)  # 保存为CSV文件，不包含索引列\n",
        "    print(f\"预测完成，结果已保存至 {output_file}\")\n",
        "\n",
        "# 执行测试集预测\n",
        "img_dir = r\"competitions/cifar-10/test\"  # 测试图像目录\n",
        "labels_file = r\"./sampleSubmission.csv\"  # 提交模板文件\n",
        "predict_test_set(model, img_dir, labels_file, device, batch_size=128)  # 调用预测函数，批次大小为128\n"
      ]
    },
    {
      "cell_type": "code",
      "execution_count": 46,
      "metadata": {
        "colab": {
          "base_uri": "https://localhost:8080/"
        },
        "id": "89QzxtHr3udg",
        "outputId": "359ffcbf-ae55-4afc-bfd2-7c00eeabcc38"
      },
      "outputs": [
        {
          "name": "stdout",
          "output_type": "stream",
          "text": [
            "id,label\n",
            "1,deer\n",
            "2,airplane\n",
            "3,automobile\n",
            "4,ship\n",
            "5,bird\n",
            "6,cat\n",
            "7,airplane\n",
            "8,cat\n",
            "9,bird\n"
          ]
        }
      ],
      "source": [
        "!head -10 cifar10_submission.csv"
      ]
    },
    {
      "cell_type": "code",
      "execution_count": 47,
      "metadata": {
        "colab": {
          "base_uri": "https://localhost:8080/"
        },
        "id": "wRwBwDp03udg",
        "outputId": "231c61dc-c120-419a-c850-3b1c6d51b5a7"
      },
      "outputs": [
        {
          "name": "stdout",
          "output_type": "stream",
          "text": [
            "300001 cifar10_submission.csv\n"
          ]
        }
      ],
      "source": [
        "!wc -l cifar10_submission.csv"
      ]
    }
  ],
  "metadata": {
    "accelerator": "GPU",
    "colab": {
      "gpuType": "T4",
      "provenance": []
    },
    "kernelspec": {
      "display_name": "Python 3",
      "name": "python3"
    },
    "language_info": {
      "codemirror_mode": {
        "name": "ipython",
        "version": 3
      },
      "file_extension": ".py",
      "mimetype": "text/x-python",
      "name": "python",
      "nbconvert_exporter": "python",
      "pygments_lexer": "ipython3",
      "version": "3.12.3"
    },
    "widgets": {
      "application/vnd.jupyter.widget-state+json": {
        "221a964dddae4a1494bce654b5d34bc8": {
          "model_module": "@jupyter-widgets/controls",
          "model_module_version": "1.5.0",
          "model_name": "HTMLModel",
          "state": {
            "_dom_classes": [],
            "_model_module": "@jupyter-widgets/controls",
            "_model_module_version": "1.5.0",
            "_model_name": "HTMLModel",
            "_view_count": null,
            "_view_module": "@jupyter-widgets/controls",
            "_view_module_version": "1.5.0",
            "_view_name": "HTMLView",
            "description": "",
            "description_tooltip": null,
            "layout": "IPY_MODEL_d75d1c48d5554eb982fb2f1d15a03e8e",
            "placeholder": "​",
            "style": "IPY_MODEL_df4ba5fca1c347d1a28ebba0f276aae3",
            "value": "Training Progress:  27%"
          }
        },
        "22bd09327c444a60af1e627874676fd3": {
          "model_module": "@jupyter-widgets/controls",
          "model_module_version": "1.5.0",
          "model_name": "ProgressStyleModel",
          "state": {
            "_model_module": "@jupyter-widgets/controls",
            "_model_module_version": "1.5.0",
            "_model_name": "ProgressStyleModel",
            "_view_count": null,
            "_view_module": "@jupyter-widgets/base",
            "_view_module_version": "1.2.0",
            "_view_name": "StyleView",
            "bar_color": null,
            "description_width": ""
          }
        },
        "29a3bca5697f4b87a046d3cd79716fea": {
          "model_module": "@jupyter-widgets/base",
          "model_module_version": "1.2.0",
          "model_name": "LayoutModel",
          "state": {
            "_model_module": "@jupyter-widgets/base",
            "_model_module_version": "1.2.0",
            "_model_name": "LayoutModel",
            "_view_count": null,
            "_view_module": "@jupyter-widgets/base",
            "_view_module_version": "1.2.0",
            "_view_name": "LayoutView",
            "align_content": null,
            "align_items": null,
            "align_self": null,
            "border": null,
            "bottom": null,
            "display": null,
            "flex": null,
            "flex_flow": null,
            "grid_area": null,
            "grid_auto_columns": null,
            "grid_auto_flow": null,
            "grid_auto_rows": null,
            "grid_column": null,
            "grid_gap": null,
            "grid_row": null,
            "grid_template_areas": null,
            "grid_template_columns": null,
            "grid_template_rows": null,
            "height": null,
            "justify_content": null,
            "justify_items": null,
            "left": null,
            "margin": null,
            "max_height": null,
            "max_width": null,
            "min_height": null,
            "min_width": null,
            "object_fit": null,
            "object_position": null,
            "order": null,
            "overflow": null,
            "overflow_x": null,
            "overflow_y": null,
            "padding": null,
            "right": null,
            "top": null,
            "visibility": null,
            "width": null
          }
        },
        "2b39746f3e354fc3afa582c3898ab619": {
          "model_module": "@jupyter-widgets/controls",
          "model_module_version": "1.5.0",
          "model_name": "DescriptionStyleModel",
          "state": {
            "_model_module": "@jupyter-widgets/controls",
            "_model_module_version": "1.5.0",
            "_model_name": "DescriptionStyleModel",
            "_view_count": null,
            "_view_module": "@jupyter-widgets/base",
            "_view_module_version": "1.2.0",
            "_view_name": "StyleView",
            "description_width": ""
          }
        },
        "4de5e1878eab48468d58db533afeb7e9": {
          "model_module": "@jupyter-widgets/base",
          "model_module_version": "1.2.0",
          "model_name": "LayoutModel",
          "state": {
            "_model_module": "@jupyter-widgets/base",
            "_model_module_version": "1.2.0",
            "_model_name": "LayoutModel",
            "_view_count": null,
            "_view_module": "@jupyter-widgets/base",
            "_view_module_version": "1.2.0",
            "_view_name": "LayoutView",
            "align_content": null,
            "align_items": null,
            "align_self": null,
            "border": null,
            "bottom": null,
            "display": null,
            "flex": null,
            "flex_flow": null,
            "grid_area": null,
            "grid_auto_columns": null,
            "grid_auto_flow": null,
            "grid_auto_rows": null,
            "grid_column": null,
            "grid_gap": null,
            "grid_row": null,
            "grid_template_areas": null,
            "grid_template_columns": null,
            "grid_template_rows": null,
            "height": null,
            "justify_content": null,
            "justify_items": null,
            "left": null,
            "margin": null,
            "max_height": null,
            "max_width": null,
            "min_height": null,
            "min_width": null,
            "object_fit": null,
            "object_position": null,
            "order": null,
            "overflow": null,
            "overflow_x": null,
            "overflow_y": null,
            "padding": null,
            "right": null,
            "top": null,
            "visibility": null,
            "width": null
          }
        },
        "611d860526c04e26b1153a61e4825710": {
          "model_module": "@jupyter-widgets/controls",
          "model_module_version": "1.5.0",
          "model_name": "HBoxModel",
          "state": {
            "_dom_classes": [],
            "_model_module": "@jupyter-widgets/controls",
            "_model_module_version": "1.5.0",
            "_model_name": "HBoxModel",
            "_view_count": null,
            "_view_module": "@jupyter-widgets/controls",
            "_view_module_version": "1.5.0",
            "_view_name": "HBoxView",
            "box_style": "",
            "children": [
              "IPY_MODEL_221a964dddae4a1494bce654b5d34bc8",
              "IPY_MODEL_be38ae3a777840aeae6bfe952847bb93",
              "IPY_MODEL_80e975091f43412799f73fec039c0a73"
            ],
            "layout": "IPY_MODEL_4de5e1878eab48468d58db533afeb7e9"
          }
        },
        "80e975091f43412799f73fec039c0a73": {
          "model_module": "@jupyter-widgets/controls",
          "model_module_version": "1.5.0",
          "model_name": "HTMLModel",
          "state": {
            "_dom_classes": [],
            "_model_module": "@jupyter-widgets/controls",
            "_model_module_version": "1.5.0",
            "_model_name": "HTMLModel",
            "_view_count": null,
            "_view_module": "@jupyter-widgets/controls",
            "_view_module_version": "1.5.0",
            "_view_name": "HTMLView",
            "description": "",
            "description_tooltip": null,
            "layout": "IPY_MODEL_29a3bca5697f4b87a046d3cd79716fea",
            "placeholder": "​",
            "style": "IPY_MODEL_2b39746f3e354fc3afa582c3898ab619",
            "value": " 9500/35200 [10:57&lt;27:28, 15.59it/s, epoch=13, loss=0.0040, acc=100.00%, val_acc=80.68%]"
          }
        },
        "8d18e7ec9c0f4985b66f2abb056bc5c8": {
          "model_module": "@jupyter-widgets/base",
          "model_module_version": "1.2.0",
          "model_name": "LayoutModel",
          "state": {
            "_model_module": "@jupyter-widgets/base",
            "_model_module_version": "1.2.0",
            "_model_name": "LayoutModel",
            "_view_count": null,
            "_view_module": "@jupyter-widgets/base",
            "_view_module_version": "1.2.0",
            "_view_name": "LayoutView",
            "align_content": null,
            "align_items": null,
            "align_self": null,
            "border": null,
            "bottom": null,
            "display": null,
            "flex": null,
            "flex_flow": null,
            "grid_area": null,
            "grid_auto_columns": null,
            "grid_auto_flow": null,
            "grid_auto_rows": null,
            "grid_column": null,
            "grid_gap": null,
            "grid_row": null,
            "grid_template_areas": null,
            "grid_template_columns": null,
            "grid_template_rows": null,
            "height": null,
            "justify_content": null,
            "justify_items": null,
            "left": null,
            "margin": null,
            "max_height": null,
            "max_width": null,
            "min_height": null,
            "min_width": null,
            "object_fit": null,
            "object_position": null,
            "order": null,
            "overflow": null,
            "overflow_x": null,
            "overflow_y": null,
            "padding": null,
            "right": null,
            "top": null,
            "visibility": null,
            "width": null
          }
        },
        "be38ae3a777840aeae6bfe952847bb93": {
          "model_module": "@jupyter-widgets/controls",
          "model_module_version": "1.5.0",
          "model_name": "FloatProgressModel",
          "state": {
            "_dom_classes": [],
            "_model_module": "@jupyter-widgets/controls",
            "_model_module_version": "1.5.0",
            "_model_name": "FloatProgressModel",
            "_view_count": null,
            "_view_module": "@jupyter-widgets/controls",
            "_view_module_version": "1.5.0",
            "_view_name": "ProgressView",
            "bar_style": "danger",
            "description": "",
            "description_tooltip": null,
            "layout": "IPY_MODEL_8d18e7ec9c0f4985b66f2abb056bc5c8",
            "max": 35200,
            "min": 0,
            "orientation": "horizontal",
            "style": "IPY_MODEL_22bd09327c444a60af1e627874676fd3",
            "value": 9500
          }
        },
        "d75d1c48d5554eb982fb2f1d15a03e8e": {
          "model_module": "@jupyter-widgets/base",
          "model_module_version": "1.2.0",
          "model_name": "LayoutModel",
          "state": {
            "_model_module": "@jupyter-widgets/base",
            "_model_module_version": "1.2.0",
            "_model_name": "LayoutModel",
            "_view_count": null,
            "_view_module": "@jupyter-widgets/base",
            "_view_module_version": "1.2.0",
            "_view_name": "LayoutView",
            "align_content": null,
            "align_items": null,
            "align_self": null,
            "border": null,
            "bottom": null,
            "display": null,
            "flex": null,
            "flex_flow": null,
            "grid_area": null,
            "grid_auto_columns": null,
            "grid_auto_flow": null,
            "grid_auto_rows": null,
            "grid_column": null,
            "grid_gap": null,
            "grid_row": null,
            "grid_template_areas": null,
            "grid_template_columns": null,
            "grid_template_rows": null,
            "height": null,
            "justify_content": null,
            "justify_items": null,
            "left": null,
            "margin": null,
            "max_height": null,
            "max_width": null,
            "min_height": null,
            "min_width": null,
            "object_fit": null,
            "object_position": null,
            "order": null,
            "overflow": null,
            "overflow_x": null,
            "overflow_y": null,
            "padding": null,
            "right": null,
            "top": null,
            "visibility": null,
            "width": null
          }
        },
        "df4ba5fca1c347d1a28ebba0f276aae3": {
          "model_module": "@jupyter-widgets/controls",
          "model_module_version": "1.5.0",
          "model_name": "DescriptionStyleModel",
          "state": {
            "_model_module": "@jupyter-widgets/controls",
            "_model_module_version": "1.5.0",
            "_model_name": "DescriptionStyleModel",
            "_view_count": null,
            "_view_module": "@jupyter-widgets/base",
            "_view_module_version": "1.2.0",
            "_view_name": "StyleView",
            "description_width": ""
          }
        }
      }
    }
  },
  "nbformat": 4,
  "nbformat_minor": 0
}
