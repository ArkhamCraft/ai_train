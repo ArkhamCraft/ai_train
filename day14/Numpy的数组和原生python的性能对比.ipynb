{
 "cells": [
  {
   "cell_type": "code",
   "execution_count": 1,
   "id": "initial_id",
   "metadata": {
    "ExecuteTime": {
     "end_time": "2025-06-11T09:46:22.795957Z",
     "start_time": "2025-06-11T09:46:22.679092Z"
    },
    "collapsed": true
   },
   "outputs": [
    {
     "name": "stdout",
     "output_type": "stream",
     "text": [
      "原生 Python 列表相加耗时: 0.05727839469909668 秒\n",
      "Numpy 数组相加耗时: 0.00251007080078125 秒\n",
      "Numpy 比原生 Python 快 22.819433890577507 倍\n"
     ]
    }
   ],
   "source": [
    "import numpy as np\n",
    "import time\n",
    "\n",
    "# 定义数组长度\n",
    "size = 1000000\n",
    "\n",
    "# 原生 Python 列表性能测试\n",
    "start_time_python = time.time()\n",
    "python_list1 = list(range(size))\n",
    "python_list2 = list(range(size))\n",
    "result_python = [a + b for a, b in zip(python_list1, python_list2)]\n",
    "end_time_python = time.time()\n",
    "python_time = end_time_python - start_time_python\n",
    "\n",
    "# Numpy 数组性能测试\n",
    "start_time_numpy = time.time()\n",
    "numpy_array1 = np.arange(size)\n",
    "numpy_array2 = np.arange(size)\n",
    "result_numpy = numpy_array1 + numpy_array2\n",
    "end_time_numpy = time.time()\n",
    "numpy_time = end_time_numpy - start_time_numpy\n",
    "\n",
    "print(f\"原生 Python 列表相加耗时: {python_time} 秒\")\n",
    "print(f\"Numpy 数组相加耗时: {numpy_time} 秒\")\n",
    "print(f\"Numpy 比原生 Python 快 {python_time / numpy_time} 倍\")\n"
   ]
  }
 ],
 "metadata": {
  "kernelspec": {
   "display_name": "Python 3",
   "language": "python",
   "name": "python3"
  },
  "language_info": {
   "codemirror_mode": {
    "name": "ipython",
    "version": 3
   },
   "file_extension": ".py",
   "mimetype": "text/x-python",
   "name": "python",
   "nbconvert_exporter": "python",
   "pygments_lexer": "ipython3",
   "version": "3.12.3"
  }
 },
 "nbformat": 4,
 "nbformat_minor": 5
}
