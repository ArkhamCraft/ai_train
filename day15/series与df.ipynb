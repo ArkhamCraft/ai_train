{
 "cells": [
  {
   "cell_type": "code",
   "id": "initial_id",
   "metadata": {
    "collapsed": true,
    "ExecuteTime": {
     "end_time": "2025-06-15T02:53:44.243374Z",
     "start_time": "2025-06-15T02:53:44.240943Z"
    }
   },
   "source": [
    "import pandas as pd\n",
    "import numpy as np"
   ],
   "outputs": [],
   "execution_count": 8
  },
  {
   "metadata": {},
   "cell_type": "markdown",
   "source": "# Serise",
   "id": "a7fea0ee0a29db7c"
  },
  {
   "metadata": {
    "ExecuteTime": {
     "end_time": "2025-06-15T02:46:53.808778Z",
     "start_time": "2025-06-15T02:46:53.806072Z"
    }
   },
   "cell_type": "code",
   "source": [
    "a = pd.Series(range(10,20))\n",
    "print(a)\n",
    "print(type(a))"
   ],
   "id": "599fcf968b1086a9",
   "outputs": [
    {
     "name": "stdout",
     "output_type": "stream",
     "text": [
      "0    10\n",
      "1    11\n",
      "2    12\n",
      "3    13\n",
      "4    14\n",
      "5    15\n",
      "6    16\n",
      "7    17\n",
      "8    18\n",
      "9    19\n",
      "dtype: int64\n",
      "<class 'pandas.core.series.Series'>\n"
     ]
    }
   ],
   "execution_count": 3
  },
  {
   "metadata": {
    "ExecuteTime": {
     "end_time": "2025-06-15T02:48:31.376556Z",
     "start_time": "2025-06-15T02:48:31.373798Z"
    }
   },
   "cell_type": "code",
   "source": [
    "dict1 = {'a':1, 'b':2, 'c':3}\n",
    "b = pd.Series(dict1)\n",
    "print(b)\n",
    "print(type(b))"
   ],
   "id": "3741b3b1e72a54df",
   "outputs": [
    {
     "name": "stdout",
     "output_type": "stream",
     "text": [
      "a    1\n",
      "b    2\n",
      "c    3\n",
      "dtype: int64\n",
      "<class 'pandas.core.series.Series'>\n"
     ]
    }
   ],
   "execution_count": 4
  },
  {
   "metadata": {},
   "cell_type": "markdown",
   "source": "",
   "id": "572f5b010e6a13ed"
  },
  {
   "metadata": {},
   "cell_type": "markdown",
   "source": "# DataFrame",
   "id": "2f07c29e437f5370"
  },
  {
   "metadata": {
    "ExecuteTime": {
     "end_time": "2025-06-15T02:51:24.919002Z",
     "start_time": "2025-06-15T02:51:24.915460Z"
    }
   },
   "cell_type": "code",
   "source": [
    "list1 = [[11, 2, 5, 6, 34, 19], [15, 92, 30, 14 ,75 ,26]]\n",
    "c = pd.DataFrame(list1)\n",
    "print(c)\n",
    "print(type(c))"
   ],
   "id": "c6edc98838bc9036",
   "outputs": [
    {
     "name": "stdout",
     "output_type": "stream",
     "text": [
      "    0   1   2   3   4   5\n",
      "0  11   2   5   6  34  19\n",
      "1  15  92  30  14  75  26\n",
      "<class 'pandas.core.frame.DataFrame'>\n"
     ]
    }
   ],
   "execution_count": 7
  },
  {
   "metadata": {
    "ExecuteTime": {
     "end_time": "2025-06-15T02:54:17.820916Z",
     "start_time": "2025-06-15T02:54:17.815936Z"
    }
   },
   "cell_type": "code",
   "source": [
    "dict2 = {'A': 1,\n",
    "            'B': pd.Timestamp('20190926'),\n",
    "            'C': pd.Series(1,\n",
    "            index=list(range(4)),dtype='float32'),\n",
    "            'D': np.array([3] * 4,dtype='int32'),\n",
    "            'E': [\"Python\",\"Java\",\"C++\",\"C\"],\n",
    "            'F': 'wangdao' }\n",
    "d = pd.DataFrame(dict2)\n",
    "print(d)"
   ],
   "id": "ca4b1cb81dc72752",
   "outputs": [
    {
     "name": "stdout",
     "output_type": "stream",
     "text": [
      "   A          B    C  D       E        F\n",
      "0  1 2019-09-26  1.0  3  Python  wangdao\n",
      "1  1 2019-09-26  1.0  3    Java  wangdao\n",
      "2  1 2019-09-26  1.0  3     C++  wangdao\n",
      "3  1 2019-09-26  1.0  3       C  wangdao\n"
     ]
    }
   ],
   "execution_count": 9
  },
  {
   "metadata": {},
   "cell_type": "markdown",
   "source": "# 索引操作",
   "id": "d52a0ab749577c21"
  },
  {
   "metadata": {
    "ExecuteTime": {
     "end_time": "2025-06-15T02:59:15.871714Z",
     "start_time": "2025-06-15T02:59:15.866966Z"
    }
   },
   "cell_type": "code",
   "source": [
    "index_text1 = pd.Series(range(5), index = ['a', 'b', 'c', 'd', 'e'])\n",
    "print(index_text1.head())\n",
    "print(index_text1['b'])\n",
    "print(index_text1[2])\n",
    "print(index_text1[1:3])\n",
    "print(index_text1['b':'d'])"
   ],
   "id": "b6ab3ce18a663c80",
   "outputs": [
    {
     "name": "stdout",
     "output_type": "stream",
     "text": [
      "a    0\n",
      "b    1\n",
      "c    2\n",
      "d    3\n",
      "e    4\n",
      "dtype: int64\n",
      "1\n",
      "2\n",
      "b    1\n",
      "c    2\n",
      "dtype: int64\n",
      "b    1\n",
      "c    2\n",
      "d    3\n",
      "dtype: int64\n"
     ]
    },
    {
     "name": "stderr",
     "output_type": "stream",
     "text": [
      "C:\\Users\\ArkhamCraft\\AppData\\Local\\Temp\\ipykernel_4160\\4117700524.py:4: FutureWarning: Series.__getitem__ treating keys as positions is deprecated. In a future version, integer keys will always be treated as labels (consistent with DataFrame behavior). To access a value by position, use `ser.iloc[pos]`\n",
      "  print(index_text1[2])\n"
     ]
    }
   ],
   "execution_count": 15
  },
  {
   "metadata": {},
   "cell_type": "markdown",
   "source": "# apply，map",
   "id": "ba663ea52428a575"
  },
  {
   "metadata": {
    "ExecuteTime": {
     "end_time": "2025-06-15T03:12:54.977441Z",
     "start_time": "2025-06-15T03:12:54.973128Z"
    }
   },
   "cell_type": "code",
   "source": [
    "df = pd.DataFrame(np.random.randn(5,4) - 1)\n",
    "print(df)\n",
    "print(np.abs(df))"
   ],
   "id": "c56d9c9e2c8073ce",
   "outputs": [
    {
     "name": "stdout",
     "output_type": "stream",
     "text": [
      "          0         1         2         3\n",
      "0 -0.657816  0.491555 -0.728617 -1.406073\n",
      "1 -0.622171 -2.586513 -1.391548 -0.863518\n",
      "2 -1.432868 -2.473150 -0.105534 -2.389132\n",
      "3 -0.444829 -1.489710 -1.675892 -2.382212\n",
      "4 -1.597376 -1.076777 -0.452234 -2.135808\n",
      "          0         1         2         3\n",
      "0  0.657816  0.491555  0.728617  1.406073\n",
      "1  0.622171  2.586513  1.391548  0.863518\n",
      "2  1.432868  2.473150  0.105534  2.389132\n",
      "3  0.444829  1.489710  1.675892  2.382212\n",
      "4  1.597376  1.076777  0.452234  2.135808\n"
     ]
    }
   ],
   "execution_count": 17
  },
  {
   "metadata": {
    "ExecuteTime": {
     "end_time": "2025-06-15T03:13:05.585393Z",
     "start_time": "2025-06-15T03:13:05.581492Z"
    }
   },
   "cell_type": "code",
   "source": "print(df.apply(lambda x : x.max()))",
   "id": "e33097767d283119",
   "outputs": [
    {
     "name": "stdout",
     "output_type": "stream",
     "text": [
      "0   -0.444829\n",
      "1    0.491555\n",
      "2   -0.105534\n",
      "3   -0.863518\n",
      "dtype: float64\n"
     ]
    }
   ],
   "execution_count": 18
  },
  {
   "metadata": {
    "ExecuteTime": {
     "end_time": "2025-06-15T03:13:58.572304Z",
     "start_time": "2025-06-15T03:13:58.568847Z"
    }
   },
   "cell_type": "code",
   "source": "print(df.apply(lambda x : x.max(), axis=1))",
   "id": "babcdd9801b8cf06",
   "outputs": [
    {
     "name": "stdout",
     "output_type": "stream",
     "text": [
      "0    0.491555\n",
      "1   -0.622171\n",
      "2   -0.105534\n",
      "3   -0.444829\n",
      "4   -0.452234\n",
      "dtype: float64\n"
     ]
    }
   ],
   "execution_count": 19
  },
  {
   "metadata": {
    "ExecuteTime": {
     "end_time": "2025-06-15T03:14:23.825376Z",
     "start_time": "2025-06-15T03:14:23.822442Z"
    }
   },
   "cell_type": "code",
   "source": "print(df.map(lambda x : '%.2f' % x))",
   "id": "ea82d4580b6671e6",
   "outputs": [
    {
     "name": "stdout",
     "output_type": "stream",
     "text": [
      "       0      1      2      3\n",
      "0  -0.66   0.49  -0.73  -1.41\n",
      "1  -0.62  -2.59  -1.39  -0.86\n",
      "2  -1.43  -2.47  -0.11  -2.39\n",
      "3  -0.44  -1.49  -1.68  -2.38\n",
      "4  -1.60  -1.08  -0.45  -2.14\n"
     ]
    }
   ],
   "execution_count": 20
  }
 ],
 "metadata": {
  "kernelspec": {
   "display_name": "Python 3",
   "language": "python",
   "name": "python3"
  },
  "language_info": {
   "codemirror_mode": {
    "name": "ipython",
    "version": 2
   },
   "file_extension": ".py",
   "mimetype": "text/x-python",
   "name": "python",
   "nbconvert_exporter": "python",
   "pygments_lexer": "ipython2",
   "version": "2.7.6"
  }
 },
 "nbformat": 4,
 "nbformat_minor": 5
}
