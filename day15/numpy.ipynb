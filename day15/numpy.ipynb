{
 "cells": [
  {
   "cell_type": "code",
   "id": "initial_id",
   "metadata": {
    "collapsed": true,
    "ExecuteTime": {
     "end_time": "2025-06-14T14:06:47.272705Z",
     "start_time": "2025-06-14T14:06:47.201154Z"
    }
   },
   "source": "import numpy as np",
   "outputs": [],
   "execution_count": 1
  },
  {
   "metadata": {},
   "cell_type": "markdown",
   "source": "# 一维二维数组的创建",
   "id": "b8b6568d9d79a53"
  },
  {
   "metadata": {
    "ExecuteTime": {
     "end_time": "2025-06-14T14:06:47.275558Z",
     "start_time": "2025-06-14T14:06:47.272705Z"
    }
   },
   "cell_type": "code",
   "source": [
    "oneArray = np.arange(0, 10)\n",
    "print(oneArray)\n",
    "print(type(oneArray))"
   ],
   "id": "3acf5c55a6110bc",
   "outputs": [
    {
     "name": "stdout",
     "output_type": "stream",
     "text": [
      "[0 1 2 3 4 5 6 7 8 9]\n",
      "<class 'numpy.ndarray'>\n"
     ]
    }
   ],
   "execution_count": 2
  },
  {
   "metadata": {
    "ExecuteTime": {
     "end_time": "2025-06-14T14:06:47.282466Z",
     "start_time": "2025-06-14T14:06:47.275558Z"
    }
   },
   "cell_type": "code",
   "source": [
    "twoArray = np.arange(0,24,2).reshape(6,2)\n",
    "print(twoArray)\n",
    "print(twoArray.shape)"
   ],
   "id": "63141a3aa3a967d1",
   "outputs": [
    {
     "name": "stdout",
     "output_type": "stream",
     "text": [
      "[[ 0  2]\n",
      " [ 4  6]\n",
      " [ 8 10]\n",
      " [12 14]\n",
      " [16 18]\n",
      " [20 22]]\n",
      "(6, 2)\n"
     ]
    }
   ],
   "execution_count": 3
  },
  {
   "metadata": {},
   "cell_type": "markdown",
   "source": "# 常用属性",
   "id": "fe7fc2ae6d509a4c"
  },
  {
   "metadata": {
    "ExecuteTime": {
     "end_time": "2025-06-14T14:06:47.288857Z",
     "start_time": "2025-06-14T14:06:47.282466Z"
    }
   },
   "cell_type": "code",
   "source": [
    "list1 = [[1,2],[3,4],[5,6]]\n",
    "text_array = np.array(list1)\n",
    "print(text_array.ndim)\n",
    "print(text_array.shape)\n",
    "print(text_array.size)"
   ],
   "id": "25acff734c433cfb",
   "outputs": [
    {
     "name": "stdout",
     "output_type": "stream",
     "text": [
      "2\n",
      "(3, 2)\n",
      "6\n"
     ]
    }
   ],
   "execution_count": 4
  },
  {
   "metadata": {},
   "cell_type": "markdown",
   "source": "# 形状调整",
   "id": "a039ff89a327ff4c"
  },
  {
   "metadata": {
    "ExecuteTime": {
     "end_time": "2025-06-14T14:06:47.295755Z",
     "start_time": "2025-06-14T14:06:47.288857Z"
    }
   },
   "cell_type": "code",
   "source": [
    "text_array.shape = (2,3)\n",
    "print(text_array)\n",
    "\n",
    "print(text_array.reshape(3,2))\n",
    "\n",
    "text1 = text_array.reshape((6,),order='F')\n",
    "text2 = text_array.reshape((6,))\n",
    "print(text1)\n",
    "print(text2)\n",
    "\n",
    "text3 = np.arange(12)\n",
    "print(text3)\n",
    "text3.shape = (3,4)\n",
    "print(text3)"
   ],
   "id": "183985d79a0df19a",
   "outputs": [
    {
     "name": "stdout",
     "output_type": "stream",
     "text": [
      "[[1 2 3]\n",
      " [4 5 6]]\n",
      "[[1 2]\n",
      " [3 4]\n",
      " [5 6]]\n",
      "[1 4 2 5 3 6]\n",
      "[1 2 3 4 5 6]\n",
      "[ 0  1  2  3  4  5  6  7  8  9 10 11]\n",
      "[[ 0  1  2  3]\n",
      " [ 4  5  6  7]\n",
      " [ 8  9 10 11]]\n"
     ]
    }
   ],
   "execution_count": 5
  },
  {
   "metadata": {},
   "cell_type": "markdown",
   "source": "# python list的互相",
   "id": "21397a20c6a9774d"
  },
  {
   "metadata": {
    "ExecuteTime": {
     "end_time": "2025-06-14T14:06:47.301801Z",
     "start_time": "2025-06-14T14:06:47.295755Z"
    }
   },
   "cell_type": "code",
   "source": [
    "text3_list = text3.tolist()\n",
    "print(text3_list)\n",
    "print(type(text3_list))"
   ],
   "id": "5d402636aac70277",
   "outputs": [
    {
     "name": "stdout",
     "output_type": "stream",
     "text": [
      "[[0, 1, 2, 3], [4, 5, 6, 7], [8, 9, 10, 11]]\n",
      "<class 'list'>\n"
     ]
    }
   ],
   "execution_count": 6
  },
  {
   "metadata": {},
   "cell_type": "markdown",
   "source": "# 数据类型",
   "id": "d2923712d4acc281"
  },
  {
   "metadata": {
    "ExecuteTime": {
     "end_time": "2025-06-14T14:06:47.309357Z",
     "start_time": "2025-06-14T14:06:47.301801Z"
    }
   },
   "cell_type": "code",
   "source": [
    "import random\n",
    "f = np.array([1,2,3,4,5], dtype = np.int16)\n",
    "print(f.itemsize) \n",
    "print(f.dtype)\n",
    "f1 = f.astype(np.int64)\n",
    "print(f1.dtype)\n",
    "print(round(random.random(),2))\n",
    "arr = np.array([random.random() for i in range(10)])\n",
    "print(np.round(arr,2))"
   ],
   "id": "56d82fc58d41ba97",
   "outputs": [
    {
     "name": "stdout",
     "output_type": "stream",
     "text": [
      "2\n",
      "int16\n",
      "int64\n",
      "0.94\n",
      "[0.6  0.66 0.38 0.03 1.   0.14 0.15 0.33 0.03 0.59]\n"
     ]
    }
   ],
   "execution_count": 7
  },
  {
   "metadata": {},
   "cell_type": "markdown",
   "source": "# 数组和数的计算",
   "id": "4b0b5f85c8ed7fbb"
  },
  {
   "metadata": {
    "ExecuteTime": {
     "end_time": "2025-06-14T14:06:47.316594Z",
     "start_time": "2025-06-14T14:06:47.309357Z"
    }
   },
   "cell_type": "code",
   "source": [
    "t1 =np.arange(24).reshape((6,4))\n",
    "print(t1)\n",
    "print(\"-\"*20)\n",
    "print(t1+2)\n",
    "print(\"-\"*20)\n",
    "print(t1*2)\n",
    "print(\"-\"*20)\n",
    "print(t1/2)"
   ],
   "id": "c88d44b301389a0f",
   "outputs": [
    {
     "name": "stdout",
     "output_type": "stream",
     "text": [
      "[[ 0  1  2  3]\n",
      " [ 4  5  6  7]\n",
      " [ 8  9 10 11]\n",
      " [12 13 14 15]\n",
      " [16 17 18 19]\n",
      " [20 21 22 23]]\n",
      "--------------------\n",
      "[[ 2  3  4  5]\n",
      " [ 6  7  8  9]\n",
      " [10 11 12 13]\n",
      " [14 15 16 17]\n",
      " [18 19 20 21]\n",
      " [22 23 24 25]]\n",
      "--------------------\n",
      "[[ 0  2  4  6]\n",
      " [ 8 10 12 14]\n",
      " [16 18 20 22]\n",
      " [24 26 28 30]\n",
      " [32 34 36 38]\n",
      " [40 42 44 46]]\n",
      "--------------------\n",
      "[[ 0.   0.5  1.   1.5]\n",
      " [ 2.   2.5  3.   3.5]\n",
      " [ 4.   4.5  5.   5.5]\n",
      " [ 6.   6.5  7.   7.5]\n",
      " [ 8.   8.5  9.   9.5]\n",
      " [10.  10.5 11.  11.5]]\n"
     ]
    }
   ],
   "execution_count": 8
  },
  {
   "metadata": {},
   "cell_type": "markdown",
   "source": "# 数组与数组之间的操作",
   "id": "f932700cabb98a7b"
  },
  {
   "metadata": {
    "ExecuteTime": {
     "end_time": "2025-06-14T14:06:47.322916Z",
     "start_time": "2025-06-14T14:06:47.316594Z"
    }
   },
   "cell_type": "code",
   "source": [
    "t1 = np.arange(24).reshape((6,4))\n",
    "t2 = np.arange(100,124).reshape((6,4))\n",
    "print(t1)\n",
    "print(t2)\n",
    "print(\"-\"*20)\n",
    "print(t1+t2)\n",
    "print(t1*t2)"
   ],
   "id": "42ba0e446a1a3a2a",
   "outputs": [
    {
     "name": "stdout",
     "output_type": "stream",
     "text": [
      "[[ 0  1  2  3]\n",
      " [ 4  5  6  7]\n",
      " [ 8  9 10 11]\n",
      " [12 13 14 15]\n",
      " [16 17 18 19]\n",
      " [20 21 22 23]]\n",
      "[[100 101 102 103]\n",
      " [104 105 106 107]\n",
      " [108 109 110 111]\n",
      " [112 113 114 115]\n",
      " [116 117 118 119]\n",
      " [120 121 122 123]]\n",
      "--------------------\n",
      "[[100 102 104 106]\n",
      " [108 110 112 114]\n",
      " [116 118 120 122]\n",
      " [124 126 128 130]\n",
      " [132 134 136 138]\n",
      " [140 142 144 146]]\n",
      "[[   0  101  204  309]\n",
      " [ 416  525  636  749]\n",
      " [ 864  981 1100 1221]\n",
      " [1344 1469 1596 1725]\n",
      " [1856 1989 2124 2261]\n",
      " [2400 2541 2684 2829]]\n"
     ]
    }
   ],
   "execution_count": 9
  },
  {
   "metadata": {
    "ExecuteTime": {
     "end_time": "2025-06-14T14:06:47.329613Z",
     "start_time": "2025-06-14T14:06:47.322916Z"
    }
   },
   "cell_type": "code",
   "source": [
    "t1 = np.arange(24).reshape((4,6))\n",
    "t2 = np.arange(0,6)\n",
    "print(t1)\n",
    "print(\"-\"*20)\n",
    "print(t2)\n",
    "print(\"-\"*20)\n",
    "print(t1-t2)"
   ],
   "id": "77d4354358c5cf92",
   "outputs": [
    {
     "name": "stdout",
     "output_type": "stream",
     "text": [
      "[[ 0  1  2  3  4  5]\n",
      " [ 6  7  8  9 10 11]\n",
      " [12 13 14 15 16 17]\n",
      " [18 19 20 21 22 23]]\n",
      "--------------------\n",
      "[0 1 2 3 4 5]\n",
      "--------------------\n",
      "[[ 0  0  0  0  0  0]\n",
      " [ 6  6  6  6  6  6]\n",
      " [12 12 12 12 12 12]\n",
      " [18 18 18 18 18 18]]\n"
     ]
    }
   ],
   "execution_count": 10
  },
  {
   "metadata": {
    "ExecuteTime": {
     "end_time": "2025-06-14T14:06:47.336291Z",
     "start_time": "2025-06-14T14:06:47.329613Z"
    }
   },
   "cell_type": "code",
   "source": [
    "t1 = np.arange(24).reshape((4,6))\n",
    "t2 = np.arange(4).reshape((4,1))\n",
    "print(t1)\n",
    "print(\"-\"*20)\n",
    "print(t2)\n",
    "print(\"-\"*20)\n",
    "print(t1-t2)"
   ],
   "id": "578df0ab52f846ad",
   "outputs": [
    {
     "name": "stdout",
     "output_type": "stream",
     "text": [
      "[[ 0  1  2  3  4  5]\n",
      " [ 6  7  8  9 10 11]\n",
      " [12 13 14 15 16 17]\n",
      " [18 19 20 21 22 23]]\n",
      "--------------------\n",
      "[[0]\n",
      " [1]\n",
      " [2]\n",
      " [3]]\n",
      "--------------------\n",
      "[[ 0  1  2  3  4  5]\n",
      " [ 5  6  7  8  9 10]\n",
      " [10 11 12 13 14 15]\n",
      " [15 16 17 18 19 20]]\n"
     ]
    }
   ],
   "execution_count": 11
  },
  {
   "metadata": {},
   "cell_type": "markdown",
   "source": "# 数组的轴",
   "id": "90a13aa7c5fbd86f"
  },
  {
   "metadata": {
    "ExecuteTime": {
     "end_time": "2025-06-14T14:06:47.343459Z",
     "start_time": "2025-06-14T14:06:47.336291Z"
    }
   },
   "cell_type": "code",
   "source": [
    "a = np.arange(24).reshape(3,8)\n",
    "print(a)\n",
    "print(np.sum(a,axis=0))\n",
    "print(np.sum(a,axis=1))\n",
    "print(np.sum(a))\n",
    "print(\"-\"*20)\n",
    "a.shape = (2,3,4)\n",
    "print(a)\n",
    "print(\"-\"*20)\n",
    "b = np.sum(a, axis=0)\n",
    "print(b)\n",
    "print(\"-\"*20)\n",
    "c = np.sum(a,axis=1)\n",
    "print(c)\n",
    "d = np.sum(a,axis=2)\n",
    "print(d)"
   ],
   "id": "740254f028420c18",
   "outputs": [
    {
     "name": "stdout",
     "output_type": "stream",
     "text": [
      "[[ 0  1  2  3  4  5  6  7]\n",
      " [ 8  9 10 11 12 13 14 15]\n",
      " [16 17 18 19 20 21 22 23]]\n",
      "[24 27 30 33 36 39 42 45]\n",
      "[ 28  92 156]\n",
      "276\n",
      "--------------------\n",
      "[[[ 0  1  2  3]\n",
      "  [ 4  5  6  7]\n",
      "  [ 8  9 10 11]]\n",
      "\n",
      " [[12 13 14 15]\n",
      "  [16 17 18 19]\n",
      "  [20 21 22 23]]]\n",
      "--------------------\n",
      "[[12 14 16 18]\n",
      " [20 22 24 26]\n",
      " [28 30 32 34]]\n",
      "--------------------\n",
      "[[12 15 18 21]\n",
      " [48 51 54 57]]\n",
      "[[ 6 22 38]\n",
      " [54 70 86]]\n"
     ]
    }
   ],
   "execution_count": 12
  },
  {
   "metadata": {},
   "cell_type": "markdown",
   "source": "# 数组的索引和切片",
   "id": "82dfebb9ff89f94a"
  },
  {
   "metadata": {
    "ExecuteTime": {
     "end_time": "2025-06-14T14:06:47.350160Z",
     "start_time": "2025-06-14T14:06:47.343459Z"
    }
   },
   "cell_type": "code",
   "source": [
    "t = np.arange(24).reshape(4,6)\n",
    "print(t)\n",
    "print('*'*20)\n",
    "print(t[1]) # 取一行(一行代表是一条数据，索引也是从0开始的) print(t1[1,:]) # 取一行\n",
    "print('*'*20)\n",
    "print(t[1:])# 取连续的多行\n",
    "print('*'*20)\n",
    "print(t[1:3,:])# 取连续的多行\n",
    "print('*'*20)\n",
    "print(t[[0,2,3]])# 取不连续的多行\n",
    "print('*'*20)\n",
    "print(t[[0,2,3],:])# 取不连续的多行\n",
    "print('*'*20)\n",
    "print(t[:,1])# 取一列\n",
    "print('*'*20)\n",
    "print(t[:,1:])# 连续的多列\n",
    "print('*'*20)\n",
    "print(t[:,[0,2,3]])# 取不连续的多列\n",
    "print('*'*20)\n",
    "print(t[2,3])# # 取某一个值,三行四列\n",
    "print('*'*20)"
   ],
   "id": "caa5135d27ba0c3b",
   "outputs": [
    {
     "name": "stdout",
     "output_type": "stream",
     "text": [
      "[[ 0  1  2  3  4  5]\n",
      " [ 6  7  8  9 10 11]\n",
      " [12 13 14 15 16 17]\n",
      " [18 19 20 21 22 23]]\n",
      "********************\n",
      "[ 6  7  8  9 10 11]\n",
      "********************\n",
      "[[ 6  7  8  9 10 11]\n",
      " [12 13 14 15 16 17]\n",
      " [18 19 20 21 22 23]]\n",
      "********************\n",
      "[[ 6  7  8  9 10 11]\n",
      " [12 13 14 15 16 17]]\n",
      "********************\n",
      "[[ 0  1  2  3  4  5]\n",
      " [12 13 14 15 16 17]\n",
      " [18 19 20 21 22 23]]\n",
      "********************\n",
      "[[ 0  1  2  3  4  5]\n",
      " [12 13 14 15 16 17]\n",
      " [18 19 20 21 22 23]]\n",
      "********************\n",
      "[ 1  7 13 19]\n",
      "********************\n",
      "[[ 1  2  3  4  5]\n",
      " [ 7  8  9 10 11]\n",
      " [13 14 15 16 17]\n",
      " [19 20 21 22 23]]\n",
      "********************\n",
      "[[ 0  2  3]\n",
      " [ 6  8  9]\n",
      " [12 14 15]\n",
      " [18 20 21]]\n",
      "********************\n",
      "15\n",
      "********************\n"
     ]
    }
   ],
   "execution_count": 13
  },
  {
   "metadata": {},
   "cell_type": "markdown",
   "source": "# 数组中的数值修改",
   "id": "2afde9ba4b5ce560"
  },
  {
   "metadata": {
    "ExecuteTime": {
     "end_time": "2025-06-14T14:06:47.356668Z",
     "start_time": "2025-06-14T14:06:47.350160Z"
    }
   },
   "cell_type": "code",
   "source": [
    "t[1, :] = 0\n",
    "print(t)\n",
    "t[:, 1] = 0\n",
    "print(t)\n",
    "t[1:3, :] = 0\n",
    "print(t)\n",
    "t[:, 1:4] = 0\n",
    "print(t)\n",
    "t[t < 10] = 0\n",
    "print(t)"
   ],
   "id": "2f187dd1aaa1f450",
   "outputs": [
    {
     "name": "stdout",
     "output_type": "stream",
     "text": [
      "[[ 0  1  2  3  4  5]\n",
      " [ 0  0  0  0  0  0]\n",
      " [12 13 14 15 16 17]\n",
      " [18 19 20 21 22 23]]\n",
      "[[ 0  0  2  3  4  5]\n",
      " [ 0  0  0  0  0  0]\n",
      " [12  0 14 15 16 17]\n",
      " [18  0 20 21 22 23]]\n",
      "[[ 0  0  2  3  4  5]\n",
      " [ 0  0  0  0  0  0]\n",
      " [ 0  0  0  0  0  0]\n",
      " [18  0 20 21 22 23]]\n",
      "[[ 0  0  0  0  4  5]\n",
      " [ 0  0  0  0  0  0]\n",
      " [ 0  0  0  0  0  0]\n",
      " [18  0  0  0 22 23]]\n",
      "[[ 0  0  0  0  0  0]\n",
      " [ 0  0  0  0  0  0]\n",
      " [ 0  0  0  0  0  0]\n",
      " [18  0  0  0 22 23]]\n"
     ]
    }
   ],
   "execution_count": 14
  },
  {
   "metadata": {},
   "cell_type": "markdown",
   "source": "# 数组的添加",
   "id": "129af923cac6699"
  },
  {
   "metadata": {
    "ExecuteTime": {
     "end_time": "2025-06-14T14:06:47.363520Z",
     "start_time": "2025-06-14T14:06:47.356668Z"
    }
   },
   "cell_type": "code",
   "source": [
    "a = np.array([[1, 2, 3], [4, 5, 6]])\n",
    "print(a)\n",
    "print('-'*20)\n",
    "print(np.append(a, [7, 8, 9]))\n",
    "print('-'*20)\n",
    "print(np.append(a, [[7, 8, 9]], axis=0))\n",
    "print('-'*20)\n",
    "print(np.append(a, [[7, 8, 9], [9, 9, 9]], axis=1))\n",
    "print('-'*20)\n",
    "print(np.insert(a, 1, [11, 12]))\n",
    "print('-'*20)\n",
    "print(np.insert(a, 1, [11, 12, 13], axis=0))\n",
    "print('-'*20)\n",
    "print(np.insert(a, 1, [11, 12], axis=1))"
   ],
   "id": "31bbb8792d849fb4",
   "outputs": [
    {
     "name": "stdout",
     "output_type": "stream",
     "text": [
      "[[1 2 3]\n",
      " [4 5 6]]\n",
      "--------------------\n",
      "[1 2 3 4 5 6 7 8 9]\n",
      "--------------------\n",
      "[[1 2 3]\n",
      " [4 5 6]\n",
      " [7 8 9]]\n",
      "--------------------\n",
      "[[1 2 3 7 8 9]\n",
      " [4 5 6 9 9 9]]\n",
      "--------------------\n",
      "[ 1 11 12  2  3  4  5  6]\n",
      "--------------------\n",
      "[[ 1  2  3]\n",
      " [11 12 13]\n",
      " [ 4  5  6]]\n",
      "--------------------\n",
      "[[ 1 11  2  3]\n",
      " [ 4 12  5  6]]\n"
     ]
    }
   ],
   "execution_count": 15
  },
  {
   "metadata": {},
   "cell_type": "markdown",
   "source": "# 数组的连接，堆叠",
   "id": "12d36c6f18f0c1f"
  },
  {
   "metadata": {
    "ExecuteTime": {
     "end_time": "2025-06-14T14:06:47.370126Z",
     "start_time": "2025-06-14T14:06:47.363520Z"
    }
   },
   "cell_type": "code",
   "source": [
    "a = np.array([[1,2],[3,4]])\n",
    "b = np.array([[5,6],[7,8]])\n",
    "print(np.concatenate((a,b),axis=0))\n",
    "print('-'*20)\n",
    "print(np.concatenate((a,b),axis=1))\n",
    "print('-'*50)\n",
    "print(np.stack((a,b),axis=0))\n",
    "print('-'*20)\n",
    "print(np.stack((a,b),axis=1))"
   ],
   "id": "11a6b619be806709",
   "outputs": [
    {
     "name": "stdout",
     "output_type": "stream",
     "text": [
      "[[1 2]\n",
      " [3 4]\n",
      " [5 6]\n",
      " [7 8]]\n",
      "--------------------\n",
      "[[1 2 5 6]\n",
      " [3 4 7 8]]\n",
      "--------------------------------------------------\n",
      "[[[1 2]\n",
      "  [3 4]]\n",
      "\n",
      " [[5 6]\n",
      "  [7 8]]]\n",
      "--------------------\n",
      "[[[1 2]\n",
      "  [5 6]]\n",
      "\n",
      " [[3 4]\n",
      "  [7 8]]]\n"
     ]
    }
   ],
   "execution_count": 16
  },
  {
   "metadata": {},
   "cell_type": "markdown",
   "source": "# nan和inf的使用",
   "id": "933ab75c22da7e98"
  },
  {
   "metadata": {
    "ExecuteTime": {
     "end_time": "2025-06-14T14:06:47.377655Z",
     "start_time": "2025-06-14T14:06:47.370126Z"
    }
   },
   "cell_type": "code",
   "source": [
    "a = np.nan\n",
    "b = np.inf\n",
    "print(a,type(a))\n",
    "print(b,type(b))\n",
    "t = np.arange(24,dtype=float).reshape(4,6)\n",
    "print(t)\n",
    "t[2,3] = np.nan\n",
    "print('-'*20)\n",
    "print(t)\n",
    "print(np.count_nonzero(t))\n",
    "print(np.count_nonzero(t != t))\n",
    "print('-'*20)\n",
    "t[np.isnan(t)] = 0\n",
    "print(t)\n",
    "print('-'*20)\n",
    "t[1,3:] = np.nan\n",
    "print(t)\n",
    "print('-'*20)\n",
    "for i in range(t.shape[1]):\n",
    "    temp_col = t[:i]\n",
    "    nan_num = np.count_nonzero(temp_col != temp_col)\n",
    "    if nan_num != 0:\n",
    "        temp_col_not_nan = temp_col[temp_col == temp_col]\n",
    "        temp_col[np.isnan(temp_col)] = np.mean(temp_col_not_nan)\n",
    "print(t)"
   ],
   "id": "849f120579efa4af",
   "outputs": [
    {
     "name": "stdout",
     "output_type": "stream",
     "text": [
      "nan <class 'float'>\n",
      "inf <class 'float'>\n",
      "[[ 0.  1.  2.  3.  4.  5.]\n",
      " [ 6.  7.  8.  9. 10. 11.]\n",
      " [12. 13. 14. 15. 16. 17.]\n",
      " [18. 19. 20. 21. 22. 23.]]\n",
      "--------------------\n",
      "[[ 0.  1.  2.  3.  4.  5.]\n",
      " [ 6.  7.  8.  9. 10. 11.]\n",
      " [12. 13. 14. nan 16. 17.]\n",
      " [18. 19. 20. 21. 22. 23.]]\n",
      "23\n",
      "1\n",
      "--------------------\n",
      "[[ 0.  1.  2.  3.  4.  5.]\n",
      " [ 6.  7.  8.  9. 10. 11.]\n",
      " [12. 13. 14.  0. 16. 17.]\n",
      " [18. 19. 20. 21. 22. 23.]]\n",
      "--------------------\n",
      "[[ 0.  1.  2.  3.  4.  5.]\n",
      " [ 6.  7.  8. nan nan nan]\n",
      " [12. 13. 14.  0. 16. 17.]\n",
      " [18. 19. 20. 21. 22. 23.]]\n",
      "--------------------\n",
      "[[ 0.  1.  2.  3.  4.  5.]\n",
      " [ 6.  7.  8.  4.  4.  4.]\n",
      " [12. 13. 14.  0. 16. 17.]\n",
      " [18. 19. 20. 21. 22. 23.]]\n"
     ]
    }
   ],
   "execution_count": 17
  },
  {
   "metadata": {},
   "cell_type": "markdown",
   "source": "# 组转置，轴滚动",
   "id": "7ed1becc185dbc0a"
  },
  {
   "metadata": {
    "ExecuteTime": {
     "end_time": "2025-06-14T14:13:58.260774Z",
     "start_time": "2025-06-14T14:13:58.248597Z"
    }
   },
   "cell_type": "code",
   "source": [
    "a = np.arange(12).reshape(3,4)\n",
    "print(a)\n",
    "print('-'*20)\n",
    "print (np.transpose(a))\n",
    "print('-'*20)\n",
    "print(a.T)\n",
    "print('-'*20)\n",
    "t = np.arange(24).reshape(4,6)\n",
    "print(t)\n",
    "print('-'*20)\n",
    "re = t.swapaxes(0,1)\n",
    "print(re)\n",
    "print('-'*20)\n",
    "t.shape = (2,3,4)\n",
    "print(t)\n",
    "re = t.swapaxes(0,2)\n",
    "print(re)"
   ],
   "id": "a89d7172a6bcbbf0",
   "outputs": [
    {
     "name": "stdout",
     "output_type": "stream",
     "text": [
      "[[ 0  1  2  3]\n",
      " [ 4  5  6  7]\n",
      " [ 8  9 10 11]]\n",
      "--------------------\n",
      "[[ 0  4  8]\n",
      " [ 1  5  9]\n",
      " [ 2  6 10]\n",
      " [ 3  7 11]]\n",
      "--------------------\n",
      "[[ 0  4  8]\n",
      " [ 1  5  9]\n",
      " [ 2  6 10]\n",
      " [ 3  7 11]]\n",
      "--------------------\n",
      "[[ 0  1  2  3  4  5]\n",
      " [ 6  7  8  9 10 11]\n",
      " [12 13 14 15 16 17]\n",
      " [18 19 20 21 22 23]]\n",
      "--------------------\n",
      "[[ 0  6 12 18]\n",
      " [ 1  7 13 19]\n",
      " [ 2  8 14 20]\n",
      " [ 3  9 15 21]\n",
      " [ 4 10 16 22]\n",
      " [ 5 11 17 23]]\n",
      "--------------------\n",
      "[[[ 0  1  2  3]\n",
      "  [ 4  5  6  7]\n",
      "  [ 8  9 10 11]]\n",
      "\n",
      " [[12 13 14 15]\n",
      "  [16 17 18 19]\n",
      "  [20 21 22 23]]]\n",
      "[[[ 0 12]\n",
      "  [ 4 16]\n",
      "  [ 8 20]]\n",
      "\n",
      " [[ 1 13]\n",
      "  [ 5 17]\n",
      "  [ 9 21]]\n",
      "\n",
      " [[ 2 14]\n",
      "  [ 6 18]\n",
      "  [10 22]]\n",
      "\n",
      " [[ 3 15]\n",
      "  [ 7 19]\n",
      "  [11 23]]]\n"
     ]
    }
   ],
   "execution_count": 27
  }
 ],
 "metadata": {
  "kernelspec": {
   "display_name": "Python 3",
   "language": "python",
   "name": "python3"
  },
  "language_info": {
   "codemirror_mode": {
    "name": "ipython",
    "version": 2
   },
   "file_extension": ".py",
   "mimetype": "text/x-python",
   "name": "python",
   "nbconvert_exporter": "python",
   "pygments_lexer": "ipython2",
   "version": "2.7.6"
  }
 },
 "nbformat": 4,
 "nbformat_minor": 5
}
