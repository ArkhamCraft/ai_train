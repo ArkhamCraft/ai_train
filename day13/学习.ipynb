{
 "cells": [
  {
   "metadata": {
    "ExecuteTime": {
     "end_time": "2025-06-11T09:00:49.226394Z",
     "start_time": "2025-06-11T09:00:49.224143Z"
    }
   },
   "cell_type": "code",
   "source": "a = 3",
   "id": "7616352e621bc8bf",
   "outputs": [],
   "execution_count": 2
  },
  {
   "cell_type": "code",
   "id": "initial_id",
   "metadata": {
    "collapsed": true,
    "ExecuteTime": {
     "end_time": "2025-06-11T09:00:50.575882Z",
     "start_time": "2025-06-11T09:00:50.572140Z"
    }
   },
   "source": "a",
   "outputs": [
    {
     "data": {
      "text/plain": [
       "3"
      ]
     },
     "execution_count": 3,
     "metadata": {},
     "output_type": "execute_result"
    }
   ],
   "execution_count": 3
  },
  {
   "metadata": {
    "ExecuteTime": {
     "end_time": "2025-06-11T09:00:58.766937Z",
     "start_time": "2025-06-11T09:00:58.765293Z"
    }
   },
   "cell_type": "code",
   "source": "b = 4",
   "id": "9a81b52efddc6955",
   "outputs": [],
   "execution_count": 4
  },
  {
   "metadata": {
    "ExecuteTime": {
     "end_time": "2025-06-11T09:01:06.647973Z",
     "start_time": "2025-06-11T09:01:06.645080Z"
    }
   },
   "cell_type": "code",
   "source": "a + b",
   "id": "df7e304bbcb68fb8",
   "outputs": [
    {
     "data": {
      "text/plain": [
       "7"
      ]
     },
     "execution_count": 5,
     "metadata": {},
     "output_type": "execute_result"
    }
   ],
   "execution_count": 5
  }
 ],
 "metadata": {
  "kernelspec": {
   "display_name": "Python 3",
   "language": "python",
   "name": "python3"
  },
  "language_info": {
   "codemirror_mode": {
    "name": "ipython",
    "version": 2
   },
   "file_extension": ".py",
   "mimetype": "text/x-python",
   "name": "python",
   "nbconvert_exporter": "python",
   "pygments_lexer": "ipython2",
   "version": "2.7.6"
  }
 },
 "nbformat": 4,
 "nbformat_minor": 5
}
