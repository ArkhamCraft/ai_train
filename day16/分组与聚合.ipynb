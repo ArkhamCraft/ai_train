{
 "cells": [
  {
   "cell_type": "code",
   "id": "initial_id",
   "metadata": {
    "collapsed": true,
    "ExecuteTime": {
     "end_time": "2025-06-15T06:42:36.634444Z",
     "start_time": "2025-06-15T06:42:36.343506Z"
    }
   },
   "source": [
    "import pandas as pd\n",
    "import numpy as np\n",
    "\n",
    "dict_obj = {'key1' : ['a', 'b', 'a', 'b', \n",
    "                      'a', 'b', 'a', 'a'],\n",
    "            'key2' : ['one', 'one', 'two', 'three',\n",
    "                      'two', 'two', 'one', 'three'],\n",
    "            'data1': [np.random.randint(1,10) for i in range(8)],\n",
    "            'data2': [np.random.randint(1,10) for i in range(8)]}\n",
    "df_obj = pd.DataFrame(dict_obj)\n",
    "print(df_obj)"
   ],
   "outputs": [
    {
     "name": "stdout",
     "output_type": "stream",
     "text": [
      "  key1   key2  data1  data2\n",
      "0    a    one      3      4\n",
      "1    b    one      3      1\n",
      "2    a    two      9      5\n",
      "3    b  three      3      6\n",
      "4    a    two      6      9\n",
      "5    b    two      9      6\n",
      "6    a    one      3      4\n",
      "7    a  three      8      3\n"
     ]
    }
   ],
   "execution_count": 1
  },
  {
   "metadata": {
    "ExecuteTime": {
     "end_time": "2025-06-15T06:42:43.569458Z",
     "start_time": "2025-06-15T06:42:43.565236Z"
    }
   },
   "cell_type": "code",
   "source": "df_obj.groupby('key1')",
   "id": "a22d58fb19f1857a",
   "outputs": [
    {
     "data": {
      "text/plain": [
       "<pandas.core.groupby.generic.DataFrameGroupBy object at 0x0000022BFF65D520>"
      ]
     },
     "execution_count": 2,
     "metadata": {},
     "output_type": "execute_result"
    }
   ],
   "execution_count": 2
  },
  {
   "metadata": {
    "ExecuteTime": {
     "end_time": "2025-06-15T06:42:53.068417Z",
     "start_time": "2025-06-15T06:42:53.062757Z"
    }
   },
   "cell_type": "code",
   "source": "df_obj.groupby('key1').mean(numeric_only=True)",
   "id": "bce0c0e9b7308b0",
   "outputs": [
    {
     "data": {
      "text/plain": [
       "      data1     data2\n",
       "key1                 \n",
       "a       5.8  5.000000\n",
       "b       5.0  4.333333"
      ],
      "text/html": [
       "<div>\n",
       "<style scoped>\n",
       "    .dataframe tbody tr th:only-of-type {\n",
       "        vertical-align: middle;\n",
       "    }\n",
       "\n",
       "    .dataframe tbody tr th {\n",
       "        vertical-align: top;\n",
       "    }\n",
       "\n",
       "    .dataframe thead th {\n",
       "        text-align: right;\n",
       "    }\n",
       "</style>\n",
       "<table border=\"1\" class=\"dataframe\">\n",
       "  <thead>\n",
       "    <tr style=\"text-align: right;\">\n",
       "      <th></th>\n",
       "      <th>data1</th>\n",
       "      <th>data2</th>\n",
       "    </tr>\n",
       "    <tr>\n",
       "      <th>key1</th>\n",
       "      <th></th>\n",
       "      <th></th>\n",
       "    </tr>\n",
       "  </thead>\n",
       "  <tbody>\n",
       "    <tr>\n",
       "      <th>a</th>\n",
       "      <td>5.8</td>\n",
       "      <td>5.000000</td>\n",
       "    </tr>\n",
       "    <tr>\n",
       "      <th>b</th>\n",
       "      <td>5.0</td>\n",
       "      <td>4.333333</td>\n",
       "    </tr>\n",
       "  </tbody>\n",
       "</table>\n",
       "</div>"
      ]
     },
     "execution_count": 3,
     "metadata": {},
     "output_type": "execute_result"
    }
   ],
   "execution_count": 3
  },
  {
   "metadata": {
    "ExecuteTime": {
     "end_time": "2025-06-15T06:42:59.777575Z",
     "start_time": "2025-06-15T06:42:59.773382Z"
    }
   },
   "cell_type": "code",
   "source": "df_obj['data1'].groupby(df_obj['key1']).mean()",
   "id": "f9538d352996910d",
   "outputs": [
    {
     "data": {
      "text/plain": [
       "key1\n",
       "a    5.8\n",
       "b    5.0\n",
       "Name: data1, dtype: float64"
      ]
     },
     "execution_count": 4,
     "metadata": {},
     "output_type": "execute_result"
    }
   ],
   "execution_count": 4
  },
  {
   "metadata": {
    "ExecuteTime": {
     "end_time": "2025-06-15T06:43:05.065004Z",
     "start_time": "2025-06-15T06:43:05.023544Z"
    }
   },
   "cell_type": "code",
   "source": "print(df_obj.groupby('key1').describe())",
   "id": "e408b7cd91b36aa0",
   "outputs": [
    {
     "name": "stdout",
     "output_type": "stream",
     "text": [
      "     data1                                         data2                      \\\n",
      "     count mean       std  min  25%  50%  75%  max count      mean       std   \n",
      "key1                                                                           \n",
      "a      5.0  5.8  2.774887  3.0  3.0  6.0  8.0  9.0   5.0  5.000000  2.345208   \n",
      "b      3.0  5.0  3.464102  3.0  3.0  3.0  6.0  9.0   3.0  4.333333  2.886751   \n",
      "\n",
      "                               \n",
      "      min  25%  50%  75%  max  \n",
      "key1                           \n",
      "a     3.0  4.0  4.0  5.0  9.0  \n",
      "b     1.0  3.5  6.0  6.0  6.0  \n"
     ]
    }
   ],
   "execution_count": 5
  },
  {
   "metadata": {
    "ExecuteTime": {
     "end_time": "2025-06-15T06:43:21.643939Z",
     "start_time": "2025-06-15T06:43:21.637828Z"
    }
   },
   "cell_type": "code",
   "source": [
    "def peak_range(df):\n",
    "    return df.max() - df.min()\n",
    "\n",
    "print(df_obj.loc[:, ['key1','data1', 'data2']].groupby('key1').agg(peak_range))\n",
    "print(df_obj.loc[:, ['key1','data1', 'data2']].groupby('key1').agg(lambda df : df.max() - df.min()))"
   ],
   "id": "5409698dbd90a69",
   "outputs": [
    {
     "name": "stdout",
     "output_type": "stream",
     "text": [
      "      data1  data2\n",
      "key1              \n",
      "a         6      6\n",
      "b         6      5\n",
      "      data1  data2\n",
      "key1              \n",
      "a         6      6\n",
      "b         6      5\n"
     ]
    }
   ],
   "execution_count": 6
  },
  {
   "metadata": {
    "ExecuteTime": {
     "end_time": "2025-06-15T06:43:56.529070Z",
     "start_time": "2025-06-15T06:43:56.523091Z"
    }
   },
   "cell_type": "code",
   "source": "print(df_obj.loc[:, ['key1','data1', 'data2']].groupby('key1').agg(['mean', 'std', 'count', peak_range]))",
   "id": "9c4969479becbc1a",
   "outputs": [
    {
     "name": "stdout",
     "output_type": "stream",
     "text": [
      "     data1                                data2                           \n",
      "      mean       std count peak_range      mean       std count peak_range\n",
      "key1                                                                      \n",
      "a      5.8  2.774887     5          6  5.000000  2.345208     5          6\n",
      "b      5.0  3.464102     3          6  4.333333  2.886751     3          5\n"
     ]
    }
   ],
   "execution_count": 7
  },
  {
   "metadata": {
    "ExecuteTime": {
     "end_time": "2025-06-15T06:47:19.976382Z",
     "start_time": "2025-06-15T06:47:19.920738Z"
    }
   },
   "cell_type": "code",
   "source": [
    "file_path = \"./starbucks_store_worldwide.csv\"\n",
    "\n",
    "df = pd.read_csv(file_path)\n",
    "print(df.head(1))\n",
    "print(df.info())"
   ],
   "id": "2214795257fe935b",
   "outputs": [
    {
     "name": "stdout",
     "output_type": "stream",
     "text": [
      "       Brand  Store Number     Store Name Ownership Type     Street Address  \\\n",
      "0  Starbucks  47370-257954  Meritxell, 96       Licensed  Av. Meritxell, 96   \n",
      "\n",
      "               City State/Province Country Postcode Phone Number  \\\n",
      "0  Andorra la Vella              7      AD    AD500    376818720   \n",
      "\n",
      "                  Timezone  Longitude  Latitude  \n",
      "0  GMT+1:00 Europe/Andorra       1.53     42.51  \n",
      "<class 'pandas.core.frame.DataFrame'>\n",
      "RangeIndex: 25600 entries, 0 to 25599\n",
      "Data columns (total 13 columns):\n",
      " #   Column          Non-Null Count  Dtype  \n",
      "---  ------          --------------  -----  \n",
      " 0   Brand           25600 non-null  object \n",
      " 1   Store Number    25600 non-null  object \n",
      " 2   Store Name      25600 non-null  object \n",
      " 3   Ownership Type  25600 non-null  object \n",
      " 4   Street Address  25598 non-null  object \n",
      " 5   City            25585 non-null  object \n",
      " 6   State/Province  25600 non-null  object \n",
      " 7   Country         25600 non-null  object \n",
      " 8   Postcode        24078 non-null  object \n",
      " 9   Phone Number    18739 non-null  object \n",
      " 10  Timezone        25600 non-null  object \n",
      " 11  Longitude       25599 non-null  float64\n",
      " 12  Latitude        25599 non-null  float64\n",
      "dtypes: float64(2), object(11)\n",
      "memory usage: 2.5+ MB\n",
      "None\n"
     ]
    }
   ],
   "execution_count": 8
  },
  {
   "metadata": {
    "ExecuteTime": {
     "end_time": "2025-06-15T06:50:58.236055Z",
     "start_time": "2025-06-15T06:50:58.230780Z"
    }
   },
   "cell_type": "code",
   "source": [
    "grouped = df.groupby(by=\"Country\")\n",
    "grouped['Brand'].count().loc['CN'] "
   ],
   "id": "44d76087a0cc201d",
   "outputs": [
    {
     "data": {
      "text/plain": [
       "np.int64(2734)"
      ]
     },
     "execution_count": 13,
     "metadata": {},
     "output_type": "execute_result"
    }
   ],
   "execution_count": 13
  },
  {
   "metadata": {
    "ExecuteTime": {
     "end_time": "2025-06-15T06:50:56.961928Z",
     "start_time": "2025-06-15T06:50:56.958302Z"
    }
   },
   "cell_type": "code",
   "source": "grouped['Brand'].count().loc['US'] ",
   "id": "cd983013c57e5b5a",
   "outputs": [
    {
     "data": {
      "text/plain": [
       "np.int64(13608)"
      ]
     },
     "execution_count": 12,
     "metadata": {},
     "output_type": "execute_result"
    }
   ],
   "execution_count": 12
  }
 ],
 "metadata": {
  "kernelspec": {
   "display_name": "Python 3",
   "language": "python",
   "name": "python3"
  },
  "language_info": {
   "codemirror_mode": {
    "name": "ipython",
    "version": 2
   },
   "file_extension": ".py",
   "mimetype": "text/x-python",
   "name": "python",
   "nbconvert_exporter": "python",
   "pygments_lexer": "ipython2",
   "version": "2.7.6"
  }
 },
 "nbformat": 4,
 "nbformat_minor": 5
}
