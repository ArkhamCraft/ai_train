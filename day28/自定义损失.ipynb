{
 "cells": [
  {
   "cell_type": "code",
   "execution_count": 1,
   "metadata": {},
   "outputs": [],
   "source": [
    "import numpy as np\n",
    "import pandas as pd\n",
    "import matplotlib.pyplot as plt\n",
    "from sklearn.datasets import fetch_california_housing\n",
    "from sklearn.model_selection import train_test_split\n",
    "from sklearn.preprocessing import StandardScaler\n",
    "import torch\n",
    "import torch.nn as nn\n",
    "from tqdm.auto import tqdm\n",
    "from torch.utils.data import DataLoader, Dataset\n",
    "from classificatiom_model import EarlyStopping, ModelSaver\n",
    "from classificatiom_model import plot_learning_curves,plot_learning_loss_curves\n",
    "import torch.nn.functional as F"
   ]
  },
  {
   "cell_type": "code",
   "execution_count": 2,
   "metadata": {},
   "outputs": [
    {
     "name": "stdout",
     "output_type": "stream",
     "text": [
      "训练集大小: 12384 样本\n",
      "验证集大小: 4128 样本\n",
      "测试集大小: 4128 样本\n",
      "批次中的特征形状: [torch.Size([8]), torch.Size([8]), torch.Size([8]), torch.Size([8]), torch.Size([8]), torch.Size([8]), torch.Size([8]), torch.Size([8]), torch.Size([8]), torch.Size([8]), torch.Size([8]), torch.Size([8]), torch.Size([8]), torch.Size([8]), torch.Size([8]), torch.Size([8]), torch.Size([8]), torch.Size([8]), torch.Size([8]), torch.Size([8]), torch.Size([8]), torch.Size([8]), torch.Size([8]), torch.Size([8]), torch.Size([8]), torch.Size([8]), torch.Size([8]), torch.Size([8]), torch.Size([8]), torch.Size([8]), torch.Size([8]), torch.Size([8]), torch.Size([8]), torch.Size([8]), torch.Size([8]), torch.Size([8]), torch.Size([8]), torch.Size([8]), torch.Size([8]), torch.Size([8]), torch.Size([8]), torch.Size([8]), torch.Size([8]), torch.Size([8]), torch.Size([8]), torch.Size([8]), torch.Size([8]), torch.Size([8]), torch.Size([8]), torch.Size([8]), torch.Size([8]), torch.Size([8]), torch.Size([8]), torch.Size([8]), torch.Size([8]), torch.Size([8]), torch.Size([8]), torch.Size([8]), torch.Size([8]), torch.Size([8]), torch.Size([8]), torch.Size([8]), torch.Size([8]), torch.Size([8])]\n",
      "批次中的目标形状: torch.Size([64, 1])\n"
     ]
    }
   ],
   "source": [
    "# 加载加利福尼亚房价数据集\n",
    "housing = fetch_california_housing()  # 从sklearn加载加利福尼亚房价数据集\n",
    "X = housing.data  # 获取特征数据\n",
    "y = housing.target  # 获取目标变量（房价）\n",
    "\n",
    "# 数据拆分：训练集(60%)、验证集(20%)、测试集(20%)\n",
    "# 首先将数据分为训练集(80%)和测试集(20%)\n",
    "X_train_val, X_test, y_train_val, y_test = train_test_split(X, y, test_size=0.2, random_state=42)  # 使用80%/20%的比例划分训练验证集和测试集\n",
    "\n",
    "# 然后将训练集再分为训练集(75%，即总数据的60%)和验证集(25%，即总数据的20%)\n",
    "X_train, X_val, y_train, y_val = train_test_split(X_train_val, y_train_val, test_size=0.25, random_state=42)  # 将训练验证集进一步划分为训练集和验证集\n",
    "\n",
    "# 打印数据集大小\n",
    "print(f\"训练集大小: {X_train.shape[0]} 样本\")  # 显示训练集样本数量\n",
    "print(f\"验证集大小: {X_val.shape[0]} 样本\")  # 显示验证集样本数量\n",
    "print(f\"测试集大小: {X_test.shape[0]} 样本\")  # 显示测试集样本数量\n",
    "\n",
    "# 标准化特征\n",
    "scaler = StandardScaler()  # 创建标准化转换器\n",
    "X_train_scaled = scaler.fit_transform(X_train)  # 对训练集进行拟合和转换\n",
    "X_val_scaled = scaler.transform(X_val)  # 使用训练集的参数对验证集进行转换\n",
    "X_test_scaled = scaler.transform(X_test)  # 使用训练集的参数对测试集进行转换\n",
    "\n",
    "\n",
    "# %% cell 3 code\n",
    "\n",
    "# 自定义数据集类\n",
    "class HousingDataset(Dataset):\n",
    "    \"\"\"\n",
    "    加利福尼亚房价数据集的PyTorch数据集类\n",
    "    \n",
    "    参数:\n",
    "        features: 特征数据\n",
    "        targets: 目标值\n",
    "        wide_indices: 用于wide部分的特征索引\n",
    "        deep_indices: 用于deep部分的特征索引\n",
    "    \"\"\"\n",
    "    def __init__(self, features, targets):\n",
    "        self.features = torch.FloatTensor(features)  # 将特征转换为PyTorch张量\n",
    "        self.targets = torch.FloatTensor(targets).view(-1, 1)  # 确保目标是二维的\n",
    "    \n",
    "    def __len__(self):\n",
    "        return len(self.features)  # 返回数据集的大小\n",
    "    \n",
    "    def __getitem__(self, idx):\n",
    "        # 返回wide特征、deep特征和目标值\n",
    "        return self.features[idx], self.targets[idx]  # 返回指定索引的特征和目标\n",
    "\n",
    "# 创建数据集实例\n",
    "# 这里我们假设所有特征都用于wide和deep部分\n",
    "train_dataset = HousingDataset(X_train_scaled, y_train)  # 创建训练数据集\n",
    "val_dataset = HousingDataset(X_val_scaled, y_val)  # 创建验证数据集\n",
    "test_dataset = HousingDataset(X_test_scaled, y_test)  # 创建测试数据集\n",
    "\n",
    "# 创建数据加载器\n",
    "batch_size = 64  # 设置批次大小\n",
    "train_loader = DataLoader(train_dataset, batch_size=batch_size, shuffle=True)  # 创建训练数据加载器，打乱数据\n",
    "val_loader = DataLoader(val_dataset, batch_size=batch_size)  # 创建验证数据加载器\n",
    "test_loader = DataLoader(test_dataset, batch_size=batch_size)  # 创建测试数据加载器\n",
    "\n",
    "# 检查数据加载器是否正常工作\n",
    "sample_batch = next(iter(train_loader))  # 获取一个批次的样本\n",
    "print(f\"批次中的特征形状: {[x.shape for x in sample_batch[0]]}\")  # 打印特征的形状\n",
    "print(f\"批次中的目标形状: {sample_batch[1].shape}\")  # 打印目标的形状\n"
   ]
  },
  {
   "cell_type": "code",
   "execution_count": 3,
   "metadata": {},
   "outputs": [
    {
     "name": "stdout",
     "output_type": "stream",
     "text": [
      "自定义损失函数已创建，结合了MSE损失和相对误差惩罚\n",
      "测试损失值: 2.0691\n"
     ]
    }
   ],
   "source": [
    "# 自定义损失函数\n",
    "class CustomRegressionLoss(nn.Module):\n",
    "    \"\"\"\n",
    "    自定义回归损失函数，结合了MSE损失和相对误差惩罚\n",
    "    \n",
    "    参数:\n",
    "        alpha: MSE损失的权重，控制均方误差在总损失中的比例\n",
    "        beta: 相对误差惩罚的权重，控制相对误差在总损失中的比例\n",
    "    \"\"\"\n",
    "    def __init__(self, alpha=0.5, beta=0.5):\n",
    "        super(CustomRegressionLoss, self).__init__()\n",
    "        self.alpha = alpha  # MSE损失的权重系数\n",
    "        self.beta = beta    # 相对误差的权重系数\n",
    "        self.mse = nn.MSELoss()  # 实例化均方误差损失函数\n",
    "    \n",
    "    def forward(self, predictions, targets):\n",
    "        # 计算MSE损失 - 评估预测值与真实值之间的平方差\n",
    "        mse_loss = self.mse(predictions, targets)\n",
    "        \n",
    "        # 计算相对误差惩罚\n",
    "        # 相对误差 = |预测值-真实值|/|真实值|\n",
    "        # 添加epsilon避免除以零的情况\n",
    "        epsilon = 1e-6  # 小常数，防止分母为零\n",
    "        relative_error = torch.abs(predictions - targets) / (torch.abs(targets) + epsilon)\n",
    "        relative_loss = torch.mean(relative_error)  # 计算平均相对误差\n",
    "        \n",
    "        # 组合损失 - 将MSE损失和相对误差按权重组合\n",
    "        # alpha和beta控制两种损失的相对重要性\n",
    "        total_loss = self.alpha * mse_loss + self.beta * relative_loss\n",
    "        \n",
    "        return total_loss\n",
    "\n",
    "# 使用示例\n",
    "# 创建损失函数实例，设置MSE损失权重为0.7，相对误差权重为0.3\n",
    "criterion = CustomRegressionLoss(alpha=0.7, beta=0.3)\n",
    "print(\"自定义损失函数已创建，结合了MSE损失和相对误差惩罚\")\n",
    "\n",
    "# 测试损失函数\n",
    "dummy_predictions = torch.randn(10, 1)  # 创建10个随机预测值，形状为[10,1]\n",
    "dummy_targets = torch.randn(10, 1)      # 创建10个随机目标值，形状为[10,1]\n",
    "dummy_loss = criterion(dummy_predictions, dummy_targets)  # 计算损失值\n",
    "print(f\"测试损失值: {dummy_loss.item():.4f}\")  # 打印损失值，保留4位小数\n",
    "\n"
   ]
  },
  {
   "cell_type": "code",
   "execution_count": 27,
   "metadata": {},
   "outputs": [
    {
     "name": "stdout",
     "output_type": "stream",
     "text": [
      "RegressionModel(\n",
      "  (layer1): Linear(in_features=8, out_features=30, bias=True)\n",
      "  (activation): ReLU()\n",
      "  (output): Linear(in_features=30, out_features=1, bias=True)\n",
      ")\n"
     ]
    }
   ],
   "source": [
    "# 定义神经网络模型\n",
    "class RegressionModel(nn.Module):\n",
    "    def __init__(self, input_dim):\n",
    "        super(RegressionModel, self).__init__()\n",
    "        self.layer1 = nn.Linear(input_dim, 30)\n",
    "        self.activation = nn.ReLU()\n",
    "        self.output = nn.Linear(30, 1)\n",
    "        \n",
    "    def forward(self, x):\n",
    "        x = self.activation(self.layer1(x))\n",
    "        x = self.output(x)\n",
    "        return x\n",
    "\n",
    "# 初始化模型、损失函数和优化器\n",
    "input_dim = X_train.shape[1]\n",
    "model = RegressionModel(input_dim)\n",
    "criterion = CustomRegressionLoss(alpha=0.7, beta=0.3)\n",
    "optimizer = torch.optim.Adam(model.parameters())\n",
    "\n",
    "# 打印模型结构\n",
    "print(model)"
   ]
  },
  {
   "cell_type": "code",
   "execution_count": 5,
   "metadata": {},
   "outputs": [],
   "source": [
    "# 评估模型\n",
    "def evaluate_regression_model(model, dataloader,  device,criterion):\n",
    "    model.eval()\n",
    "    running_loss = 0.0\n",
    "\n",
    "    \n",
    "    with torch.no_grad():#禁止 autograd 记录计算图，节省显存与算力。\n",
    "        for inputs, targets in dataloader:\n",
    "            inputs, targets = inputs.to(device), targets.to(device)\n",
    "            outputs = model(inputs) #前向计算\n",
    "            loss = criterion(outputs, targets) #计算损失\n",
    "            \n",
    "            running_loss += loss.item() * inputs.size(0)\n",
    "    \n",
    "    return running_loss / len(dataloader.dataset)"
   ]
  },
  {
   "cell_type": "code",
   "execution_count": 20,
   "metadata": {},
   "outputs": [],
   "source": [
    "# 定义回归模型训练函数\n",
    "def train_regression_model(model, train_loader, val_loader, criterion, optimizer, \n",
    "                          num_epochs=100, print_every=10, eval_step=100,\n",
    "                          early_stopping=None, model_saver=None, device=\"cpu\"):\n",
    "    # 将模型移至指定设备\n",
    "    model.to(device)\n",
    "    # 记录训练和验证过程中的损失\n",
    "    record_dict = {\"train\": [], \"val\": []}\n",
    "    # 初始化最佳验证损失为无穷大\n",
    "    best_val_loss = float('inf')\n",
    "    # 初始化全局步数\n",
    "    global_step = 0\n",
    "    # 初始化验证损失\n",
    "    epoch_val_loss = float('inf')\n",
    "    \n",
    "    # 创建一个总进度条，显示所有epoch的进度\n",
    "    total_iterations = num_epochs * len(train_loader)\n",
    "    pbar = tqdm(total=total_iterations, desc=\"训练进度\")\n",
    "    \n",
    "    # 遍历每个训练周期\n",
    "    for epoch_id in range(num_epochs):\n",
    "        # 设置模型为训练模式\n",
    "        model.train()\n",
    "        # 初始化当前周期的训练损失\n",
    "        epoch_train_loss = 0.0\n",
    "        \n",
    "        # 遍历训练数据\n",
    "        for inputs, targets in train_loader:\n",
    "            # 将数据移至指定设备\n",
    "            inputs, targets = inputs.to(device), targets.to(device)\n",
    "            \n",
    "            # 清零梯度\n",
    "            optimizer.zero_grad()\n",
    "            \n",
    "            # 前向传播\n",
    "            outputs = model(inputs)\n",
    "            \n",
    "            # 计算损失\n",
    "            loss = criterion(outputs, targets)\n",
    "            \n",
    "            # 反向传播\n",
    "            loss.backward()\n",
    "            \n",
    "            # 更新参数\n",
    "            optimizer.step()\n",
    "            \n",
    "            # 累加训练损失\n",
    "            epoch_train_loss += loss.item()\n",
    "            \n",
    "            # 更新全局步数\n",
    "            global_step += 1\n",
    "            \n",
    "            # 记录训练数据\n",
    "            record_dict[\"train\"].append({\n",
    "                \"loss\": loss.item(),\n",
    "                \"step\": global_step\n",
    "            })\n",
    "            \n",
    "            # 验证\n",
    "            if global_step % eval_step == 0:\n",
    "                epoch_val_loss = evaluate_regression_model(model, val_loader, device, criterion)\n",
    "            \n",
    "                # 记录验证数据\n",
    "                record_dict[\"val\"].append({\n",
    "                    \"loss\": epoch_val_loss, \n",
    "                    \"step\": global_step\n",
    "                })\n",
    "                \n",
    "                # 如果有模型保存器，保存模型\n",
    "                if model_saver is not None:\n",
    "                    model_saver(model, -epoch_val_loss, epoch_id)\n",
    "                \n",
    "                # 如果有早停器，检查是否应该早停\n",
    "                if early_stopping is not None:\n",
    "                    early_stopping(-epoch_val_loss)\n",
    "                    if early_stopping.early_stop:\n",
    "                        print(f'早停: 已有{early_stopping.patience}轮验证损失没有改善！')\n",
    "                        pbar.close()\n",
    "                        return model, record_dict\n",
    "            \n",
    "            # 更新进度条\n",
    "            pbar.update(1)\n",
    "            pbar.set_postfix({\n",
    "                \"epoch\": f\"{epoch_id+1}/{num_epochs}\", \n",
    "                \"loss\": f\"{epoch_train_loss/len(train_loader):.4f}\", \n",
    "                \"val_loss\": f\"{epoch_val_loss:.4f}\"\n",
    "            })\n",
    "    \n",
    "    pbar.close()\n",
    "    return model, record_dict\n"
   ]
  },
  {
   "cell_type": "code",
   "execution_count": 28,
   "metadata": {},
   "outputs": [
    {
     "data": {
      "application/vnd.jupyter.widget-view+json": {
       "model_id": "73fa27c831f845a994d60b2a0670b116",
       "version_major": 2,
       "version_minor": 0
      },
      "text/plain": [
       "训练进度:   0%|          | 0/19400 [00:00<?, ?it/s]"
      ]
     },
     "metadata": {},
     "output_type": "display_data"
    }
   ],
   "source": [
    "# 训练模型\n",
    "# 初始化早停和模型保存对象\n",
    "early_stopping = EarlyStopping(patience=10, verbose=True)\n",
    "model_saver = ModelSaver(save_dir='model_weights')\n",
    "device = torch.device(\"cuda:0\" if torch.cuda.is_available() else \"cpu\")\n",
    "model, record_dict = train_regression_model(\n",
    "    model=model,\n",
    "    train_loader=train_loader,\n",
    "    val_loader=val_loader,\n",
    "    criterion=criterion,\n",
    "    optimizer=optimizer,\n",
    "    num_epochs=100,\n",
    "    print_every=10,\n",
    "    eval_step=500,\n",
    "    early_stopping=early_stopping,\n",
    "    model_saver=model_saver,\n",
    "    device=device.type\n",
    ")"
   ]
  },
  {
   "cell_type": "code",
   "execution_count": 29,
   "metadata": {},
   "outputs": [
    {
     "data": {
      "image/png": "[encoded data removed]",
      "text/plain": [
       "<Figure size 1000x500 with 1 Axes>"
      ]
     },
     "metadata": {},
     "output_type": "display_data"
    }
   ],
   "source": [
    "#画图\n",
    "plot_learning_loss_curves(record_dict,sample_step=500)"
   ]
  },
  {
   "cell_type": "code",
   "execution_count": 30,
   "metadata": {},
   "outputs": [
    {
     "name": "stdout",
     "output_type": "stream",
     "text": [
      "测试集上的损失为0.3176\n"
     ]
    }
   ],
   "source": [
    "device = torch.device(\"cuda:0\" if torch.cuda.is_available() else \"cpu\")\n",
    "test_loss=evaluate_regression_model(model,test_loader,device,criterion)\n",
    "print(f\"测试集上的损失为{test_loss:.4f}\")"
   ]
  }
 ],
 "metadata": {
  "kernelspec": {
   "display_name": "Python 3",
   "language": "python",
   "name": "python3"
  },
  "language_info": {
   "codemirror_mode": {
    "name": "ipython",
    "version": 3
   },
   "file_extension": ".py",
   "mimetype": "text/x-python",
   "name": "python",
   "nbconvert_exporter": "python",
   "pygments_lexer": "ipython3",
   "version": "3.12.3"
  }
 },
 "nbformat": 4,
 "nbformat_minor": 2
}
