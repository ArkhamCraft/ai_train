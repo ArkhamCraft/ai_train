{
 "cells": [
  {
   "cell_type": "code",
   "execution_count": 2,
   "metadata": {},
   "outputs": [],
   "source": [
    "import sys\n",
    "import numpy as np\n",
    "import pandas as pd\n",
    "import matplotlib.pyplot as plt\n",
    "from sklearn.datasets import fetch_california_housing\n",
    "from sklearn.model_selection import train_test_split\n",
    "from sklearn.preprocessing import StandardScaler\n",
    "import torch\n",
    "import torch.nn as nn\n",
    "from tqdm.auto import tqdm\n",
    "from torch.utils.data import DataLoader, Dataset\n",
    "from classificatiom_model import EarlyStopping, ModelSaver\n",
    "from classificatiom_model import plot_learning_loss_curves,train_regression_model,evaluate_regression_model\n",
    "import os"
   ]
  },
  {
   "cell_type": "code",
   "execution_count": 5,
   "metadata": {},
   "outputs": [
    {
     "name": "stdout",
     "output_type": "stream",
     "text": [
      "训练集大小: 12384 样本\n",
      "验证集大小: 4128 样本\n",
      "测试集大小: 4128 样本\n",
      "批次中的特征形状: [torch.Size([8]), torch.Size([8]), torch.Size([8]), torch.Size([8]), torch.Size([8]), torch.Size([8]), torch.Size([8]), torch.Size([8]), torch.Size([8]), torch.Size([8]), torch.Size([8]), torch.Size([8]), torch.Size([8]), torch.Size([8]), torch.Size([8]), torch.Size([8]), torch.Size([8]), torch.Size([8]), torch.Size([8]), torch.Size([8]), torch.Size([8]), torch.Size([8]), torch.Size([8]), torch.Size([8]), torch.Size([8]), torch.Size([8]), torch.Size([8]), torch.Size([8]), torch.Size([8]), torch.Size([8]), torch.Size([8]), torch.Size([8]), torch.Size([8]), torch.Size([8]), torch.Size([8]), torch.Size([8]), torch.Size([8]), torch.Size([8]), torch.Size([8]), torch.Size([8]), torch.Size([8]), torch.Size([8]), torch.Size([8]), torch.Size([8]), torch.Size([8]), torch.Size([8]), torch.Size([8]), torch.Size([8]), torch.Size([8]), torch.Size([8]), torch.Size([8]), torch.Size([8]), torch.Size([8]), torch.Size([8]), torch.Size([8]), torch.Size([8]), torch.Size([8]), torch.Size([8]), torch.Size([8]), torch.Size([8]), torch.Size([8]), torch.Size([8]), torch.Size([8]), torch.Size([8])]\n",
      "批次中的目标形状: torch.Size([64, 1])\n"
     ]
    }
   ],
   "source": [
    "# 加载加利福尼亚房价数据集\n",
    "housing = fetch_california_housing()  # 从sklearn加载加利福尼亚房价数据集\n",
    "X = housing.data  # 获取特征数据\n",
    "y = housing.target  # 获取目标变量（房价）\n",
    "\n",
    "# 数据拆分：训练集(60%)、验证集(20%)、测试集(20%)\n",
    "# 首先将数据分为训练集(80%)和测试集(20%)\n",
    "X_train_val, X_test, y_train_val, y_test = train_test_split(X, y, test_size=0.2, random_state=42)  # 使用80%/20%的比例划分训练验证集和测试集\n",
    "\n",
    "# 然后将训练集再分为训练集(75%，即总数据的60%)和验证集(25%，即总数据的20%)\n",
    "X_train, X_val, y_train, y_val = train_test_split(X_train_val, y_train_val, test_size=0.25, random_state=42)  # 将训练验证集进一步划分为训练集和验证集\n",
    "\n",
    "# 打印数据集大小\n",
    "print(f\"训练集大小: {X_train.shape[0]} 样本\")  # 显示训练集样本数量\n",
    "print(f\"验证集大小: {X_val.shape[0]} 样本\")  # 显示验证集样本数量\n",
    "print(f\"测试集大小: {X_test.shape[0]} 样本\")  # 显示测试集样本数量\n",
    "\n",
    "# 标准化特征\n",
    "scaler = StandardScaler()  # 创建标准化转换器\n",
    "X_train_scaled = scaler.fit_transform(X_train)  # 对训练集进行拟合和转换\n",
    "X_val_scaled = scaler.transform(X_val)  # 使用训练集的参数对验证集进行转换\n",
    "X_test_scaled = scaler.transform(X_test)  # 使用训练集的参数对测试集进行转换\n",
    "\n",
    "\n",
    "# %% cell 3 code\n",
    "\n",
    "# 自定义数据集类\n",
    "class HousingDataset(Dataset):\n",
    "    \"\"\"\n",
    "    加利福尼亚房价数据集的PyTorch数据集类\n",
    "    \n",
    "    参数:\n",
    "        features: 特征数据\n",
    "        targets: 目标值\n",
    "        wide_indices: 用于wide部分的特征索引\n",
    "        deep_indices: 用于deep部分的特征索引\n",
    "    \"\"\"\n",
    "    def __init__(self, features, targets):\n",
    "        self.features = torch.FloatTensor(features)  # 将特征转换为PyTorch张量\n",
    "        self.targets = torch.FloatTensor(targets).view(-1, 1)  # 确保目标是二维的\n",
    "    \n",
    "    def __len__(self):\n",
    "        return len(self.features)  # 返回数据集的大小\n",
    "    \n",
    "    def __getitem__(self, idx):\n",
    "        # 返回wide特征、deep特征和目标值\n",
    "        return self.features[idx], self.targets[idx]  # 返回指定索引的特征和目标\n",
    "\n",
    "# 创建数据集实例\n",
    "# 这里我们假设所有特征都用于wide和deep部分\n",
    "train_dataset = HousingDataset(X_train_scaled, y_train)  # 创建训练数据集\n",
    "val_dataset = HousingDataset(X_val_scaled, y_val)  # 创建验证数据集\n",
    "test_dataset = HousingDataset(X_test_scaled, y_test)  # 创建测试数据集\n",
    "\n",
    "# 创建数据加载器\n",
    "batch_size = 64  # 设置批次大小\n",
    "train_loader = DataLoader(train_dataset, batch_size=batch_size, shuffle=True)  # 创建训练数据加载器，打乱数据\n",
    "val_loader = DataLoader(val_dataset, batch_size=batch_size)  # 创建验证数据加载器\n",
    "test_loader = DataLoader(test_dataset, batch_size=batch_size)  # 创建测试数据加载器\n",
    "\n",
    "# 检查数据加载器是否正常工作\n",
    "sample_batch = next(iter(train_loader))  # 获取一个批次的样本\n",
    "print(f\"批次中的特征形状: {[x.shape for x in sample_batch[0]]}\")  # 打印特征的形状\n",
    "print(f\"批次中的目标形状: {sample_batch[1].shape}\")  # 打印目标的形状\n"
   ]
  },
  {
   "cell_type": "code",
   "execution_count": 6,
   "metadata": {},
   "outputs": [
    {
     "name": "stdout",
     "output_type": "stream",
     "text": [
      "WideDeepModel(\n",
      "  (deep): Sequential(\n",
      "    (0): Linear(in_features=8, out_features=30, bias=True)\n",
      "    (1): ReLU()\n",
      "    (2): Linear(in_features=30, out_features=30, bias=True)\n",
      "    (3): ReLU()\n",
      "  )\n",
      "  (output): Linear(in_features=38, out_features=1, bias=True)\n",
      ")\n"
     ]
    }
   ],
   "source": [
    "from torch import optim  # 导入PyTorch的优化器模块\n",
    "\n",
    "\n",
    "\n",
    "# 定义Wide & Deep神经网络模型\n",
    "class WideDeepModel(nn.Module):\n",
    "    def __init__(self, input_dim):\n",
    "        \"\"\"\n",
    "        初始化Wide & Deep模型\n",
    "        \n",
    "        参数:\n",
    "            input_dim: 输入特征的维度\n",
    "        \"\"\"\n",
    "        super().__init__()\n",
    "        # Deep部分使用Sequential构建深度神经网络\n",
    "        self.deep = nn.Sequential(\n",
    "            nn.Linear(input_dim, 30),  # 第一个全连接层，将输入转换为30维\n",
    "            nn.ReLU(),  # 激活函数\n",
    "            nn.Linear(30, 30),  # 第二个全连接层，维持30维\n",
    "            nn.ReLU()  # 激活函数\n",
    "        )\n",
    "        \n",
    "        # Wide部分直接使用原始输入，不做任何变换\n",
    "        \n",
    "        # 输出层，输入维度是deep部分的30 + wide部分的input_dim\n",
    "        self.output = nn.Linear(30 + input_dim, 1)  # 将连接后的特征映射到单一输出\n",
    "        \n",
    "    def forward(self, x):\n",
    "        \"\"\"\n",
    "        前向传播函数\n",
    "        \n",
    "        参数:\n",
    "            x: 输入特征，形状为[batch_size, input_dim]\n",
    "            \n",
    "        返回:\n",
    "            output: 模型预测结果，形状为[batch_size, 1]\n",
    "        \"\"\"\n",
    "        # Deep路径，通过深度网络处理，deep shape是[batch_size, 30]\n",
    "        deep = self.deep(x)\n",
    "        \n",
    "        # Wide路径直接使用原始输入，不做任何变换\n",
    "        wide = x\n",
    "        \n",
    "        # 连接Wide和Deep路径的输出，combined shape是[batch_size, 30 + input_dim]\n",
    "        combined = torch.cat([wide, deep], dim=1)\n",
    "        \n",
    "        # 输出层，生成最终预测，输出shape是[batch_size, 1]\n",
    "        output = self.output(combined)\n",
    "        return output\n",
    "\n",
    "\n",
    "# 初始化模型、损失函数和优化器\n",
    "input_dim = X_train.shape[1]\n",
    "model = WideDeepModel(input_dim)\n",
    "criterion = nn.MSELoss()\n",
    "optimizer = optim.Adam(model.parameters())\n",
    "\n",
    "# 打印模型结构\n",
    "print(model)"
   ]
  },
  {
   "cell_type": "code",
   "execution_count": 8,
   "metadata": {},
   "outputs": [
    {
     "data": {
      "application/vnd.jupyter.widget-view+json": {
       "model_id": "dc4791f4cc9f4de89c7c33ee1fe5e6ac",
       "version_major": 2,
       "version_minor": 0
      },
      "text/plain": [
       "train progress:   0%|          | 0/19400 [00:00<?, ?it/s]"
      ]
     },
     "metadata": {},
     "output_type": "display_data"
    },
    {
     "name": "stdout",
     "output_type": "stream",
     "text": [
      "早停触发! 最佳验证准确率: -0.2851\n",
      "早停: 已有10轮验证损失没有改善！\n"
     ]
    }
   ],
   "source": [
    "# 训练模型\n",
    "# 初始化早停和模型保存对象\n",
    "early_stopping = EarlyStopping(patience=10, verbose=True)\n",
    "model_saver = ModelSaver(save_dir='model_weights')\n",
    "device = torch.device(\"cuda:0\" if torch.cuda.is_available() else \"cpu\")\n",
    "# 将模型移动到指定设备\n",
    "model = model.to(device)\n",
    "# 确保损失函数也在同一设备上\n",
    "criterion = criterion.to(device)\n",
    "model, record_dict = train_regression_model(\n",
    "    model=model,\n",
    "    train_loader=train_loader,\n",
    "    val_loader=val_loader,\n",
    "    criterion=criterion,\n",
    "    optimizer=optimizer,\n",
    "    num_epochs=100,\n",
    "    print_every=10,\n",
    "    eval_step=500,\n",
    "    early_stopping=early_stopping,\n",
    "    model_saver=model_saver,\n",
    "    device=device.type  # 传递设备类型字符串而不是设备对象\n",
    ")\n"
   ]
  },
  {
   "cell_type": "code",
   "execution_count": 9,
   "metadata": {},
   "outputs": [
    {
     "data": {
      "image/png": "[encoded data removed]",
      "text/plain": [
       "<Figure size 1000x500 with 1 Axes>"
      ]
     },
     "metadata": {},
     "output_type": "display_data"
    }
   ],
   "source": [
    "#画图\n",
    "plot_learning_loss_curves(record_dict,sample_step=500)"
   ]
  },
  {
   "cell_type": "code",
   "execution_count": 10,
   "metadata": {},
   "outputs": [
    {
     "name": "stdout",
     "output_type": "stream",
     "text": [
      "测试集上的损失为0.2832\n"
     ]
    }
   ],
   "source": [
    "device = torch.device(\"cuda:0\" if torch.cuda.is_available() else \"cpu\")\n",
    "test_loss=evaluate_regression_model(model,test_loader,device,criterion)\n",
    "print(f\"测试集上的损失为{test_loss:.4f}\")"
   ]
  }
 ],
 "metadata": {
  "kernelspec": {
   "display_name": "Python 3",
   "language": "python",
   "name": "python3"
  },
  "language_info": {
   "codemirror_mode": {
    "name": "ipython",
    "version": 3
   },
   "file_extension": ".py",
   "mimetype": "text/x-python",
   "name": "python",
   "nbconvert_exporter": "python",
   "pygments_lexer": "ipython3",
   "version": "3.12.3"
  }
 },
 "nbformat": 4,
 "nbformat_minor": 2
}
