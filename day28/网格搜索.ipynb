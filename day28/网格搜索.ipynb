{
 "cells": [
  {
   "cell_type": "code",
   "execution_count": 1,
   "metadata": {},
   "outputs": [],
   "source": [
    "import sys\n",
    "import numpy as np\n",
    "import pandas as pd\n",
    "import matplotlib.pyplot as plt\n",
    "from sklearn.datasets import fetch_california_housing\n",
    "from sklearn.model_selection import train_test_split\n",
    "from sklearn.preprocessing import StandardScaler\n",
    "import torch\n",
    "import torch.nn as nn\n",
    "from tqdm.auto import tqdm\n",
    "from torch.utils.data import DataLoader, Dataset\n",
    "from classificatiom_model import EarlyStopping, ModelSaver\n",
    "from classificatiom_model import plot_learning_loss_curves,train_regression_model,evaluate_regression_model\n",
    "import os"
   ]
  },
  {
   "cell_type": "code",
   "execution_count": 2,
   "metadata": {},
   "outputs": [
    {
     "name": "stdout",
     "output_type": "stream",
     "text": [
      "训练集大小: 12384 样本\n",
      "验证集大小: 4128 样本\n",
      "测试集大小: 4128 样本\n",
      "批次中的特征形状: [torch.Size([8]), torch.Size([8]), torch.Size([8]), torch.Size([8]), torch.Size([8]), torch.Size([8]), torch.Size([8]), torch.Size([8]), torch.Size([8]), torch.Size([8]), torch.Size([8]), torch.Size([8]), torch.Size([8]), torch.Size([8]), torch.Size([8]), torch.Size([8]), torch.Size([8]), torch.Size([8]), torch.Size([8]), torch.Size([8]), torch.Size([8]), torch.Size([8]), torch.Size([8]), torch.Size([8]), torch.Size([8]), torch.Size([8]), torch.Size([8]), torch.Size([8]), torch.Size([8]), torch.Size([8]), torch.Size([8]), torch.Size([8]), torch.Size([8]), torch.Size([8]), torch.Size([8]), torch.Size([8]), torch.Size([8]), torch.Size([8]), torch.Size([8]), torch.Size([8]), torch.Size([8]), torch.Size([8]), torch.Size([8]), torch.Size([8]), torch.Size([8]), torch.Size([8]), torch.Size([8]), torch.Size([8]), torch.Size([8]), torch.Size([8]), torch.Size([8]), torch.Size([8]), torch.Size([8]), torch.Size([8]), torch.Size([8]), torch.Size([8]), torch.Size([8]), torch.Size([8]), torch.Size([8]), torch.Size([8]), torch.Size([8]), torch.Size([8]), torch.Size([8]), torch.Size([8])]\n",
      "批次中的目标形状: torch.Size([64, 1])\n"
     ]
    }
   ],
   "source": [
    "# 加载加利福尼亚房价数据集\n",
    "housing = fetch_california_housing()  # 从sklearn加载加利福尼亚房价数据集\n",
    "X = housing.data  # 获取特征数据\n",
    "y = housing.target  # 获取目标变量（房价）\n",
    "\n",
    "# 数据拆分：训练集(60%)、验证集(20%)、测试集(20%)\n",
    "# 首先将数据分为训练集(80%)和测试集(20%)\n",
    "X_train_val, X_test, y_train_val, y_test = train_test_split(X, y, test_size=0.2, random_state=42)  # 使用80%/20%的比例划分训练验证集和测试集\n",
    "\n",
    "# 然后将训练集再分为训练集(75%，即总数据的60%)和验证集(25%，即总数据的20%)\n",
    "X_train, X_val, y_train, y_val = train_test_split(X_train_val, y_train_val, test_size=0.25, random_state=42)  # 将训练验证集进一步划分为训练集和验证集\n",
    "\n",
    "# 打印数据集大小\n",
    "print(f\"训练集大小: {X_train.shape[0]} 样本\")  # 显示训练集样本数量\n",
    "print(f\"验证集大小: {X_val.shape[0]} 样本\")  # 显示验证集样本数量\n",
    "print(f\"测试集大小: {X_test.shape[0]} 样本\")  # 显示测试集样本数量\n",
    "\n",
    "# 标准化特征\n",
    "scaler = StandardScaler()  # 创建标准化转换器\n",
    "X_train_scaled = scaler.fit_transform(X_train)  # 对训练集进行拟合和转换\n",
    "X_val_scaled = scaler.transform(X_val)  # 使用训练集的参数对验证集进行转换\n",
    "X_test_scaled = scaler.transform(X_test)  # 使用训练集的参数对测试集进行转换\n",
    "\n",
    "\n",
    "# %% cell 3 code\n",
    "\n",
    "# 自定义数据集类\n",
    "class HousingDataset(Dataset):\n",
    "    \"\"\"\n",
    "    加利福尼亚房价数据集的PyTorch数据集类\n",
    "    \n",
    "    参数:\n",
    "        features: 特征数据\n",
    "        targets: 目标值\n",
    "        wide_indices: 用于wide部分的特征索引\n",
    "        deep_indices: 用于deep部分的特征索引\n",
    "    \"\"\"\n",
    "    def __init__(self, features, targets):\n",
    "        self.features = torch.FloatTensor(features)  # 将特征转换为PyTorch张量\n",
    "        self.targets = torch.FloatTensor(targets).view(-1, 1)  # 确保目标是二维的\n",
    "    \n",
    "    def __len__(self):\n",
    "        return len(self.features)  # 返回数据集的大小\n",
    "    \n",
    "    def __getitem__(self, idx):\n",
    "        # 返回wide特征、deep特征和目标值\n",
    "        return self.features[idx], self.targets[idx]  # 返回指定索引的特征和目标\n",
    "\n",
    "# 创建数据集实例\n",
    "# 这里我们假设所有特征都用于wide和deep部分\n",
    "train_dataset = HousingDataset(X_train_scaled, y_train)  # 创建训练数据集\n",
    "val_dataset = HousingDataset(X_val_scaled, y_val)  # 创建验证数据集\n",
    "test_dataset = HousingDataset(X_test_scaled, y_test)  # 创建测试数据集\n",
    "\n",
    "# 创建数据加载器\n",
    "batch_size = 64  # 设置批次大小\n",
    "train_loader = DataLoader(train_dataset, batch_size=batch_size, shuffle=True)  # 创建训练数据加载器，打乱数据\n",
    "val_loader = DataLoader(val_dataset, batch_size=batch_size)  # 创建验证数据加载器\n",
    "test_loader = DataLoader(test_dataset, batch_size=batch_size)  # 创建测试数据加载器\n",
    "\n",
    "# 检查数据加载器是否正常工作\n",
    "sample_batch = next(iter(train_loader))  # 获取一个批次的样本\n",
    "print(f\"批次中的特征形状: {[x.shape for x in sample_batch[0]]}\")  # 打印特征的形状\n",
    "print(f\"批次中的目标形状: {sample_batch[1].shape}\")  # 打印目标的形状\n"
   ]
  },
  {
   "cell_type": "code",
   "execution_count": 4,
   "metadata": {},
   "outputs": [
    {
     "name": "stdout",
     "output_type": "stream",
     "text": [
      "RegressionModel(\n",
      "  (layer1): Linear(in_features=8, out_features=30, bias=True)\n",
      "  (activation): ReLU()\n",
      "  (output): Linear(in_features=30, out_features=1, bias=True)\n",
      ")\n"
     ]
    }
   ],
   "source": [
    "from torch import optim  # 导入PyTorch的优化器模块\n",
    "\n",
    "\n",
    "\n",
    "# 定义神经网络模型\n",
    "class RegressionModel(nn.Module):\n",
    "    \"\"\"\n",
    "    简单的回归神经网络模型，用于预测房价\n",
    "    \n",
    "    参数:\n",
    "        input_dim: 输入特征的维度\n",
    "    \"\"\"\n",
    "    def __init__(self, input_dim):\n",
    "        super(RegressionModel, self).__init__()\n",
    "        self.layer1 = nn.Linear(input_dim, 30)  # 第一个全连接层，将输入特征映射到30个神经元\n",
    "        self.activation = nn.ReLU()  # ReLU激活函数，引入非线性\n",
    "        self.output = nn.Linear(30, 1)  # 输出层，将30个神经元映射到1个输出（房价预测值）\n",
    "        \n",
    "    def forward(self, x):\n",
    "        x = self.activation(self.layer1(x))  # 通过第一层后应用ReLU激活函数\n",
    "        x = self.output(x)  # 通过输出层得到最终预测结果\n",
    "        return x  # 返回预测的房价值\n",
    "\n",
    "\n",
    "# 初始化模型、损失函数和优化器\n",
    "input_dim = X_train.shape[1]\n",
    "model = RegressionModel(input_dim)\n",
    "criterion = nn.MSELoss()\n",
    "optimizer = optim.Adam(model.parameters())\n",
    "\n",
    "# 打印模型结构\n",
    "print(model)"
   ]
  },
  {
   "cell_type": "code",
   "execution_count": 5,
   "metadata": {},
   "outputs": [],
   "source": [
    "# 评估模型\n",
    "def evaluate_regression_model(model, dataloader, device, criterion):\n",
    "    \"\"\"\n",
    "    评估回归模型在给定数据集上的性能\n",
    "    \n",
    "    参数:\n",
    "        model: 待评估的神经网络模型\n",
    "        dataloader: 数据加载器，包含要评估的数据\n",
    "        device: 计算设备（CPU或GPU）\n",
    "        criterion: 损失函数\n",
    "        \n",
    "    返回:\n",
    "        平均损失值\n",
    "    \"\"\"\n",
    "    model.eval()  # 将模型设置为评估模式，关闭dropout等训练特有操作\n",
    "    running_loss = 0.0  # 初始化累计损失值\n",
    "    \n",
    "    with torch.no_grad():  # 禁止 autograd 记录计算图，节省显存与算力\n",
    "        for inputs, targets in dataloader:  # 遍历数据加载器中的每个批次\n",
    "            inputs, targets = inputs.to(device), targets.to(device)  # 将输入和目标数据移至指定设备\n",
    "            outputs = model(inputs)  # 前向计算，获取模型预测结果\n",
    "            loss = criterion(outputs, targets)  # 计算预测结果与真实值之间的损失\n",
    "            \n",
    "            running_loss += loss.item() * inputs.size(0)  # 累加批次损失（乘以批次大小以获得总损失）\n",
    "    \n",
    "    return running_loss / len(dataloader.dataset)  # 返回平均损失（总损失除以样本数量）"
   ]
  },
  {
   "cell_type": "code",
   "execution_count": 10,
   "metadata": {},
   "outputs": [
    {
     "name": "stdout",
     "output_type": "stream",
     "text": [
      "正在训练学习率为 0.001 的模型...\n"
     ]
    },
    {
     "data": {
      "application/vnd.jupyter.widget-view+json": {
       "model_id": "f909b5ef54cd4e948f5dbb001598d8dc",
       "version_major": 2,
       "version_minor": 0
      },
      "text/plain": [
       "train progress:   0%|          | 0/19400 [00:00<?, ?it/s]"
      ]
     },
     "metadata": {},
     "output_type": "display_data"
    },
    {
     "name": "stdout",
     "output_type": "stream",
     "text": [
      "学习率 0.001 的验证集损失: 0.3265\n",
      "正在训练学习率为 0.005 的模型...\n"
     ]
    },
    {
     "data": {
      "application/vnd.jupyter.widget-view+json": {
       "model_id": "3bc5463a62c6415b948c6bcd744900eb",
       "version_major": 2,
       "version_minor": 0
      },
      "text/plain": [
       "train progress:   0%|          | 0/19400 [00:00<?, ?it/s]"
      ]
     },
     "metadata": {},
     "output_type": "display_data"
    },
    {
     "name": "stdout",
     "output_type": "stream",
     "text": [
      "学习率 0.005 的验证集损失: 0.2958\n",
      "正在训练学习率为 0.01 的模型...\n"
     ]
    },
    {
     "data": {
      "application/vnd.jupyter.widget-view+json": {
       "model_id": "577692b581f94c27a991b9a0137af12f",
       "version_major": 2,
       "version_minor": 0
      },
      "text/plain": [
       "train progress:   0%|          | 0/19400 [00:00<?, ?it/s]"
      ]
     },
     "metadata": {},
     "output_type": "display_data"
    },
    {
     "name": "stdout",
     "output_type": "stream",
     "text": [
      "早停触发! 最佳验证准确率: -0.2879\n",
      "早停: 已有10轮验证损失没有改善！\n",
      "学习率 0.01 的验证集损失: 0.3685\n",
      "正在训练学习率为 0.05 的模型...\n"
     ]
    },
    {
     "data": {
      "application/vnd.jupyter.widget-view+json": {
       "model_id": "a9adbf6dd86a4c4a9564441d64f887b8",
       "version_major": 2,
       "version_minor": 0
      },
      "text/plain": [
       "train progress:   0%|          | 0/19400 [00:00<?, ?it/s]"
      ]
     },
     "metadata": {},
     "output_type": "display_data"
    },
    {
     "name": "stdout",
     "output_type": "stream",
     "text": [
      "早停触发! 最佳验证准确率: -0.3382\n",
      "早停: 已有10轮验证损失没有改善！\n",
      "学习率 0.05 的验证集损失: 0.3534\n",
      "正在训练学习率为 0.1 的模型...\n"
     ]
    },
    {
     "data": {
      "application/vnd.jupyter.widget-view+json": {
       "model_id": "b6e7684f025340a9b8cbb013c54bc684",
       "version_major": 2,
       "version_minor": 0
      },
      "text/plain": [
       "train progress:   0%|          | 0/19400 [00:00<?, ?it/s]"
      ]
     },
     "metadata": {},
     "output_type": "display_data"
    },
    {
     "name": "stdout",
     "output_type": "stream",
     "text": [
      "早停触发! 最佳验证准确率: -0.3799\n",
      "早停: 已有10轮验证损失没有改善！\n",
      "学习率 0.1 的验证集损失: 0.4296\n",
      "最佳学习率: 0.005, 验证集损失: 0.2958\n"
     ]
    }
   ],
   "source": [
    "# 对学习率进行网格搜索\n",
    "learning_rates = [0.001, 0.005, 0.01, 0.05, 0.1]  # 定义要搜索的学习率列表\n",
    "results = {}  # 存储不同学习率的结果\n",
    "device = torch.device(\"cuda:0\" if torch.cuda.is_available() else \"cpu\")\n",
    "# 将模型和损失函数移动到指定设备\n",
    "criterion = criterion.to(device)\n",
    "\n",
    "# 遍历不同的学习率进行训练\n",
    "for lr in learning_rates:\n",
    "    print(f\"正在训练学习率为 {lr} 的模型...\")\n",
    "    \n",
    "    # 重新初始化模型\n",
    "    model = RegressionModel(input_dim).to(device)\n",
    "    \n",
    "    # 使用当前学习率创建优化器\n",
    "    optimizer = optim.Adam(model.parameters(), lr=lr)\n",
    "    \n",
    "    # 初始化早停和模型保存对象\n",
    "    early_stopping = EarlyStopping(patience=10, verbose=True)\n",
    "    model_saver = ModelSaver(save_dir=f'model_weights_lr_{lr}')\n",
    "    \n",
    "    # 训练模型\n",
    "    trained_model, record_dict = train_regression_model(\n",
    "        model=model,\n",
    "        train_loader=train_loader,\n",
    "        val_loader=val_loader,\n",
    "        criterion=criterion,\n",
    "        optimizer=optimizer,\n",
    "        num_epochs=100,\n",
    "        print_every=10,\n",
    "        eval_step=500,\n",
    "        early_stopping=early_stopping,\n",
    "        model_saver=model_saver,\n",
    "        device=device.type  # 传递设备类型字符串而不是设备对象\n",
    "    )\n",
    "    \n",
    "    # 在验证集上评估模型\n",
    "    val_loss = evaluate_regression_model(trained_model, val_loader, device, criterion)\n",
    "    results[lr] = {\n",
    "        'model': trained_model,\n",
    "        'record_dict': record_dict,\n",
    "        'val_loss': val_loss\n",
    "    }\n",
    "    print(f\"学习率 {lr} 的验证集损失: {val_loss:.4f}\")\n",
    "\n",
    "# 找出最佳学习率\n",
    "best_lr = min(results.keys(), key=lambda x: results[x]['val_loss'])\n",
    "print(f\"最佳学习率: {best_lr}, 验证集损失: {results[best_lr]['val_loss']:.4f}\")\n",
    "\n",
    "# 使用最佳模型和记录字典进行后续操作\n",
    "model = results[best_lr]['model']\n",
    "record_dict = results[best_lr]['record_dict']\n"
   ]
  },
  {
   "cell_type": "code",
   "execution_count": 11,
   "metadata": {},
   "outputs": [
    {
     "name": "stdout",
     "output_type": "stream",
     "text": [
      "测试集上的损失为0.2965\n"
     ]
    }
   ],
   "source": [
    "device = torch.device(\"cuda:0\" if torch.cuda.is_available() else \"cpu\")\n",
    "test_loss=evaluate_regression_model(model,test_loader,device,criterion)\n",
    "print(f\"测试集上的损失为{test_loss:.4f}\")"
   ]
  }
 ],
 "metadata": {
  "kernelspec": {
   "display_name": "Python 3",
   "language": "python",
   "name": "python3"
  },
  "language_info": {
   "codemirror_mode": {
    "name": "ipython",
    "version": 3
   },
   "file_extension": ".py",
   "mimetype": "text/x-python",
   "name": "python",
   "nbconvert_exporter": "python",
   "pygments_lexer": "ipython3",
   "version": "3.12.3"
  }
 },
 "nbformat": 4,
 "nbformat_minor": 2
}
