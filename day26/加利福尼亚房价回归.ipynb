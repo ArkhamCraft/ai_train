{
 "cells": [
  {
   "cell_type": "code",
   "execution_count": 7,
   "metadata": {},
   "outputs": [
    {
     "name": "stdout",
     "output_type": "stream",
     "text": [
      "数据集特征: ['MedInc', 'HouseAge', 'AveRooms', 'AveBedrms', 'Population', 'AveOccup', 'Latitude', 'Longitude']\n",
      "数据集形状: (20640, 8)\n",
      "目标变量形状: (20640,)\n",
      "\n",
      "训练集形状: (12384, 8)\n",
      "验证集形状: (4128, 8)\n",
      "测试集形状: (4128, 8)\n"
     ]
    }
   ],
   "source": [
    "import numpy as np\n",
    "import pandas as pd\n",
    "import matplotlib.pyplot as plt\n",
    "from sklearn.datasets import fetch_california_housing\n",
    "from sklearn.model_selection import train_test_split\n",
    "from sklearn.preprocessing import StandardScaler\n",
    "from torch.utils.data import Dataset, DataLoader\n",
    "import torch\n",
    "import matplotlib as mpl\n",
    "\n",
    "# 解决matplotlib中文显示问题\n",
    "plt.rcParams['font.sans-serif'] = ['SimHei']  # 用来正常显示中文标签\n",
    "plt.rcParams['axes.unicode_minus'] = False  # 用来正常显示负号\n",
    "mpl.rcParams['font.family'] = 'SimHei'  # 设置全局字体为黑体\n",
    "\n",
    "# 加载加利福尼亚房价数据集\n",
    "housing = fetch_california_housing()\n",
    "X = housing.data\n",
    "y = housing.target\n",
    "\n",
    "# 查看数据集基本信息\n",
    "print(\"数据集特征:\", housing.feature_names)\n",
    "print(\"数据集形状:\", X.shape)\n",
    "print(\"目标变量形状:\", y.shape)\n",
    "\n",
    "# 数据集拆分为训练集、验证集和测试集\n",
    "# 首先将数据分为训练集(80%)和测试集(20%)\n",
    "X_temp, X_test, y_temp, y_test = train_test_split(X, y, test_size=0.2, random_state=42)\n",
    "# 然后将训练集部分再次拆分为训练集(75%)和验证集(25%)，相当于整体数据的60%和20%\n",
    "X_train, X_val, y_train, y_val = train_test_split(X_temp, y_temp, test_size=0.25, random_state=42)\n",
    "\n",
    "print(\"\\n训练集形状:\", X_train.shape)  # 60%的数据\n",
    "print(\"验证集形状:\", X_val.shape)    # 20%的数据\n",
    "print(\"测试集形状:\", X_test.shape)   # 20%的数据\n",
    "\n",
    "# 标准化特征\n",
    "scaler = StandardScaler()\n",
    "X_train_scaled = scaler.fit_transform(X_train)\n",
    "X_test_scaled = scaler.transform(X_test)\n",
    "# 创建自定义数据集类，继承自PyTorch的Dataset类\n",
    "class CaliforniaHousingDataset(Dataset):\n",
    "    def __init__(self, features, targets):\n",
    "        \"\"\"\n",
    "        初始化数据集\n",
    "        \n",
    "        参数:\n",
    "            features: 房屋特征数据\n",
    "            targets: 房价目标值\n",
    "        \"\"\"\n",
    "        # 将NumPy数组转换为PyTorch张量\n",
    "        self.features = torch.FloatTensor(features)\n",
    "        # 确保目标值是二维张量，形状为[样本数, 1]\n",
    "        self.targets = torch.FloatTensor(targets).reshape(-1, 1)\n",
    "    \n",
    "    def __len__(self):\n",
    "        \"\"\"\n",
    "        返回数据集中样本的数量\n",
    "        \"\"\"\n",
    "        return len(self.features)\n",
    "    \n",
    "    def __getitem__(self, idx):\n",
    "        \"\"\"\n",
    "        根据索引返回对应的特征和标签\n",
    "        \n",
    "        参数:\n",
    "            idx: 样本索引\n",
    "            \n",
    "        返回:\n",
    "            特征张量和对应的目标值张量\n",
    "        \"\"\"\n",
    "        return self.features[idx], self.targets[idx]\n",
    "\n",
    "# 实例化训练集、验证集和测试集\n",
    "train_dataset = CaliforniaHousingDataset(X_train_scaled, y_train)\n",
    "val_dataset = CaliforniaHousingDataset(scaler.transform(X_val), y_val)\n",
    "test_dataset = CaliforniaHousingDataset(X_test_scaled, y_test)\n"
   ]
  },
  {
   "cell_type": "code",
   "execution_count": 5,
   "metadata": {},
   "outputs": [
    {
     "name": "stdout",
     "output_type": "stream",
     "text": [
      "模型结构:\n",
      "HousingModel(\n",
      "  (layer1): Linear(in_features=8, out_features=64, bias=True)\n",
      "  (layer2): Linear(in_features=64, out_features=32, bias=True)\n",
      "  (layer3): Linear(in_features=32, out_features=1, bias=True)\n",
      "  (relu): ReLU()\n",
      "  (dropout): Dropout(p=0.2, inplace=False)\n",
      ")\n",
      "模型总参数数量: 2689\n",
      "可训练参数数量: 2689\n",
      "\n",
      "模型结构详情:\n",
      "layer1.weight: torch.Size([64, 8])\n",
      "layer1.bias: torch.Size([64])\n",
      "layer2.weight: torch.Size([32, 64])\n",
      "layer2.bias: torch.Size([32])\n",
      "layer3.weight: torch.Size([1, 32])\n",
      "layer3.bias: torch.Size([1])\n"
     ]
    }
   ],
   "source": [
    "# 导入必要的PyTorch模块\n",
    "import torch.nn as nn\n",
    "from torch.utils.data import DataLoader\n",
    "\n",
    "# 创建数据加载器，用于批量训练\n",
    "batch_size = 64  # 每批处理的样本数量\n",
    "train_loader = DataLoader(train_dataset, batch_size=batch_size, shuffle=True)  # 训练集加载器，打乱数据\n",
    "val_loader = DataLoader(val_dataset, batch_size=batch_size)  # 验证集加载器\n",
    "test_loader = DataLoader(test_dataset, batch_size=batch_size)  # 测试集加载器\n",
    "\n",
    "# 定义神经网络模型\n",
    "class HousingModel(nn.Module):\n",
    "    def __init__(self, input_dim):\n",
    "        \"\"\"\n",
    "        初始化房价预测模型\n",
    "        \n",
    "        参数:\n",
    "            input_dim: 输入特征的维度\n",
    "        \"\"\"\n",
    "        super(HousingModel, self).__init__()\n",
    "        # 定义神经网络层\n",
    "        self.layer1 = nn.Linear(input_dim, 64)  # 第一层全连接层，输出64个神经元\n",
    "        self.layer2 = nn.Linear(64, 32)  # 第二层全连接层，输出32个神经元\n",
    "        self.layer3 = nn.Linear(32, 1)  # 输出层，输出房价预测值\n",
    "        self.relu = nn.ReLU()  # ReLU激活函数\n",
    "        self.dropout = nn.Dropout(0.2)  # Dropout层，防止过拟合，丢弃20%的神经元\n",
    "        \n",
    "    def forward(self, x):\n",
    "        \"\"\"\n",
    "        前向传播过程\n",
    "        \n",
    "        参数:\n",
    "            x: 输入特征张量\n",
    "            \n",
    "        返回:\n",
    "            模型预测的房价值\n",
    "        \"\"\"\n",
    "        x = self.relu(self.layer1(x))  # 第一层全连接后接ReLU激活\n",
    "        x = self.dropout(x)  # 应用dropout\n",
    "        x = self.relu(self.layer2(x))  # 第二层全连接后接ReLU激活\n",
    "        x = self.layer3(x)  # 输出层，无需激活函数\n",
    "        return x\n",
    "\n",
    "# 初始化模型、损失函数和优化器\n",
    "input_dim = X_train_scaled.shape[1]  # 获取特征维度\n",
    "model = HousingModel(input_dim)  # 创建模型实例\n",
    "criterion = nn.MSELoss()  # 使用均方误差损失函数，适合回归问题\n",
    "optimizer = torch.optim.Adam(model.parameters(), lr=0.001)  # 使用Adam优化器，学习率为0.001\n",
    "# 打印模型结构\n",
    "print(\"模型结构:\")\n",
    "print(model)\n",
    "\n",
    "# 打印模型参数数量\n",
    "total_params = sum(p.numel() for p in model.parameters())\n",
    "trainable_params = sum(p.numel() for p in model.parameters() if p.requires_grad)\n",
    "print(f\"模型总参数数量: {total_params}\")\n",
    "print(f\"可训练参数数量: {trainable_params}\")\n",
    "\n",
    "# 可视化网络结构\n",
    "print(\"\\n模型结构详情:\")\n",
    "for name, param in model.named_parameters():\n",
    "    print(f\"{name}: {param.shape}\")\n",
    "\n"
   ]
  },
  {
   "cell_type": "code",
   "execution_count": 8,
   "metadata": {},
   "outputs": [
    {
     "name": "stdout",
     "output_type": "stream",
     "text": [
      "开始训练模型...\n"
     ]
    },
    {
     "name": "stderr",
     "output_type": "stream",
     "text": [
      "训练进度:  11%|█         | 11/100 [00:01<00:12,  7.06it/s]"
     ]
    },
    {
     "name": "stdout",
     "output_type": "stream",
     "text": [
      "轮数 [10/100], 损失: 0.2640\n"
     ]
    },
    {
     "name": "stderr",
     "output_type": "stream",
     "text": [
      "训练进度:  21%|██        | 21/100 [00:03<00:11,  6.94it/s]"
     ]
    },
    {
     "name": "stdout",
     "output_type": "stream",
     "text": [
      "轮数 [20/100], 损失: 0.2635\n"
     ]
    },
    {
     "name": "stderr",
     "output_type": "stream",
     "text": [
      "训练进度:  31%|███       | 31/100 [00:04<00:09,  7.16it/s]"
     ]
    },
    {
     "name": "stdout",
     "output_type": "stream",
     "text": [
      "轮数 [30/100], 损失: 0.2576\n"
     ]
    },
    {
     "name": "stderr",
     "output_type": "stream",
     "text": [
      "训练进度:  41%|████      | 41/100 [00:05<00:08,  7.22it/s]"
     ]
    },
    {
     "name": "stdout",
     "output_type": "stream",
     "text": [
      "轮数 [40/100], 损失: 0.2536\n"
     ]
    },
    {
     "name": "stderr",
     "output_type": "stream",
     "text": [
      "训练进度:  51%|█████     | 51/100 [00:07<00:06,  7.10it/s]"
     ]
    },
    {
     "name": "stdout",
     "output_type": "stream",
     "text": [
      "轮数 [50/100], 损失: 0.2556\n"
     ]
    },
    {
     "name": "stderr",
     "output_type": "stream",
     "text": [
      "训练进度:  61%|██████    | 61/100 [00:08<00:05,  7.15it/s]"
     ]
    },
    {
     "name": "stdout",
     "output_type": "stream",
     "text": [
      "轮数 [60/100], 损失: 0.2532\n"
     ]
    },
    {
     "name": "stderr",
     "output_type": "stream",
     "text": [
      "训练进度:  71%|███████   | 71/100 [00:10<00:04,  7.11it/s]"
     ]
    },
    {
     "name": "stdout",
     "output_type": "stream",
     "text": [
      "轮数 [70/100], 损失: 0.2544\n"
     ]
    },
    {
     "name": "stderr",
     "output_type": "stream",
     "text": [
      "训练进度:  81%|████████  | 81/100 [00:11<00:02,  7.19it/s]"
     ]
    },
    {
     "name": "stdout",
     "output_type": "stream",
     "text": [
      "轮数 [80/100], 损失: 0.2546\n"
     ]
    },
    {
     "name": "stderr",
     "output_type": "stream",
     "text": [
      "训练进度:  91%|█████████ | 91/100 [00:12<00:01,  7.24it/s]"
     ]
    },
    {
     "name": "stdout",
     "output_type": "stream",
     "text": [
      "轮数 [90/100], 损失: 0.2513\n"
     ]
    },
    {
     "name": "stderr",
     "output_type": "stream",
     "text": [
      "训练进度: 100%|██████████| 100/100 [00:14<00:00,  7.09it/s]"
     ]
    },
    {
     "name": "stdout",
     "output_type": "stream",
     "text": [
      "轮数 [100/100], 损失: 0.2498\n"
     ]
    },
    {
     "name": "stderr",
     "output_type": "stream",
     "text": [
      "\n"
     ]
    },
    {
     "data": {
      "image/png": "[encoded data removed]",
      "text/plain": [
       "<Figure size 1000x600 with 1 Axes>"
      ]
     },
     "metadata": {},
     "output_type": "display_data"
    }
   ],
   "source": [
    "# 导入tqdm库用于显示训练进度条\n",
    "from tqdm import tqdm\n",
    "\n",
    "# 定义训练函数\n",
    "def train_model(model, train_loader, criterion, optimizer, num_epochs=100):\n",
    "    \"\"\"\n",
    "    训练模型函数\n",
    "    \n",
    "    参数:\n",
    "        model: 神经网络模型\n",
    "        train_loader: 训练数据加载器\n",
    "        criterion: 损失函数\n",
    "        optimizer: 优化器\n",
    "        num_epochs: 训练轮数\n",
    "    \n",
    "    返回:\n",
    "        训练过程中的损失列表\n",
    "    \"\"\"\n",
    "    # 记录训练损失\n",
    "    train_losses = []\n",
    "    \n",
    "    # 将模型设置为训练模式\n",
    "    model.train()\n",
    "    \n",
    "    # 使用tqdm创建训练轮数的进度条\n",
    "    for epoch in tqdm(range(num_epochs), desc=\"训练进度\"):\n",
    "        epoch_loss = 0.0\n",
    "        batch_count = 0\n",
    "        \n",
    "        # 遍历训练数据批次\n",
    "        for inputs, targets in train_loader:\n",
    "            # 清零梯度\n",
    "            optimizer.zero_grad()\n",
    "            \n",
    "            # 前向传播\n",
    "            outputs = model(inputs)\n",
    "            \n",
    "            # 计算损失\n",
    "            loss = criterion(outputs, targets)\n",
    "            \n",
    "            # 反向传播\n",
    "            loss.backward()\n",
    "            \n",
    "            # 更新参数\n",
    "            optimizer.step()\n",
    "            \n",
    "            # 累加批次损失\n",
    "            epoch_loss += loss.item()\n",
    "            batch_count += 1\n",
    "        \n",
    "        # 计算平均损失\n",
    "        avg_loss = epoch_loss / batch_count\n",
    "        train_losses.append(avg_loss)\n",
    "        \n",
    "        # 每10轮打印一次训练信息\n",
    "        if (epoch + 1) % 10 == 0:\n",
    "            print(f'轮数 [{epoch+1}/{num_epochs}], 损失: {avg_loss:.4f}')\n",
    "    \n",
    "    return train_losses\n",
    "\n",
    "# 训练模型\n",
    "print(\"开始训练模型...\")\n",
    "num_epochs = 100\n",
    "train_losses = train_model(model, train_loader, criterion, optimizer, num_epochs)\n",
    "\n",
    "# 可视化训练损失\n",
    "import matplotlib.pyplot as plt\n",
    "plt.figure(figsize=(10, 6))\n",
    "plt.plot(train_losses, label='训练损失')\n",
    "plt.title('训练过程中的损失变化')\n",
    "plt.xlabel('训练轮数')\n",
    "plt.ylabel('损失')\n",
    "plt.legend()\n",
    "plt.grid(True)\n",
    "plt.show()\n",
    "\n"
   ]
  },
  {
   "cell_type": "code",
   "execution_count": 9,
   "metadata": {},
   "outputs": [
    {
     "name": "stdout",
     "output_type": "stream",
     "text": [
      "模型评估结果:\n",
      "训练集均方误差 (MSE): 0.2341\n",
      "验证集均方误差 (MSE): 0.2720\n",
      "测试集均方误差 (MSE): 0.2756\n",
      "训练集均方根误差 (RMSE): 0.4838\n",
      "验证集均方根误差 (RMSE): 0.5215\n",
      "测试集均方根误差 (RMSE): 0.5250\n"
     ]
    }
   ],
   "source": [
    "\n",
    "# 定义评估函数\n",
    "def evaluate_model(model, data_loader):\n",
    "    model.eval()  # 设置为评估模式\n",
    "    total_loss = 0\n",
    "    total_samples = 0\n",
    "    criterion = nn.MSELoss()\n",
    "    \n",
    "    with torch.no_grad():  # 不计算梯度\n",
    "        for inputs, targets in data_loader:\n",
    "            # 前向传播\n",
    "            outputs = model(inputs)\n",
    "            \n",
    "            # 计算损失\n",
    "            loss = criterion(outputs, targets)\n",
    "            \n",
    "            # 累加损失和样本数\n",
    "            batch_size = inputs.size(0)\n",
    "            total_loss += loss.item() * batch_size\n",
    "            total_samples += batch_size\n",
    "    \n",
    "    # 计算平均损失（MSE）\n",
    "    avg_loss = total_loss / total_samples\n",
    "    return avg_loss\n",
    "\n",
    "# 评估模型\n",
    "print(\"模型评估结果:\")\n",
    "train_mse = evaluate_model(model, train_loader)\n",
    "val_mse = evaluate_model(model, val_loader)\n",
    "test_mse = evaluate_model(model, test_loader)\n",
    "\n",
    "print(f\"训练集均方误差 (MSE): {train_mse:.4f}\")\n",
    "print(f\"验证集均方误差 (MSE): {val_mse:.4f}\")\n",
    "print(f\"测试集均方误差 (MSE): {test_mse:.4f}\")\n",
    "\n",
    "# 计算RMSE（均方根误差）\n",
    "import numpy as np\n",
    "print(f\"训练集均方根误差 (RMSE): {np.sqrt(train_mse):.4f}\")\n",
    "print(f\"验证集均方根误差 (RMSE): {np.sqrt(val_mse):.4f}\")\n",
    "print(f\"测试集均方根误差 (RMSE): {np.sqrt(test_mse):.4f}\")\n"
   ]
  }
 ],
 "metadata": {
  "kernelspec": {
   "display_name": "Python 3",
   "language": "python",
   "name": "python3"
  },
  "language_info": {
   "codemirror_mode": {
    "name": "ipython",
    "version": 3
   },
   "file_extension": ".py",
   "mimetype": "text/x-python",
   "name": "python",
   "nbconvert_exporter": "python",
   "pygments_lexer": "ipython3",
   "version": "3.12.3"
  }
 },
 "nbformat": 4,
 "nbformat_minor": 2
}
